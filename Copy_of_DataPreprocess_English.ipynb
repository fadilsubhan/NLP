{
  "nbformat": 4,
  "nbformat_minor": 0,
  "metadata": {
    "colab": {
      "name": "Copy of DataPreprocess English.ipynb",
      "provenance": []
    },
    "kernelspec": {
      "name": "python3",
      "display_name": "Python 3"
    },
    "language_info": {
      "name": "python"
    }
  },
  "cells": [
    {
      "cell_type": "code",
      "metadata": {
        "id": "DtewvtOfdb0B"
      },
      "source": [
        "### Import Library yg dibutuhkan \n",
        "import requests\n",
        "from bs4 import BeautifulSoup\n",
        "import re"
      ],
      "execution_count": null,
      "outputs": []
    },
    {
      "cell_type": "code",
      "metadata": {
        "colab": {
          "base_uri": "https://localhost:8080/",
          "height": 108
        },
        "id": "JVhSHK3XgToo",
        "outputId": "04f314fe-9926-4a26-9c29-ba84a0391b5c"
      },
      "source": [
        "### Web Scraping\n",
        "results = requests.get('https://webscraper.io/blog/scraping-customer-reviews')\n",
        "results.text"
      ],
      "execution_count": null,
      "outputs": [
        {
          "output_type": "execute_result",
          "data": {
            "application/vnd.google.colaboratory.intrinsic+json": {
              "type": "string"
            },
            "text/plain": [
              "'<!DOCTYPE html>\\n<html lang=\"en\">\\n<head>\\n\\n\\t\\t\\t<!-- Anti-flicker snippet (recommended)  -->\\n<style>.async-hide {\\n\\t\\topacity: 0 !important\\n\\t} </style>\\n<script>(function (a, s, y, n, c, h, i, d, e) {\\n\\t\\ts.className += \\' \\' + y;\\n\\t\\th.start = 1 * new Date;\\n\\t\\th.end = i = function () {\\n\\t\\t\\ts.className = s.className.replace(RegExp(\\' ?\\' + y), \\'\\')\\n\\t\\t};\\n\\t\\t(a[n] = a[n] || []).hide = h;\\n\\t\\tsetTimeout(function () {\\n\\t\\t\\ti();\\n\\t\\t\\th.end = null\\n\\t\\t}, c);\\n\\t\\th.timeout = c;\\n\\t})(window, document.documentElement, \\'async-hide\\', \\'dataLayer\\', 4000,\\n\\t\\t{\\'GTM-NVFPDWB\\': true});</script>\\n\\t\\n\\t<!-- Google Tag Manager -->\\n<script>(function (w, d, s, l, i) {\\n\\t\\tw[l] = w[l] || [];\\n\\t\\tw[l].push({\\n\\t\\t\\t\\'gtm.start\\':\\n\\t\\t\\t\\tnew Date().getTime(), event: \\'gtm.js\\'\\n\\t\\t});\\n\\t\\tvar f = d.getElementsByTagName(s)[0],\\n\\t\\t\\tj = d.createElement(s), dl = l != \\'dataLayer\\' ? \\'&l=\\' + l : \\'\\';\\n\\t\\tj.async = true;\\n\\t\\tj.src =\\n\\t\\t\\t\\'https://www.googletagmanager.com/gtm.js?id=\\' + i + dl;\\n\\t\\tf.parentNode.insertBefore(j, f);\\n\\t})(window, document, \\'script\\', \\'dataLayer\\', \\'GTM-NVFPDWB\\');</script>\\n<!-- End Google Tag Manager -->\\n\\t<title>Why Should You Scrape Customer Reviews?</title>\\n\\t<meta charset=\"utf-8\">\\n\\t<meta http-equiv=\"X-UA-Compatible\" content=\"IE=edge,chrome=1\">\\n\\n\\t<meta name=\"keywords\"\\n\\t      content=\"Analysis, Data\"/>\\n\\t<meta name=\"description\"\\n\\t      content=\"The most popular web scraping extension. Start scraping in minutes. Automate your tasks with our Cloud Scraper. No software to download, no coding needed.\"/>\\n\\t<link rel=\"icon\" sizes=\"128x128\" href=\"/favicon.png\">\\n\\n\\t<meta name=\"viewport\" content=\"width=device-width, initial-scale=1.0\">\\n\\t\\n\\t<link rel=\"stylesheet\" href=\"/css/app.css?id=e4de8db16b64e604046e\">\\n\\n\\t<link rel=\"canonical\" href=\"https://webscraper.io/blog/scraping-customer-reviews\">\\n\\t<link rel=\"apple-touch-icon\" href=\"/img/logo-icon.png\">\\n\\n\\t\\t<script defer src=\"/js/app.js?id=e64f07a3ce1d466cf04c\"></script>\\n\\n\\t\\t\\n\\t\\n\\t\\t\\t<meta property=\"og:image\" content=\"https://blog-images.webscraper.io/images/Q8NK5SBOpRH0eu5vuekeOSzisuGm7sA3VGg1pewd.png\"/>\\n\\t\\n\\t<meta name=\"twitter:card\" content=\"summary\"/>\\n\\n\\t\\n\\t\\n</head>\\n<body>\\n<!-- Google Tag Manager (noscript) -->\\n<noscript>\\n\\t<iframe src=\"https://www.googletagmanager.com/ns.html?id=GTM-NVFPDWB\"\\n\\t        height=\"0\" width=\"0\" style=\"display:none;visibility:hidden\"></iframe>\\n</noscript>\\n<!-- End Google Tag Manager (noscript) -->\\n<header role=\"banner\" class=\"navbar navbar-fixed-top navbar-static\">\\n\\t<div class=\"container\">\\n\\n\\t\\t<div class=\"navbar-header\">\\n\\n\\t\\t\\t<a data-toggle=\"collapse-side\" data-target=\".side-collapse\" data-target-2=\".side-collapse-container\">\\n\\t\\t\\t\\t<button type=\"button\" class=\"navbar-toggle pull-right collapsed\" data-toggle=\"collapse\"\\n\\t\\t\\t\\t        data-target=\"#navbar\" data-target-2=\".side-collapse-container\" data-target-3=\".side-collapse\"\\n\\t\\t\\t\\t        aria-expanded=\"false\" aria-controls=\"navbar\">\\n\\n\\t\\t\\t\\t\\t<span class=\"sr-only\">Toggle navigation</span>\\n\\t\\t\\t\\t\\t<span class=\"icon-bar top-bar\"></span>\\n\\t\\t\\t\\t\\t<span class=\"icon-bar middle-bar\"></span>\\n\\t\\t\\t\\t\\t<span class=\"icon-bar bottom-bar\"></span>\\n\\n\\t\\t\\t\\t</button>\\n\\t\\t\\t</a>\\n\\t\\t\\t<div class=\"navbar-brand\">\\n\\t\\t\\t\\t<a href=\"/\"><img src=\"/img/logo_white.svg\" alt=\"Web Scraper\"></a>\\n\\t\\t\\t</div>\\n\\t\\t</div>\\n\\n\\t\\t<div class=\"side-collapse in\">\\n\\t\\t\\t<nav id=\"navbar\" role=\"navigation\" class=\"navbar-collapse collapse\">\\n\\t\\t\\t\\t<ul class=\"nav navbar-nav navbar-right\">\\n\\t\\t\\t\\t\\t<li class=\"hidden\">\\n\\t\\t\\t\\t\\t\\t<a href=\"#page-top\"></a>\\n\\t\\t\\t\\t\\t</li>\\n\\t\\t\\t\\t\\t\\n\\t\\t\\t\\t\\t\\n\\t\\t\\t\\t\\t\\n\\t\\t\\t\\t\\t\\n\\t\\t\\t\\t\\t\\n\\t\\t\\t\\t\\t\\n\\t\\t\\t\\t\\t\\n\\t\\t\\t\\t\\t<li>\\n\\t\\t\\t\\t\\t\\t<a href=\"/\" class=\"menuitm\">\\n\\t\\t\\t\\t\\t\\t\\t<p>Web Scraper</p>\\n\\t\\t\\t\\t\\t\\t\\t<div class=\"crta\"></div>\\n\\t\\t\\t\\t\\t\\t</a>\\n\\t\\t\\t\\t\\t</li>\\n\\t\\t\\t\\t\\t<li>\\n\\t\\t\\t\\t\\t\\t<a href=\"/cloud-scraper\" class=\"menuitm\">\\n\\t\\t\\t\\t\\t\\t\\t<p>Cloud Scraper</p>\\n\\t\\t\\t\\t\\t\\t\\t<div class=\"crta\"></div>\\n\\t\\t\\t\\t\\t\\t</a>\\n\\t\\t\\t\\t\\t</li>\\n\\t\\t\\t\\t\\t<li>\\n\\t\\t\\t\\t\\t\\t<a href=\"/pricing\" class=\"menuitm\">\\n\\t\\t\\t\\t\\t\\t\\t<p>Pricing</p>\\n\\t\\t\\t\\t\\t\\t\\t<div class=\"crta\"></div>\\n\\t\\t\\t\\t\\t\\t</a>\\n\\t\\t\\t\\t\\t</li>\\n\\t\\t\\t\\t\\t\\n\\t\\t\\t\\t\\t\\n\\t\\t\\t\\t\\t\\n\\t\\t\\t\\t\\t\\n\\t\\t\\t\\t\\t\\n\\t\\t\\t\\t\\t\\n\\t\\t\\t\\t\\t\\n\\t\\t\\t\\t\\t\\n\\t\\t\\t\\t\\t\\n\\t\\t\\t\\t\\t\\n\\t\\t\\t\\t\\t<li class=\"dropdown\">\\n\\t\\t\\t\\t\\t\\t<a href=\"#section3\" class=\"menuitm dropdown-toggle\" data-toggle=\"dropdown\">\\n\\t\\t\\t\\t\\t\\t\\t<p>Learn</p>\\n\\t\\t\\t\\t\\t\\t\\t<div class=\"crta\"></div>\\n\\t\\t\\t\\t\\t\\t</a>\\n\\t\\t\\t\\t\\t\\t<ul class=\"dropdown-menu\">\\n\\t\\t\\t\\t\\t\\t\\t<li>\\n\\t\\t\\t\\t\\t\\t\\t\\t<a href=\"/documentation\">Documentation</a>\\n\\t\\t\\t\\t\\t\\t\\t</li>\\n\\t\\t\\t\\t\\t\\t\\t<li>\\n\\t\\t\\t\\t\\t\\t\\t\\t<a href=\"/tutorials\">Video Tutorials</a>\\n\\t\\t\\t\\t\\t\\t\\t</li>\\n\\t\\t\\t\\t\\t\\t\\t<li>\\n\\t\\t\\t\\t\\t\\t\\t\\t<a href=\"/how-to-videos\">How to</a>\\n\\t\\t\\t\\t\\t\\t\\t</li>\\n\\t\\t\\t\\t\\t\\t\\t<li>\\n\\t\\t\\t\\t\\t\\t\\t\\t<a href=\"/test-sites\">Test Sites</a>\\n\\t\\t\\t\\t\\t\\t\\t</li>\\n\\t\\t\\t\\t\\t\\t\\t<li>\\n\\t\\t\\t\\t\\t\\t\\t\\t<a href=\"https://forum.webscraper.io/\" target=\"_blank\" rel=\"noopener\">Forum</a>\\n\\t\\t\\t\\t\\t\\t\\t</li>\\n\\t\\t\\t\\t\\t\\t</ul>\\n\\t\\t\\t\\t\\t</li>\\n\\t\\t\\t\\t\\t<li>\\n\\t\\t\\t\\t\\t\\t<a target=\"_blank\" href=\"https://chrome.google.com/webstore/detail/web-scraper/jnhgnonknehpejjnehehllkliplmbmhn?hl=en\" class=\"btn-menu1 install-extension\" rel=\"noopener\">Install</a>\\n\\t\\t\\t\\t\\t</li>\\n\\t\\t\\t\\t\\t<li>\\n\\t\\t\\t\\t\\t\\t<a href=\"https://cloud.webscraper.io/\" class=\"btn-menu2\">Login</a>\\n\\t\\t\\t\\t\\t</li>\\n\\t\\t\\t\\t</ul>\\n\\t\\t\\t</nav>\\n\\t\\t</div>\\n\\t</div>\\n</header>\\n\\n<div class=\"wrapper\">\\n\\t\\t<div class=\"formenu-here container-fluid\">\\n\\n\\t</div>\\n\\n\\t\\t<div class=\"container-fluid blog-page\">\\n\\t\\t<div class=\"container blog-content-container\">\\n\\t\\t\\t<div class=\"row\">\\n\\t\\t\\t\\t<div class=\"col-md-12\">\\n\\t\\t\\t\\t\\t<div class=\"bloginside\" itemscope itemtype=\"https://schema.org/Blog\">\\n\\t\\t\\t\\t\\t\\t<h1 itemprop=\"headline\">Why Should You Scrape Customer Reviews?</h1>\\n\\t\\t\\t\\t\\t\\t<p class=\"date\" itemprop=\"datePublished\">June 01, 2021</p>\\n\\t\\t\\t\\t\\t\\t<p class=\"category\" itemprop=\"keywords\">Analysis, Data</p>\\n\\n\\t\\t\\t\\t\\t\\t<ul class=\"share-buttons\">\\n\\t<li class=\"share-on-social facebook\">\\n\\t\\t<a class=\"share-button\" id=\"fbShareBtn\">\\n\\t\\t\\t<i class=\"fa fa-facebook\"></i>\\n\\t\\t</a>\\n\\t\\t<script>\\n\\t\\t\\tdocument.getElementById(\\'fbShareBtn\\').onclick = function () {\\n\\t\\t\\t\\twindow.open(\"https://www.facebook.com/sharer/sharer.php?u=\" + window.location.href, \"pop\", \"width=800, height=600, scrollbars=no\");\\n\\t\\t\\t};\\n\\t\\t</script>\\n\\t</li>\\n\\n\\t<li class=\"share-on-social twitter\">\\n\\t\\t<a class=\"share-button\" id=\"twitterShareBtn\">\\n\\t\\t\\t<i class=\"fa fa-twitter\"></i>\\n\\t\\t</a>\\n\\t\\t<script>\\n\\t\\t\\tdocument.getElementById(\\'twitterShareBtn\\').onclick = function () {\\n\\t\\t\\t\\twindow.open(\"https://twitter.com/intent/tweet?url=\" + encodeURIComponent(window.location.href), \"pop\", \"width=800, height=600, scrollbars=no\");\\n\\t\\t\\t};\\n\\t\\t</script>\\n\\t</li>\\n\\n\\t<li class=\"share-on-social linkedin\">\\n\\t\\t<a class=\"share-button\" id=\"linkedinShareBtn\">\\n\\t\\t\\t<i class=\"fa fa-linkedin\"></i>\\n\\t\\t</a>\\n\\t\\t<script>\\n\\t\\t\\tdocument.getElementById(\\'linkedinShareBtn\\').onclick = function () {\\n\\t\\t\\t\\twindow.open(\"https://www.linkedin.com/shareArticle?mini=true&url=\" + window.location.href, \"pop\", \"width=800, height=600, scrollbars=no\");\\n\\t\\t\\t};\\n\\t\\t</script>\\n\\t</li>\\n\\n\\t<li class=\"share-on-social reddit\">\\n\\t\\t<a class=\"share-button\" id=\"redditShareBtn\">\\n\\t\\t\\t<i class=\"fa fa-reddit\"></i>\\n\\t\\t</a>\\n\\t\\t<script>\\n\\t\\t\\tdocument.getElementById(\\'redditShareBtn\\').onclick = function () {\\n\\t\\t\\t\\twindow.open(\"http://www.reddit.com/submit?url=\" + window.location.href, \"pop\", \"width=800, height=600, scrollbars=no\");\\n\\t\\t\\t};\\n\\t\\t</script>\\n\\t</li>\\n\\n\\t<li class=\"share-on-social whatsapp\">\\n\\t\\t<a class=\"share-button\" id=\"whatsappShareBtn\">\\n\\t\\t\\t<i class=\"fa fa-whatsapp\"></i>\\n\\t\\t</a>\\n\\t\\t<script>\\n\\t\\t\\tdocument.getElementById(\\'whatsappShareBtn\\').onclick = function () {\\n\\t\\t\\t\\twindow.open(\"https://wa.me/?text=\" + encodeURIComponent(window.location.href), \"pop\", \"width=800, height=600, scrollbars=no\");\\n\\t\\t\\t};\\n\\t\\t</script>\\n\\t</li>\\n\\n\\t<li class=\"share-on-social telegram\">\\n\\t\\t<a class=\"share-button\" id=\"telegramShareBtn\">\\n\\t\\t\\t<i class=\"fa fa-send\"></i>\\n\\t\\t</a>\\n\\t\\t<script>\\n\\t\\t\\tdocument.getElementById(\\'telegramShareBtn\\').onclick = function () {\\n\\t\\t\\t\\twindow.open(\"https://t.me/share/url?url=\" + encodeURIComponent(window.location.href), \"pop\", \"width=800, height=600, scrollbars=no\");\\n\\t\\t\\t};\\n\\t\\t</script>\\n\\t</li>\\n</ul>\\n\\n\\t\\t\\t\\t\\t\\t<div class=\"image-container\">\\n\\t\\t\\t\\t\\t\\t\\t<img class=\"img-responsive\" src=\"https://blog-images.webscraper.io/images/Q8NK5SBOpRH0eu5vuekeOSzisuGm7sA3VGg1pewd.png\" itemprop=\"image\" alt=Scraping-Customer-Reviews-Blog-Image>\\n\\t\\t\\t\\t\\t\\t</div>\\n\\n\\t\\t\\t\\t\\t\\t<div itemprop=\"text\">\\n\\t\\t\\t\\t\\t\\t\\t<p>Just like a vehicle tire leaves an imprint in the mud which can be washed away only by a great storm or rainfall, an impression leaves an impact on a product which then becomes the formatting foundation of an opinion that can not be altered easily. For this simple reason, creating an interesting, positive, and captivating impression on your customers will go a long way for your business\\'s success and overall reputation.</p><hr><p>Thanks to the internet - customer reviews, which are basically the text format of different impressions and opinions about a product, almost every business can monitor their reputation, develop various analyses, and build trust upon them. Keeping up with what your customers are saying does not only harvest the previously mentioned benefits but also by making it visible to the customers that they are heard and acknowledged, builds loyalty which can last even in the lowest phases of a business.</p><p>Customer reviews also work as filters. Since almost everyone seeks out opinions, recommendations, testimonials, and reviews before choosing or committing to a product; therefore, either approving or disapproving their own impressions or gaining a completely brand new look on a specific product. It is a way for potential customers to filter out businesses that have a terrible reputation, even cases of fraud when a certain business misleads the public for personal gain. In many cases, it can be seen regarding sustainability claims.</p><p>As we have established, customer reviews are important - extremely important. However, they are only as valuable as their practical implications in business processes. The usage spectrum of customer reviews is quite large, and time after time businesses find new ways of gaining extra momentum, a more astonishing way of absorbing every positive aspect of their customer opinions. The most popular and practical implications are:</p><ul><li>Analyses;</li><li>Monitoring;</li><li>Development;</li><li>Social profiling.</li></ul><h2>Analyses.</h2><p>Simple read-through, or text-based sentiment analysis to understand the overall attitude of the customers to a specific product is a primitive must. However, that is not all that can be analyzed through customer reviews. In fact, market research can be maximized with the usage of customer reviews. One of the aspects of market research includes the changing attitudes of a specific industry; therefore, collecting “potential competitor” customer reviews, an over-period customer analysis can give a great insight into whether the market is in its rise or fall period. Also, customer reviews, of course, are an enormous part of marketing analysis. When, for example, creating a SWOT (strengths, weaknesses, opportunities, threats) analysis, customer reviews alone can provide essential insights into businesses\\' strengths and weaknesses.</p><h2>Monitoring.</h2><p>When it comes to opinions and impressions, sometimes it is important and quite insightful to acknowledge what people are saying about, not only your own products but also about competitors\\' products. In many cases by comparing the two positions, many businesses are able to pinpoint their unique selling point/-s (USP) which then play an enormous role in further development and growth. Apart from customer reviews helping to recognize unique selling point/-s and other useful information, as mentioned previously, it is important to keep monitoring the customer reviews for the purpose of keeping up with the opinions. And also, together with development - create trust and loyalty within.</p><h2>Development.</h2><p>Resonating with analyses and monitoring, major developments are mostly acknowledged and done on the basis of customer reviews and opinions. It is fair to say that most companies have created their product to serve a need for something, for people - potential customer markets; therefore, customers are the first to suggest any changes, discuss improvements, and also, are not shy to speak about inconsistencies or aspects that the product is not fulfilling. Criticism is only bad if not acknowledged; therefore, even the negative comments can have a certain positive output.</p><h2>Social profiling.</h2><p>Fitting in the sphere of marketing - customer reviews are important for building your social profile. For a reason, numerous companies have dedicated a section of their, for example, landing page to display various customer reviews. It all resonates back to building trust and social profile that the business is looking to be perceived as, and thanks to customer reviews, this perception can be strengthened, and loyalty built. Social proof itself is a psychological and social phenomenon that describes the process of people\\'s instinct to follow the actions of others, considering that it builds trust and credibility.</p><p>However, when dealing with opinions and reviews, one or two, are not enough to even briefly judge a product or a whole concept. Therefore, being able to collect as many customer reviews as possible will ensure that the sample size for any business research or analysis is not too small. This is where scraping comes in handy. One should hire an entire “customer reviews gathering” team to manually collect enough data; however, with web scraping it takes only one person, and potentially only a few minutes to collect enough data to yield more accurate insights.</p><p>In conclusion, customer reviews can help to gain great advantages and advancements, and applying web scraping technologies one should never worry about too small of sample size or the process taking ages. A great way to enhance, advance, and keep efficient at the same time.</p><p>Happy scraping!</p><p><br></p>\\n\\t\\t\\t\\t\\t\\t</div>\\n\\n\\t\\t\\t\\t\\t\\t<div class=\"crta\"></div>\\n\\n\\t\\t\\t\\t\\t\\t<a class=\"linkforback\" href=\"/blog\"><i class=\"fa fa-angle-left\"></i> Go\\n\\t\\t\\t\\t\\t\\t\\tback to blog page</a>\\n\\t\\t\\t\\t\\t</div>\\n\\t\\t\\t\\t</div>\\n\\t\\t\\t\\t\\n\\t\\t\\t</div>\\n\\t\\t</div>\\n\\t</div>\\n\\t<div class=\"clearfix\"></div>\\n\\t<div class=\"push\"></div>\\n</div>\\n\\n<div class=\"container-fluid footer\" id=\"layout-footer\">\\n\\t<div class=\"container\">\\n\\t\\t<div class=\"row\">\\n\\t\\t\\t<div class=\"col-md-3\">\\n\\t\\t\\t\\t<ul>\\n\\t\\t\\t\\t\\t<li><p>Products</p></li>\\n\\t\\t\\t\\t\\t<li>\\n\\t\\t\\t\\t\\t\\t<a href=\"/\">Web Scraper browser extension</a>\\n\\t\\t\\t\\t\\t</li>\\n\\t\\t\\t\\t\\t<li>\\n\\t\\t\\t\\t\\t\\t<a href=\"/pricing\">Web Scraper Cloud</a>\\n\\t\\t\\t\\t\\t</li>\\n\\t\\t\\t\\t\\t\\t\\t\\t\\t\\t\\n\\t\\t\\t\\t\\t\\n\\t\\t\\t\\t</ul>\\n\\t\\t\\t</div>\\n\\t\\t\\t<div class=\"col-md-3\">\\n\\t\\t\\t\\t<ul>\\n\\t\\t\\t\\t\\t<li><p>Company</p></li>\\n\\t\\t\\t\\t\\t\\n\\t\\t\\t\\t\\t<li><a href=\"/contact\">Contact</a>\\n\\t\\t\\t\\t\\t</li>\\n\\t\\t\\t\\t\\t\\n\\t\\t\\t\\t\\t<li>\\n\\t\\t\\t\\t\\t\\t<a href=\"/privacy-policy\">Website Privacy Policy</a>\\n\\t\\t\\t\\t\\t</li>\\n\\t\\t\\t\\t\\t<li>\\n\\t\\t\\t\\t\\t\\t<a href=\"/extension-privacy-policy\">Browser Extension Privacy Policy</a>\\n\\t\\t\\t\\t\\t</li>\\n\\t\\t\\t\\t\\t<li>\\n\\t\\t\\t\\t\\t\\t<a href=\"http://webscraperio.us-east-1.elasticbeanstalk.com/downloads/Web_Scraper_Media_Kit.zip\">Media kit</a>\\n\\t\\t\\t\\t\\t</li>\\n\\t\\t\\t\\t\\t\\n\\t\\t\\t\\t\\t<li><a href=\"/jobs\">Jobs</a></li>\\n\\t\\t\\t\\t</ul>\\n\\t\\t\\t</div>\\n\\t\\t\\t<div class=\"col-md-3\">\\n\\t\\t\\t\\t<ul>\\n\\t\\t\\t\\t\\t<li><p>Resources</p></li>\\n\\t\\t\\t\\t\\t<li><a href=\"/blog\">Blog</a></li>\\n\\t\\t\\t\\t\\t<li>\\n\\t\\t\\t\\t\\t\\t<a href=\"/documentation\">Documentation</a>\\n\\t\\t\\t\\t\\t</li>\\n\\t\\t\\t\\t\\t<li>\\n\\t\\t\\t\\t\\t\\t<a href=\"/tutorials\">Video Tutorials</a>\\n\\t\\t\\t\\t\\t</li>\\n\\t\\t\\t\\t\\t<li>\\n\\t\\t\\t\\t\\t\\t<a href=\"/screenshots\">Screenshots</a>\\n\\t\\t\\t\\t\\t</li>\\n\\t\\t\\t\\t\\t<li>\\n\\t\\t\\t\\t\\t\\t<a href=\"/test-sites\">Test Sites</a>\\n\\t\\t\\t\\t\\t</li>\\n\\t\\t\\t\\t\\t<li>\\n\\t\\t\\t\\t\\t\\t<a target=\"_blank\" href=\"https://forum.webscraper.io/\" rel=\"noopener\">Forum</a>\\n\\t\\t\\t\\t\\t</li>\\n\\t\\t\\t\\t</ul>\\n\\t\\t\\t</div>\\n\\t\\t\\t<div class=\"col-md-3\">\\n\\t\\t\\t\\t<ul>\\n\\t\\t\\t\\t\\t<li><p>CONTACT US</p></li>\\n\\t\\t\\t\\t\\t<li>\\n\\t\\t\\t\\t\\t\\t<a href=\"mailto:info@webscraper.io\">info@webscraper.io</a>\\n\\t\\t\\t\\t\\t</li>\\n\\t\\t\\t\\t\\t\\n\\t\\t\\t\\t\\t<li>Rupniecibas iela 30,<br> Riga, Latvia, LV-1045</li>\\n\\t\\t\\t\\t</ul>\\n\\t\\t\\t\\t<ul class=\"smedia\">\\n\\t\\t\\t\\t\\t<li>\\n\\t\\t\\t\\t\\t\\t<a href=\"https://www.facebook.com/webscraperio/\" target=\"_blank\" rel=\"noopener\"><img src=\"/img/fbicon.png\" alt=\"Web Scraper on Facebook\"></a>\\n\\t\\t\\t\\t\\t</li>\\n\\t\\t\\t\\t\\t<li>\\n\\t\\t\\t\\t\\t\\t<a href=\"https://twitter.com/webscraperio\" target=\"_blank\" rel=\"noopener\"><img src=\"/img/twicon.png\" alt=\"Web Scraper on Twitter\"></a>\\n\\t\\t\\t\\t\\t</li>\\n\\t\\t\\t\\t\\t\\n\\n\\t\\t\\t\\t</ul>\\n\\t\\t\\t</div>\\n\\t\\t</div>\\n\\t\\t<div class=\"row\">\\n\\t\\t\\t<div class=\"col-md-12\">\\n\\t\\t\\t\\t<p class=\"copyright\">Copyright &copy 2021\\n\\t\\t\\t\\t\\t<a href=\"#\">Web Scraper</a> | All rights\\n\\t\\t\\t\\t\\treserved | Made by zoom59</p>\\n\\t\\t\\t</div>\\n\\t\\t</div>\\n\\t</div>\\n</div>\\n\\n\\n</body>\\n</html>\\n'"
            ]
          },
          "metadata": {},
          "execution_count": 2
        }
      ]
    },
    {
      "cell_type": "code",
      "metadata": {
        "colab": {
          "base_uri": "https://localhost:8080/",
          "height": 35
        },
        "id": "YHZ-_I5jgh5d",
        "outputId": "168a0bc4-caae-42c2-8bb5-3fd3f57f2bff"
      },
      "source": [
        "### Encoding\n",
        "results.encoding = results.apparent_encoding \n",
        "results.encoding "
      ],
      "execution_count": null,
      "outputs": [
        {
          "output_type": "execute_result",
          "data": {
            "application/vnd.google.colaboratory.intrinsic+json": {
              "type": "string"
            },
            "text/plain": [
              "'utf-8'"
            ]
          },
          "metadata": {},
          "execution_count": 3
        }
      ]
    },
    {
      "cell_type": "code",
      "metadata": {
        "id": "KdsilFEDihZC"
      },
      "source": [
        "### Parsing\n",
        "WP = BeautifulSoup(results.text, 'html.parser')  "
      ],
      "execution_count": null,
      "outputs": []
    },
    {
      "cell_type": "code",
      "metadata": {
        "colab": {
          "base_uri": "https://localhost:8080/"
        },
        "id": "9Pwc-bgpj8qC",
        "outputId": "16e40633-0c61-406c-cd01-6321154bc5d0"
      },
      "source": [
        "WP.find('p')"
      ],
      "execution_count": null,
      "outputs": [
        {
          "output_type": "execute_result",
          "data": {
            "text/plain": [
              "<p>Web Scraper</p>"
            ]
          },
          "metadata": {},
          "execution_count": 5
        }
      ]
    },
    {
      "cell_type": "code",
      "metadata": {
        "colab": {
          "base_uri": "https://localhost:8080/",
          "height": 35
        },
        "id": "zLA4X3Y2kAro",
        "outputId": "3329cc52-9918-4bb3-fc42-db12afe5af0e"
      },
      "source": [
        "WP.find('p').getText()"
      ],
      "execution_count": null,
      "outputs": [
        {
          "output_type": "execute_result",
          "data": {
            "application/vnd.google.colaboratory.intrinsic+json": {
              "type": "string"
            },
            "text/plain": [
              "'Web Scraper'"
            ]
          },
          "metadata": {},
          "execution_count": 6
        }
      ]
    },
    {
      "cell_type": "code",
      "metadata": {
        "colab": {
          "base_uri": "https://localhost:8080/"
        },
        "id": "RrdX3jJZkECA",
        "outputId": "e46bb097-fd71-463d-de88-b5ddda765a7b"
      },
      "source": [
        "### mengambil semua text dari website\n",
        "WP.find_all('p')"
      ],
      "execution_count": null,
      "outputs": [
        {
          "output_type": "execute_result",
          "data": {
            "text/plain": [
              "[<p>Web Scraper</p>,\n",
              " <p>Cloud Scraper</p>,\n",
              " <p>Pricing</p>,\n",
              " <p>Learn</p>,\n",
              " <p class=\"date\" itemprop=\"datePublished\">June 01, 2021</p>,\n",
              " <p class=\"category\" itemprop=\"keywords\">Analysis, Data</p>,\n",
              " <p>Just like a vehicle tire leaves an imprint in the mud which can be washed away only by a great storm or rainfall, an impression leaves an impact on a product which then becomes the formatting foundation of an opinion that can not be altered easily. For this simple reason, creating an interesting, positive, and captivating impression on your customers will go a long way for your business's success and overall reputation.</p>,\n",
              " <p>Thanks to the internet - customer reviews, which are basically the text format of different impressions and opinions about a product, almost every business can monitor their reputation, develop various analyses, and build trust upon them. Keeping up with what your customers are saying does not only harvest the previously mentioned benefits but also by making it visible to the customers that they are heard and acknowledged, builds loyalty which can last even in the lowest phases of a business.</p>,\n",
              " <p>Customer reviews also work as filters. Since almost everyone seeks out opinions, recommendations, testimonials, and reviews before choosing or committing to a product; therefore, either approving or disapproving their own impressions or gaining a completely brand new look on a specific product. It is a way for potential customers to filter out businesses that have a terrible reputation, even cases of fraud when a certain business misleads the public for personal gain. In many cases, it can be seen regarding sustainability claims.</p>,\n",
              " <p>As we have established, customer reviews are important - extremely important. However, they are only as valuable as their practical implications in business processes. The usage spectrum of customer reviews is quite large, and time after time businesses find new ways of gaining extra momentum, a more astonishing way of absorbing every positive aspect of their customer opinions. The most popular and practical implications are:</p>,\n",
              " <p>Simple read-through, or text-based sentiment analysis to understand the overall attitude of the customers to a specific product is a primitive must. However, that is not all that can be analyzed through customer reviews. In fact, market research can be maximized with the usage of customer reviews. One of the aspects of market research includes the changing attitudes of a specific industry; therefore, collecting “potential competitor” customer reviews, an over-period customer analysis can give a great insight into whether the market is in its rise or fall period. Also, customer reviews, of course, are an enormous part of marketing analysis. When, for example, creating a SWOT (strengths, weaknesses, opportunities, threats) analysis, customer reviews alone can provide essential insights into businesses' strengths and weaknesses.</p>,\n",
              " <p>When it comes to opinions and impressions, sometimes it is important and quite insightful to acknowledge what people are saying about, not only your own products but also about competitors' products. In many cases by comparing the two positions, many businesses are able to pinpoint their unique selling point/-s (USP) which then play an enormous role in further development and growth. Apart from customer reviews helping to recognize unique selling point/-s and other useful information, as mentioned previously, it is important to keep monitoring the customer reviews for the purpose of keeping up with the opinions. And also, together with development - create trust and loyalty within.</p>,\n",
              " <p>Resonating with analyses and monitoring, major developments are mostly acknowledged and done on the basis of customer reviews and opinions. It is fair to say that most companies have created their product to serve a need for something, for people - potential customer markets; therefore, customers are the first to suggest any changes, discuss improvements, and also, are not shy to speak about inconsistencies or aspects that the product is not fulfilling. Criticism is only bad if not acknowledged; therefore, even the negative comments can have a certain positive output.</p>,\n",
              " <p>Fitting in the sphere of marketing - customer reviews are important for building your social profile. For a reason, numerous companies have dedicated a section of their, for example, landing page to display various customer reviews. It all resonates back to building trust and social profile that the business is looking to be perceived as, and thanks to customer reviews, this perception can be strengthened, and loyalty built. Social proof itself is a psychological and social phenomenon that describes the process of people's instinct to follow the actions of others, considering that it builds trust and credibility.</p>,\n",
              " <p>However, when dealing with opinions and reviews, one or two, are not enough to even briefly judge a product or a whole concept. Therefore, being able to collect as many customer reviews as possible will ensure that the sample size for any business research or analysis is not too small. This is where scraping comes in handy. One should hire an entire “customer reviews gathering” team to manually collect enough data; however, with web scraping it takes only one person, and potentially only a few minutes to collect enough data to yield more accurate insights.</p>,\n",
              " <p>In conclusion, customer reviews can help to gain great advantages and advancements, and applying web scraping technologies one should never worry about too small of sample size or the process taking ages. A great way to enhance, advance, and keep efficient at the same time.</p>,\n",
              " <p>Happy scraping!</p>,\n",
              " <p><br/></p>,\n",
              " <p>Products</p>,\n",
              " <p>Company</p>,\n",
              " <p>Resources</p>,\n",
              " <p>CONTACT US</p>,\n",
              " <p class=\"copyright\">Copyright © 2021\n",
              " \t\t\t\t\t<a href=\"#\">Web Scraper</a> | All rights\n",
              " \t\t\t\t\treserved | Made by zoom59</p>]"
            ]
          },
          "metadata": {},
          "execution_count": 7
        }
      ]
    },
    {
      "cell_type": "code",
      "metadata": {
        "colab": {
          "base_uri": "https://localhost:8080/"
        },
        "id": "FucgPCgukG4A",
        "outputId": "cfc1c90c-af1e-47c4-db24-834fb02626d7"
      },
      "source": [
        "### memasukan text dari website ke dalam list \n",
        "\n",
        "full_text = []\n",
        "for paragraf in WP.find_all('p'): \n",
        "  full_text.append(paragraf.getText()) \n",
        "\n",
        "full_text"
      ],
      "execution_count": null,
      "outputs": [
        {
          "output_type": "execute_result",
          "data": {
            "text/plain": [
              "['Web Scraper',\n",
              " 'Cloud Scraper',\n",
              " 'Pricing',\n",
              " 'Learn',\n",
              " 'June 01, 2021',\n",
              " 'Analysis, Data',\n",
              " \"Just like a vehicle tire leaves an imprint in the mud which can be washed away only by a great storm or rainfall, an impression leaves an impact on a product which then becomes the formatting foundation of an opinion that can not be altered easily. For this simple reason, creating an interesting, positive, and captivating impression on your customers will go a long way for your business's success and overall reputation.\",\n",
              " 'Thanks to the internet - customer reviews, which are basically the text format of different impressions and opinions about a product, almost every business can monitor their reputation, develop various analyses, and build trust upon them. Keeping up with what your customers are saying does not only harvest the previously mentioned benefits but also by making it visible to the customers that they are heard and acknowledged, builds loyalty which can last even in the lowest phases of a business.',\n",
              " 'Customer reviews also work as filters. Since almost everyone seeks out opinions, recommendations, testimonials, and reviews before choosing or committing to a product; therefore, either approving or disapproving their own impressions or gaining a completely brand new look on a specific product. It is a way for potential customers to filter out businesses that have a terrible reputation, even cases of fraud when a certain business misleads the public for personal gain. In many cases, it can be seen regarding sustainability claims.',\n",
              " 'As we have established, customer reviews are important - extremely important. However, they are only as valuable as their practical implications in business processes. The usage spectrum of customer reviews is quite large, and time after time businesses find new ways of gaining extra momentum, a more astonishing way of absorbing every positive aspect of their customer opinions. The most popular and practical implications are:',\n",
              " \"Simple read-through, or text-based sentiment analysis to understand the overall attitude of the customers to a specific product is a primitive must. However, that is not all that can be analyzed through customer reviews. In fact, market research can be maximized with the usage of customer reviews. One of the aspects of market research includes the changing attitudes of a specific industry; therefore, collecting “potential competitor” customer reviews, an over-period customer analysis can give a great insight into whether the market is in its rise or fall period. Also, customer reviews, of course, are an enormous part of marketing analysis. When, for example, creating a SWOT (strengths, weaknesses, opportunities, threats) analysis, customer reviews alone can provide essential insights into businesses' strengths and weaknesses.\",\n",
              " \"When it comes to opinions and impressions, sometimes it is important and quite insightful to acknowledge what people are saying about, not only your own products but also about competitors' products. In many cases by comparing the two positions, many businesses are able to pinpoint their unique selling point/-s (USP) which then play an enormous role in further development and growth. Apart from customer reviews helping to recognize unique selling point/-s and other useful information, as mentioned previously, it is important to keep monitoring the customer reviews for the purpose of keeping up with the opinions. And also, together with development - create trust and loyalty within.\",\n",
              " 'Resonating with analyses and monitoring, major developments are mostly acknowledged and done on the basis of customer reviews and opinions. It is fair to say that most companies have created their product to serve a need for something, for people - potential customer markets; therefore, customers are the first to suggest any changes, discuss improvements, and also, are not shy to speak about inconsistencies or aspects that the product is not fulfilling. Criticism is only bad if not acknowledged; therefore, even the negative comments can have a certain positive output.',\n",
              " \"Fitting in the sphere of marketing - customer reviews are important for building your social profile. For a reason, numerous companies have dedicated a section of their, for example, landing page to display various customer reviews. It all resonates back to building trust and social profile that the business is looking to be perceived as, and thanks to customer reviews, this perception can be strengthened, and loyalty built. Social proof itself is a psychological and social phenomenon that describes the process of people's instinct to follow the actions of others, considering that it builds trust and credibility.\",\n",
              " 'However, when dealing with opinions and reviews, one or two, are not enough to even briefly judge a product or a whole concept. Therefore, being able to collect as many customer reviews as possible will ensure that the sample size for any business research or analysis is not too small. This is where scraping comes in handy. One should hire an entire “customer reviews gathering” team to manually collect enough data; however, with web scraping it takes only one person, and potentially only a few minutes to collect enough data to yield more accurate insights.',\n",
              " 'In conclusion, customer reviews can help to gain great advantages and advancements, and applying web scraping technologies one should never worry about too small of sample size or the process taking ages. A great way to enhance, advance, and keep efficient at the same time.',\n",
              " 'Happy scraping!',\n",
              " '',\n",
              " 'Products',\n",
              " 'Company',\n",
              " 'Resources',\n",
              " 'CONTACT US',\n",
              " 'Copyright © 2021\\n\\t\\t\\t\\t\\tWeb Scraper | All rights\\n\\t\\t\\t\\t\\treserved | Made by zoom59']"
            ]
          },
          "metadata": {},
          "execution_count": 8
        }
      ]
    },
    {
      "cell_type": "code",
      "metadata": {
        "colab": {
          "base_uri": "https://localhost:8080/",
          "height": 108
        },
        "id": "_Oiz0qfQk8yA",
        "outputId": "c79665f9-a1df-4a47-bdf9-f075b04c6078"
      },
      "source": [
        "### menggabungkan semua line\n",
        "\n",
        "full_text = ' '.join(full_text)\n",
        "full_text"
      ],
      "execution_count": null,
      "outputs": [
        {
          "output_type": "execute_result",
          "data": {
            "application/vnd.google.colaboratory.intrinsic+json": {
              "type": "string"
            },
            "text/plain": [
              "\"Web Scraper Cloud Scraper Pricing Learn June 01, 2021 Analysis, Data Just like a vehicle tire leaves an imprint in the mud which can be washed away only by a great storm or rainfall, an impression leaves an impact on a product which then becomes the formatting foundation of an opinion that can not be altered easily. For this simple reason, creating an interesting, positive, and captivating impression on your customers will go a long way for your business's success and overall reputation. Thanks to the internet - customer reviews, which are basically the text format of different impressions and opinions about a product, almost every business can monitor their reputation, develop various analyses, and build trust upon them. Keeping up with what your customers are saying does not only harvest the previously mentioned benefits but also by making it visible to the customers that they are heard and acknowledged, builds loyalty which can last even in the lowest phases of a business. Customer reviews also work as filters. Since almost everyone seeks out opinions, recommendations, testimonials, and reviews before choosing or committing to a product; therefore, either approving or disapproving their own impressions or gaining a completely brand new look on a specific product. It is a way for potential customers to filter out businesses that have a terrible reputation, even cases of fraud when a certain business misleads the public for personal gain. In many cases, it can be seen regarding sustainability claims. As we have established, customer reviews are important - extremely important. However, they are only as valuable as their practical implications in business processes. The usage spectrum of customer reviews is quite large, and time after time businesses find new ways of gaining extra momentum, a more astonishing way of absorbing every positive aspect of their customer opinions. The most popular and practical implications are: Simple read-through, or text-based sentiment analysis to understand the overall attitude of the customers to a specific product is a primitive must. However, that is not all that can be analyzed through customer reviews. In fact, market research can be maximized with the usage of customer reviews. One of the aspects of market research includes the changing attitudes of a specific industry; therefore, collecting “potential competitor” customer reviews, an over-period customer analysis can give a great insight into whether the market is in its rise or fall period. Also, customer reviews, of course, are an enormous part of marketing analysis. When, for example, creating a SWOT (strengths, weaknesses, opportunities, threats) analysis, customer reviews alone can provide essential insights into businesses' strengths and weaknesses. When it comes to opinions and impressions, sometimes it is important and quite insightful to acknowledge what people are saying about, not only your own products but also about competitors' products. In many cases by comparing the two positions, many businesses are able to pinpoint their unique selling point/-s (USP) which then play an enormous role in further development and growth. Apart from customer reviews helping to recognize unique selling point/-s and other useful information, as mentioned previously, it is important to keep monitoring the customer reviews for the purpose of keeping up with the opinions. And also, together with development - create trust and loyalty within. Resonating with analyses and monitoring, major developments are mostly acknowledged and done on the basis of customer reviews and opinions. It is fair to say that most companies have created their product to serve a need for something, for people - potential customer markets; therefore, customers are the first to suggest any changes, discuss improvements, and also, are not shy to speak about inconsistencies or aspects that the product is not fulfilling. Criticism is only bad if not acknowledged; therefore, even the negative comments can have a certain positive output. Fitting in the sphere of marketing - customer reviews are important for building your social profile. For a reason, numerous companies have dedicated a section of their, for example, landing page to display various customer reviews. It all resonates back to building trust and social profile that the business is looking to be perceived as, and thanks to customer reviews, this perception can be strengthened, and loyalty built. Social proof itself is a psychological and social phenomenon that describes the process of people's instinct to follow the actions of others, considering that it builds trust and credibility. However, when dealing with opinions and reviews, one or two, are not enough to even briefly judge a product or a whole concept. Therefore, being able to collect as many customer reviews as possible will ensure that the sample size for any business research or analysis is not too small. This is where scraping comes in handy. One should hire an entire “customer reviews gathering” team to manually collect enough data; however, with web scraping it takes only one person, and potentially only a few minutes to collect enough data to yield more accurate insights. In conclusion, customer reviews can help to gain great advantages and advancements, and applying web scraping technologies one should never worry about too small of sample size or the process taking ages. A great way to enhance, advance, and keep efficient at the same time. Happy scraping!  Products Company Resources CONTACT US Copyright © 2021\\n\\t\\t\\t\\t\\tWeb Scraper | All rights\\n\\t\\t\\t\\t\\treserved | Made by zoom59\""
            ]
          },
          "metadata": {},
          "execution_count": 9
        }
      ]
    },
    {
      "cell_type": "code",
      "metadata": {
        "id": "2vUdhNuElJoI"
      },
      "source": [
        "text = full_text "
      ],
      "execution_count": null,
      "outputs": []
    },
    {
      "cell_type": "code",
      "metadata": {
        "colab": {
          "base_uri": "https://localhost:8080/",
          "height": 108
        },
        "id": "w1htrFdUlNei",
        "outputId": "4ecaec9d-ccbc-484f-a328-b9782ce830a5"
      },
      "source": [
        "### huruf kecil \n",
        "\n",
        "text = text.lower()\n",
        "text"
      ],
      "execution_count": null,
      "outputs": [
        {
          "output_type": "execute_result",
          "data": {
            "application/vnd.google.colaboratory.intrinsic+json": {
              "type": "string"
            },
            "text/plain": [
              "\"web scraper cloud scraper pricing learn june 01, 2021 analysis, data just like a vehicle tire leaves an imprint in the mud which can be washed away only by a great storm or rainfall, an impression leaves an impact on a product which then becomes the formatting foundation of an opinion that can not be altered easily. for this simple reason, creating an interesting, positive, and captivating impression on your customers will go a long way for your business's success and overall reputation. thanks to the internet - customer reviews, which are basically the text format of different impressions and opinions about a product, almost every business can monitor their reputation, develop various analyses, and build trust upon them. keeping up with what your customers are saying does not only harvest the previously mentioned benefits but also by making it visible to the customers that they are heard and acknowledged, builds loyalty which can last even in the lowest phases of a business. customer reviews also work as filters. since almost everyone seeks out opinions, recommendations, testimonials, and reviews before choosing or committing to a product; therefore, either approving or disapproving their own impressions or gaining a completely brand new look on a specific product. it is a way for potential customers to filter out businesses that have a terrible reputation, even cases of fraud when a certain business misleads the public for personal gain. in many cases, it can be seen regarding sustainability claims. as we have established, customer reviews are important - extremely important. however, they are only as valuable as their practical implications in business processes. the usage spectrum of customer reviews is quite large, and time after time businesses find new ways of gaining extra momentum, a more astonishing way of absorbing every positive aspect of their customer opinions. the most popular and practical implications are: simple read-through, or text-based sentiment analysis to understand the overall attitude of the customers to a specific product is a primitive must. however, that is not all that can be analyzed through customer reviews. in fact, market research can be maximized with the usage of customer reviews. one of the aspects of market research includes the changing attitudes of a specific industry; therefore, collecting “potential competitor” customer reviews, an over-period customer analysis can give a great insight into whether the market is in its rise or fall period. also, customer reviews, of course, are an enormous part of marketing analysis. when, for example, creating a swot (strengths, weaknesses, opportunities, threats) analysis, customer reviews alone can provide essential insights into businesses' strengths and weaknesses. when it comes to opinions and impressions, sometimes it is important and quite insightful to acknowledge what people are saying about, not only your own products but also about competitors' products. in many cases by comparing the two positions, many businesses are able to pinpoint their unique selling point/-s (usp) which then play an enormous role in further development and growth. apart from customer reviews helping to recognize unique selling point/-s and other useful information, as mentioned previously, it is important to keep monitoring the customer reviews for the purpose of keeping up with the opinions. and also, together with development - create trust and loyalty within. resonating with analyses and monitoring, major developments are mostly acknowledged and done on the basis of customer reviews and opinions. it is fair to say that most companies have created their product to serve a need for something, for people - potential customer markets; therefore, customers are the first to suggest any changes, discuss improvements, and also, are not shy to speak about inconsistencies or aspects that the product is not fulfilling. criticism is only bad if not acknowledged; therefore, even the negative comments can have a certain positive output. fitting in the sphere of marketing - customer reviews are important for building your social profile. for a reason, numerous companies have dedicated a section of their, for example, landing page to display various customer reviews. it all resonates back to building trust and social profile that the business is looking to be perceived as, and thanks to customer reviews, this perception can be strengthened, and loyalty built. social proof itself is a psychological and social phenomenon that describes the process of people's instinct to follow the actions of others, considering that it builds trust and credibility. however, when dealing with opinions and reviews, one or two, are not enough to even briefly judge a product or a whole concept. therefore, being able to collect as many customer reviews as possible will ensure that the sample size for any business research or analysis is not too small. this is where scraping comes in handy. one should hire an entire “customer reviews gathering” team to manually collect enough data; however, with web scraping it takes only one person, and potentially only a few minutes to collect enough data to yield more accurate insights. in conclusion, customer reviews can help to gain great advantages and advancements, and applying web scraping technologies one should never worry about too small of sample size or the process taking ages. a great way to enhance, advance, and keep efficient at the same time. happy scraping!  products company resources contact us copyright © 2021\\n\\t\\t\\t\\t\\tweb scraper | all rights\\n\\t\\t\\t\\t\\treserved | made by zoom59\""
            ]
          },
          "metadata": {},
          "execution_count": 11
        }
      ]
    },
    {
      "cell_type": "code",
      "metadata": {
        "colab": {
          "base_uri": "https://localhost:8080/",
          "height": 108
        },
        "id": "S2wOQmgFlUs8",
        "outputId": "9ce82dfe-2481-46bb-809e-2145cb3f9a3b"
      },
      "source": [
        "### menghilangkan karakter spesial\n",
        "\n",
        "text = re.sub(r'[-()\\\"#/@;:<>{}+=|!?,]','', text)  \n",
        "text"
      ],
      "execution_count": null,
      "outputs": [
        {
          "output_type": "execute_result",
          "data": {
            "application/vnd.google.colaboratory.intrinsic+json": {
              "type": "string"
            },
            "text/plain": [
              "\"web scraper cloud scraper pricing learn june 01 2021 analysis data just like a vehicle tire leaves an imprint in the mud which can be washed away only by a great storm or rainfall an impression leaves an impact on a product which then becomes the formatting foundation of an opinion that can not be altered easily. for this simple reason creating an interesting positive and captivating impression on your customers will go a long way for your business's success and overall reputation. thanks to the internet  customer reviews which are basically the text format of different impressions and opinions about a product almost every business can monitor their reputation develop various analyses and build trust upon them. keeping up with what your customers are saying does not only harvest the previously mentioned benefits but also by making it visible to the customers that they are heard and acknowledged builds loyalty which can last even in the lowest phases of a business. customer reviews also work as filters. since almost everyone seeks out opinions recommendations testimonials and reviews before choosing or committing to a product therefore either approving or disapproving their own impressions or gaining a completely brand new look on a specific product. it is a way for potential customers to filter out businesses that have a terrible reputation even cases of fraud when a certain business misleads the public for personal gain. in many cases it can be seen regarding sustainability claims. as we have established customer reviews are important  extremely important. however they are only as valuable as their practical implications in business processes. the usage spectrum of customer reviews is quite large and time after time businesses find new ways of gaining extra momentum a more astonishing way of absorbing every positive aspect of their customer opinions. the most popular and practical implications are simple readthrough or textbased sentiment analysis to understand the overall attitude of the customers to a specific product is a primitive must. however that is not all that can be analyzed through customer reviews. in fact market research can be maximized with the usage of customer reviews. one of the aspects of market research includes the changing attitudes of a specific industry therefore collecting “potential competitor” customer reviews an overperiod customer analysis can give a great insight into whether the market is in its rise or fall period. also customer reviews of course are an enormous part of marketing analysis. when for example creating a swot strengths weaknesses opportunities threats analysis customer reviews alone can provide essential insights into businesses' strengths and weaknesses. when it comes to opinions and impressions sometimes it is important and quite insightful to acknowledge what people are saying about not only your own products but also about competitors' products. in many cases by comparing the two positions many businesses are able to pinpoint their unique selling points usp which then play an enormous role in further development and growth. apart from customer reviews helping to recognize unique selling points and other useful information as mentioned previously it is important to keep monitoring the customer reviews for the purpose of keeping up with the opinions. and also together with development  create trust and loyalty within. resonating with analyses and monitoring major developments are mostly acknowledged and done on the basis of customer reviews and opinions. it is fair to say that most companies have created their product to serve a need for something for people  potential customer markets therefore customers are the first to suggest any changes discuss improvements and also are not shy to speak about inconsistencies or aspects that the product is not fulfilling. criticism is only bad if not acknowledged therefore even the negative comments can have a certain positive output. fitting in the sphere of marketing  customer reviews are important for building your social profile. for a reason numerous companies have dedicated a section of their for example landing page to display various customer reviews. it all resonates back to building trust and social profile that the business is looking to be perceived as and thanks to customer reviews this perception can be strengthened and loyalty built. social proof itself is a psychological and social phenomenon that describes the process of people's instinct to follow the actions of others considering that it builds trust and credibility. however when dealing with opinions and reviews one or two are not enough to even briefly judge a product or a whole concept. therefore being able to collect as many customer reviews as possible will ensure that the sample size for any business research or analysis is not too small. this is where scraping comes in handy. one should hire an entire “customer reviews gathering” team to manually collect enough data however with web scraping it takes only one person and potentially only a few minutes to collect enough data to yield more accurate insights. in conclusion customer reviews can help to gain great advantages and advancements and applying web scraping technologies one should never worry about too small of sample size or the process taking ages. a great way to enhance advance and keep efficient at the same time. happy scraping  products company resources contact us copyright © 2021\\n\\t\\t\\t\\t\\tweb scraper  all rights\\n\\t\\t\\t\\t\\treserved  made by zoom59\""
            ]
          },
          "metadata": {},
          "execution_count": 12
        }
      ]
    },
    {
      "cell_type": "code",
      "metadata": {
        "colab": {
          "base_uri": "https://localhost:8080/"
        },
        "id": "Uh3TDLZipCUJ",
        "outputId": "28c81b9a-920c-4f7f-f0fa-0ba5fba6c16b"
      },
      "source": [
        "import nltk\n",
        "from nltk import word_tokenize\n",
        "nltk.download('punkt')\n",
        "nltk.download('stopwords')\n",
        "nltk.download('wordnet')\n",
        "from nltk.corpus import stopwords\n",
        "from nltk.stem import SnowballStemmer\n",
        "from nltk.stem import PorterStemmer\n",
        "from nltk.stem import LancasterStemmer\n",
        "from nltk.stem import WordNetLemmatizer"
      ],
      "execution_count": null,
      "outputs": [
        {
          "output_type": "stream",
          "name": "stdout",
          "text": [
            "[nltk_data] Downloading package punkt to /root/nltk_data...\n",
            "[nltk_data]   Package punkt is already up-to-date!\n",
            "[nltk_data] Downloading package stopwords to /root/nltk_data...\n",
            "[nltk_data]   Package stopwords is already up-to-date!\n",
            "[nltk_data] Downloading package wordnet to /root/nltk_data...\n",
            "[nltk_data]   Package wordnet is already up-to-date!\n"
          ]
        }
      ]
    },
    {
      "cell_type": "code",
      "metadata": {
        "colab": {
          "base_uri": "https://localhost:8080/"
        },
        "id": "PoAcm2GclhWO",
        "outputId": "6dfd94d0-2339-4b9d-877e-8b7ee46343d0"
      },
      "source": [
        "### Tokenize\n",
        "\n",
        "token = word_tokenize(text) \n",
        "print(token)"
      ],
      "execution_count": null,
      "outputs": [
        {
          "output_type": "stream",
          "name": "stdout",
          "text": [
            "['web', 'scraper', 'cloud', 'scraper', 'pricing', 'learn', 'june', '01', '2021', 'analysis', 'data', 'just', 'like', 'a', 'vehicle', 'tire', 'leaves', 'an', 'imprint', 'in', 'the', 'mud', 'which', 'can', 'be', 'washed', 'away', 'only', 'by', 'a', 'great', 'storm', 'or', 'rainfall', 'an', 'impression', 'leaves', 'an', 'impact', 'on', 'a', 'product', 'which', 'then', 'becomes', 'the', 'formatting', 'foundation', 'of', 'an', 'opinion', 'that', 'can', 'not', 'be', 'altered', 'easily', '.', 'for', 'this', 'simple', 'reason', 'creating', 'an', 'interesting', 'positive', 'and', 'captivating', 'impression', 'on', 'your', 'customers', 'will', 'go', 'a', 'long', 'way', 'for', 'your', 'business', \"'s\", 'success', 'and', 'overall', 'reputation', '.', 'thanks', 'to', 'the', 'internet', 'customer', 'reviews', 'which', 'are', 'basically', 'the', 'text', 'format', 'of', 'different', 'impressions', 'and', 'opinions', 'about', 'a', 'product', 'almost', 'every', 'business', 'can', 'monitor', 'their', 'reputation', 'develop', 'various', 'analyses', 'and', 'build', 'trust', 'upon', 'them', '.', 'keeping', 'up', 'with', 'what', 'your', 'customers', 'are', 'saying', 'does', 'not', 'only', 'harvest', 'the', 'previously', 'mentioned', 'benefits', 'but', 'also', 'by', 'making', 'it', 'visible', 'to', 'the', 'customers', 'that', 'they', 'are', 'heard', 'and', 'acknowledged', 'builds', 'loyalty', 'which', 'can', 'last', 'even', 'in', 'the', 'lowest', 'phases', 'of', 'a', 'business', '.', 'customer', 'reviews', 'also', 'work', 'as', 'filters', '.', 'since', 'almost', 'everyone', 'seeks', 'out', 'opinions', 'recommendations', 'testimonials', 'and', 'reviews', 'before', 'choosing', 'or', 'committing', 'to', 'a', 'product', 'therefore', 'either', 'approving', 'or', 'disapproving', 'their', 'own', 'impressions', 'or', 'gaining', 'a', 'completely', 'brand', 'new', 'look', 'on', 'a', 'specific', 'product', '.', 'it', 'is', 'a', 'way', 'for', 'potential', 'customers', 'to', 'filter', 'out', 'businesses', 'that', 'have', 'a', 'terrible', 'reputation', 'even', 'cases', 'of', 'fraud', 'when', 'a', 'certain', 'business', 'misleads', 'the', 'public', 'for', 'personal', 'gain', '.', 'in', 'many', 'cases', 'it', 'can', 'be', 'seen', 'regarding', 'sustainability', 'claims', '.', 'as', 'we', 'have', 'established', 'customer', 'reviews', 'are', 'important', 'extremely', 'important', '.', 'however', 'they', 'are', 'only', 'as', 'valuable', 'as', 'their', 'practical', 'implications', 'in', 'business', 'processes', '.', 'the', 'usage', 'spectrum', 'of', 'customer', 'reviews', 'is', 'quite', 'large', 'and', 'time', 'after', 'time', 'businesses', 'find', 'new', 'ways', 'of', 'gaining', 'extra', 'momentum', 'a', 'more', 'astonishing', 'way', 'of', 'absorbing', 'every', 'positive', 'aspect', 'of', 'their', 'customer', 'opinions', '.', 'the', 'most', 'popular', 'and', 'practical', 'implications', 'are', 'simple', 'readthrough', 'or', 'textbased', 'sentiment', 'analysis', 'to', 'understand', 'the', 'overall', 'attitude', 'of', 'the', 'customers', 'to', 'a', 'specific', 'product', 'is', 'a', 'primitive', 'must', '.', 'however', 'that', 'is', 'not', 'all', 'that', 'can', 'be', 'analyzed', 'through', 'customer', 'reviews', '.', 'in', 'fact', 'market', 'research', 'can', 'be', 'maximized', 'with', 'the', 'usage', 'of', 'customer', 'reviews', '.', 'one', 'of', 'the', 'aspects', 'of', 'market', 'research', 'includes', 'the', 'changing', 'attitudes', 'of', 'a', 'specific', 'industry', 'therefore', 'collecting', '“', 'potential', 'competitor', '”', 'customer', 'reviews', 'an', 'overperiod', 'customer', 'analysis', 'can', 'give', 'a', 'great', 'insight', 'into', 'whether', 'the', 'market', 'is', 'in', 'its', 'rise', 'or', 'fall', 'period', '.', 'also', 'customer', 'reviews', 'of', 'course', 'are', 'an', 'enormous', 'part', 'of', 'marketing', 'analysis', '.', 'when', 'for', 'example', 'creating', 'a', 'swot', 'strengths', 'weaknesses', 'opportunities', 'threats', 'analysis', 'customer', 'reviews', 'alone', 'can', 'provide', 'essential', 'insights', 'into', 'businesses', \"'\", 'strengths', 'and', 'weaknesses', '.', 'when', 'it', 'comes', 'to', 'opinions', 'and', 'impressions', 'sometimes', 'it', 'is', 'important', 'and', 'quite', 'insightful', 'to', 'acknowledge', 'what', 'people', 'are', 'saying', 'about', 'not', 'only', 'your', 'own', 'products', 'but', 'also', 'about', 'competitors', \"'\", 'products', '.', 'in', 'many', 'cases', 'by', 'comparing', 'the', 'two', 'positions', 'many', 'businesses', 'are', 'able', 'to', 'pinpoint', 'their', 'unique', 'selling', 'points', 'usp', 'which', 'then', 'play', 'an', 'enormous', 'role', 'in', 'further', 'development', 'and', 'growth', '.', 'apart', 'from', 'customer', 'reviews', 'helping', 'to', 'recognize', 'unique', 'selling', 'points', 'and', 'other', 'useful', 'information', 'as', 'mentioned', 'previously', 'it', 'is', 'important', 'to', 'keep', 'monitoring', 'the', 'customer', 'reviews', 'for', 'the', 'purpose', 'of', 'keeping', 'up', 'with', 'the', 'opinions', '.', 'and', 'also', 'together', 'with', 'development', 'create', 'trust', 'and', 'loyalty', 'within', '.', 'resonating', 'with', 'analyses', 'and', 'monitoring', 'major', 'developments', 'are', 'mostly', 'acknowledged', 'and', 'done', 'on', 'the', 'basis', 'of', 'customer', 'reviews', 'and', 'opinions', '.', 'it', 'is', 'fair', 'to', 'say', 'that', 'most', 'companies', 'have', 'created', 'their', 'product', 'to', 'serve', 'a', 'need', 'for', 'something', 'for', 'people', 'potential', 'customer', 'markets', 'therefore', 'customers', 'are', 'the', 'first', 'to', 'suggest', 'any', 'changes', 'discuss', 'improvements', 'and', 'also', 'are', 'not', 'shy', 'to', 'speak', 'about', 'inconsistencies', 'or', 'aspects', 'that', 'the', 'product', 'is', 'not', 'fulfilling', '.', 'criticism', 'is', 'only', 'bad', 'if', 'not', 'acknowledged', 'therefore', 'even', 'the', 'negative', 'comments', 'can', 'have', 'a', 'certain', 'positive', 'output', '.', 'fitting', 'in', 'the', 'sphere', 'of', 'marketing', 'customer', 'reviews', 'are', 'important', 'for', 'building', 'your', 'social', 'profile', '.', 'for', 'a', 'reason', 'numerous', 'companies', 'have', 'dedicated', 'a', 'section', 'of', 'their', 'for', 'example', 'landing', 'page', 'to', 'display', 'various', 'customer', 'reviews', '.', 'it', 'all', 'resonates', 'back', 'to', 'building', 'trust', 'and', 'social', 'profile', 'that', 'the', 'business', 'is', 'looking', 'to', 'be', 'perceived', 'as', 'and', 'thanks', 'to', 'customer', 'reviews', 'this', 'perception', 'can', 'be', 'strengthened', 'and', 'loyalty', 'built', '.', 'social', 'proof', 'itself', 'is', 'a', 'psychological', 'and', 'social', 'phenomenon', 'that', 'describes', 'the', 'process', 'of', 'people', \"'s\", 'instinct', 'to', 'follow', 'the', 'actions', 'of', 'others', 'considering', 'that', 'it', 'builds', 'trust', 'and', 'credibility', '.', 'however', 'when', 'dealing', 'with', 'opinions', 'and', 'reviews', 'one', 'or', 'two', 'are', 'not', 'enough', 'to', 'even', 'briefly', 'judge', 'a', 'product', 'or', 'a', 'whole', 'concept', '.', 'therefore', 'being', 'able', 'to', 'collect', 'as', 'many', 'customer', 'reviews', 'as', 'possible', 'will', 'ensure', 'that', 'the', 'sample', 'size', 'for', 'any', 'business', 'research', 'or', 'analysis', 'is', 'not', 'too', 'small', '.', 'this', 'is', 'where', 'scraping', 'comes', 'in', 'handy', '.', 'one', 'should', 'hire', 'an', 'entire', '“', 'customer', 'reviews', 'gathering', '”', 'team', 'to', 'manually', 'collect', 'enough', 'data', 'however', 'with', 'web', 'scraping', 'it', 'takes', 'only', 'one', 'person', 'and', 'potentially', 'only', 'a', 'few', 'minutes', 'to', 'collect', 'enough', 'data', 'to', 'yield', 'more', 'accurate', 'insights', '.', 'in', 'conclusion', 'customer', 'reviews', 'can', 'help', 'to', 'gain', 'great', 'advantages', 'and', 'advancements', 'and', 'applying', 'web', 'scraping', 'technologies', 'one', 'should', 'never', 'worry', 'about', 'too', 'small', 'of', 'sample', 'size', 'or', 'the', 'process', 'taking', 'ages', '.', 'a', 'great', 'way', 'to', 'enhance', 'advance', 'and', 'keep', 'efficient', 'at', 'the', 'same', 'time', '.', 'happy', 'scraping', 'products', 'company', 'resources', 'contact', 'us', 'copyright', '©', '2021', 'web', 'scraper', 'all', 'rights', 'reserved', 'made', 'by', 'zoom59']\n"
          ]
        }
      ]
    },
    {
      "cell_type": "markdown",
      "metadata": {
        "id": "72QjDMymltLQ"
      },
      "source": [
        "Bag of words"
      ]
    },
    {
      "cell_type": "code",
      "metadata": {
        "colab": {
          "base_uri": "https://localhost:8080/"
        },
        "id": "3nxYD3fglsvn",
        "outputId": "138f9b9d-5806-4305-b44a-673d5165f2c3"
      },
      "source": [
        "frekuensi_kata = {}\n",
        "for kata in token:\n",
        "  if kata not in frekuensi_kata : \n",
        "    frekuensi_kata[kata] = 1\n",
        "  else:\n",
        "    frekuensi_kata[kata] += 1\n",
        "\n",
        "frekuensi_kata"
      ],
      "execution_count": null,
      "outputs": [
        {
          "output_type": "execute_result",
          "data": {
            "text/plain": [
              "{\"'\": 2,\n",
              " \"'s\": 2,\n",
              " '.': 34,\n",
              " '01': 1,\n",
              " '2021': 2,\n",
              " 'a': 27,\n",
              " 'able': 2,\n",
              " 'about': 5,\n",
              " 'absorbing': 1,\n",
              " 'accurate': 1,\n",
              " 'acknowledge': 1,\n",
              " 'acknowledged': 3,\n",
              " 'actions': 1,\n",
              " 'advance': 1,\n",
              " 'advancements': 1,\n",
              " 'advantages': 1,\n",
              " 'after': 1,\n",
              " 'ages': 1,\n",
              " 'all': 3,\n",
              " 'almost': 2,\n",
              " 'alone': 1,\n",
              " 'also': 6,\n",
              " 'altered': 1,\n",
              " 'an': 9,\n",
              " 'analyses': 2,\n",
              " 'analysis': 6,\n",
              " 'analyzed': 1,\n",
              " 'and': 29,\n",
              " 'any': 2,\n",
              " 'apart': 1,\n",
              " 'applying': 1,\n",
              " 'approving': 1,\n",
              " 'are': 14,\n",
              " 'as': 8,\n",
              " 'aspect': 1,\n",
              " 'aspects': 2,\n",
              " 'astonishing': 1,\n",
              " 'at': 1,\n",
              " 'attitude': 1,\n",
              " 'attitudes': 1,\n",
              " 'away': 1,\n",
              " 'back': 1,\n",
              " 'bad': 1,\n",
              " 'basically': 1,\n",
              " 'basis': 1,\n",
              " 'be': 7,\n",
              " 'becomes': 1,\n",
              " 'before': 1,\n",
              " 'being': 1,\n",
              " 'benefits': 1,\n",
              " 'brand': 1,\n",
              " 'briefly': 1,\n",
              " 'build': 1,\n",
              " 'building': 2,\n",
              " 'builds': 2,\n",
              " 'built': 1,\n",
              " 'business': 7,\n",
              " 'businesses': 4,\n",
              " 'but': 2,\n",
              " 'by': 4,\n",
              " 'can': 12,\n",
              " 'captivating': 1,\n",
              " 'cases': 3,\n",
              " 'certain': 2,\n",
              " 'changes': 1,\n",
              " 'changing': 1,\n",
              " 'choosing': 1,\n",
              " 'claims': 1,\n",
              " 'cloud': 1,\n",
              " 'collect': 3,\n",
              " 'collecting': 1,\n",
              " 'comes': 2,\n",
              " 'comments': 1,\n",
              " 'committing': 1,\n",
              " 'companies': 2,\n",
              " 'company': 1,\n",
              " 'comparing': 1,\n",
              " 'competitor': 1,\n",
              " 'competitors': 1,\n",
              " 'completely': 1,\n",
              " 'concept': 1,\n",
              " 'conclusion': 1,\n",
              " 'considering': 1,\n",
              " 'contact': 1,\n",
              " 'copyright': 1,\n",
              " 'course': 1,\n",
              " 'create': 1,\n",
              " 'created': 1,\n",
              " 'creating': 2,\n",
              " 'credibility': 1,\n",
              " 'criticism': 1,\n",
              " 'customer': 21,\n",
              " 'customers': 6,\n",
              " 'data': 3,\n",
              " 'dealing': 1,\n",
              " 'dedicated': 1,\n",
              " 'describes': 1,\n",
              " 'develop': 1,\n",
              " 'development': 2,\n",
              " 'developments': 1,\n",
              " 'different': 1,\n",
              " 'disapproving': 1,\n",
              " 'discuss': 1,\n",
              " 'display': 1,\n",
              " 'does': 1,\n",
              " 'done': 1,\n",
              " 'easily': 1,\n",
              " 'efficient': 1,\n",
              " 'either': 1,\n",
              " 'enhance': 1,\n",
              " 'enormous': 2,\n",
              " 'enough': 3,\n",
              " 'ensure': 1,\n",
              " 'entire': 1,\n",
              " 'essential': 1,\n",
              " 'established': 1,\n",
              " 'even': 4,\n",
              " 'every': 2,\n",
              " 'everyone': 1,\n",
              " 'example': 2,\n",
              " 'extra': 1,\n",
              " 'extremely': 1,\n",
              " 'fact': 1,\n",
              " 'fair': 1,\n",
              " 'fall': 1,\n",
              " 'few': 1,\n",
              " 'filter': 1,\n",
              " 'filters': 1,\n",
              " 'find': 1,\n",
              " 'first': 1,\n",
              " 'fitting': 1,\n",
              " 'follow': 1,\n",
              " 'for': 12,\n",
              " 'format': 1,\n",
              " 'formatting': 1,\n",
              " 'foundation': 1,\n",
              " 'fraud': 1,\n",
              " 'from': 1,\n",
              " 'fulfilling': 1,\n",
              " 'further': 1,\n",
              " 'gain': 2,\n",
              " 'gaining': 2,\n",
              " 'gathering': 1,\n",
              " 'give': 1,\n",
              " 'go': 1,\n",
              " 'great': 4,\n",
              " 'growth': 1,\n",
              " 'handy': 1,\n",
              " 'happy': 1,\n",
              " 'harvest': 1,\n",
              " 'have': 5,\n",
              " 'heard': 1,\n",
              " 'help': 1,\n",
              " 'helping': 1,\n",
              " 'hire': 1,\n",
              " 'however': 4,\n",
              " 'if': 1,\n",
              " 'impact': 1,\n",
              " 'implications': 2,\n",
              " 'important': 5,\n",
              " 'impression': 2,\n",
              " 'impressions': 3,\n",
              " 'imprint': 1,\n",
              " 'improvements': 1,\n",
              " 'in': 11,\n",
              " 'includes': 1,\n",
              " 'inconsistencies': 1,\n",
              " 'industry': 1,\n",
              " 'information': 1,\n",
              " 'insight': 1,\n",
              " 'insightful': 1,\n",
              " 'insights': 2,\n",
              " 'instinct': 1,\n",
              " 'interesting': 1,\n",
              " 'internet': 1,\n",
              " 'into': 2,\n",
              " 'is': 14,\n",
              " 'it': 10,\n",
              " 'its': 1,\n",
              " 'itself': 1,\n",
              " 'judge': 1,\n",
              " 'june': 1,\n",
              " 'just': 1,\n",
              " 'keep': 2,\n",
              " 'keeping': 2,\n",
              " 'landing': 1,\n",
              " 'large': 1,\n",
              " 'last': 1,\n",
              " 'learn': 1,\n",
              " 'leaves': 2,\n",
              " 'like': 1,\n",
              " 'long': 1,\n",
              " 'look': 1,\n",
              " 'looking': 1,\n",
              " 'lowest': 1,\n",
              " 'loyalty': 3,\n",
              " 'made': 1,\n",
              " 'major': 1,\n",
              " 'making': 1,\n",
              " 'manually': 1,\n",
              " 'many': 4,\n",
              " 'market': 3,\n",
              " 'marketing': 2,\n",
              " 'markets': 1,\n",
              " 'maximized': 1,\n",
              " 'mentioned': 2,\n",
              " 'minutes': 1,\n",
              " 'misleads': 1,\n",
              " 'momentum': 1,\n",
              " 'monitor': 1,\n",
              " 'monitoring': 2,\n",
              " 'more': 2,\n",
              " 'most': 2,\n",
              " 'mostly': 1,\n",
              " 'mud': 1,\n",
              " 'must': 1,\n",
              " 'need': 1,\n",
              " 'negative': 1,\n",
              " 'never': 1,\n",
              " 'new': 2,\n",
              " 'not': 9,\n",
              " 'numerous': 1,\n",
              " 'of': 22,\n",
              " 'on': 4,\n",
              " 'one': 5,\n",
              " 'only': 7,\n",
              " 'opinion': 1,\n",
              " 'opinions': 7,\n",
              " 'opportunities': 1,\n",
              " 'or': 11,\n",
              " 'other': 1,\n",
              " 'others': 1,\n",
              " 'out': 2,\n",
              " 'output': 1,\n",
              " 'overall': 2,\n",
              " 'overperiod': 1,\n",
              " 'own': 2,\n",
              " 'page': 1,\n",
              " 'part': 1,\n",
              " 'people': 3,\n",
              " 'perceived': 1,\n",
              " 'perception': 1,\n",
              " 'period': 1,\n",
              " 'person': 1,\n",
              " 'personal': 1,\n",
              " 'phases': 1,\n",
              " 'phenomenon': 1,\n",
              " 'pinpoint': 1,\n",
              " 'play': 1,\n",
              " 'points': 2,\n",
              " 'popular': 1,\n",
              " 'positions': 1,\n",
              " 'positive': 3,\n",
              " 'possible': 1,\n",
              " 'potential': 3,\n",
              " 'potentially': 1,\n",
              " 'practical': 2,\n",
              " 'previously': 2,\n",
              " 'pricing': 1,\n",
              " 'primitive': 1,\n",
              " 'process': 2,\n",
              " 'processes': 1,\n",
              " 'product': 8,\n",
              " 'products': 3,\n",
              " 'profile': 2,\n",
              " 'proof': 1,\n",
              " 'provide': 1,\n",
              " 'psychological': 1,\n",
              " 'public': 1,\n",
              " 'purpose': 1,\n",
              " 'quite': 2,\n",
              " 'rainfall': 1,\n",
              " 'readthrough': 1,\n",
              " 'reason': 2,\n",
              " 'recognize': 1,\n",
              " 'recommendations': 1,\n",
              " 'regarding': 1,\n",
              " 'reputation': 3,\n",
              " 'research': 3,\n",
              " 'reserved': 1,\n",
              " 'resonates': 1,\n",
              " 'resonating': 1,\n",
              " 'resources': 1,\n",
              " 'reviews': 20,\n",
              " 'rights': 1,\n",
              " 'rise': 1,\n",
              " 'role': 1,\n",
              " 'same': 1,\n",
              " 'sample': 2,\n",
              " 'say': 1,\n",
              " 'saying': 2,\n",
              " 'scraper': 3,\n",
              " 'scraping': 4,\n",
              " 'section': 1,\n",
              " 'seeks': 1,\n",
              " 'seen': 1,\n",
              " 'selling': 2,\n",
              " 'sentiment': 1,\n",
              " 'serve': 1,\n",
              " 'should': 2,\n",
              " 'shy': 1,\n",
              " 'simple': 2,\n",
              " 'since': 1,\n",
              " 'size': 2,\n",
              " 'small': 2,\n",
              " 'social': 4,\n",
              " 'something': 1,\n",
              " 'sometimes': 1,\n",
              " 'speak': 1,\n",
              " 'specific': 3,\n",
              " 'spectrum': 1,\n",
              " 'sphere': 1,\n",
              " 'storm': 1,\n",
              " 'strengthened': 1,\n",
              " 'strengths': 2,\n",
              " 'success': 1,\n",
              " 'suggest': 1,\n",
              " 'sustainability': 1,\n",
              " 'swot': 1,\n",
              " 'takes': 1,\n",
              " 'taking': 1,\n",
              " 'team': 1,\n",
              " 'technologies': 1,\n",
              " 'terrible': 1,\n",
              " 'testimonials': 1,\n",
              " 'text': 1,\n",
              " 'textbased': 1,\n",
              " 'thanks': 2,\n",
              " 'that': 11,\n",
              " 'the': 31,\n",
              " 'their': 7,\n",
              " 'them': 1,\n",
              " 'then': 2,\n",
              " 'therefore': 5,\n",
              " 'they': 2,\n",
              " 'this': 3,\n",
              " 'threats': 1,\n",
              " 'through': 1,\n",
              " 'time': 3,\n",
              " 'tire': 1,\n",
              " 'to': 27,\n",
              " 'together': 1,\n",
              " 'too': 2,\n",
              " 'trust': 4,\n",
              " 'two': 2,\n",
              " 'understand': 1,\n",
              " 'unique': 2,\n",
              " 'up': 2,\n",
              " 'upon': 1,\n",
              " 'us': 1,\n",
              " 'usage': 2,\n",
              " 'useful': 1,\n",
              " 'usp': 1,\n",
              " 'valuable': 1,\n",
              " 'various': 2,\n",
              " 'vehicle': 1,\n",
              " 'visible': 1,\n",
              " 'washed': 1,\n",
              " 'way': 4,\n",
              " 'ways': 1,\n",
              " 'we': 1,\n",
              " 'weaknesses': 2,\n",
              " 'web': 4,\n",
              " 'what': 2,\n",
              " 'when': 4,\n",
              " 'where': 1,\n",
              " 'whether': 1,\n",
              " 'which': 5,\n",
              " 'whole': 1,\n",
              " 'will': 2,\n",
              " 'with': 7,\n",
              " 'within': 1,\n",
              " 'work': 1,\n",
              " 'worry': 1,\n",
              " 'yield': 1,\n",
              " 'your': 5,\n",
              " 'zoom59': 1,\n",
              " '©': 1,\n",
              " '“': 2,\n",
              " '”': 2}"
            ]
          },
          "metadata": {},
          "execution_count": 15
        }
      ]
    },
    {
      "cell_type": "code",
      "metadata": {
        "colab": {
          "base_uri": "https://localhost:8080/"
        },
        "id": "h3vzitoLnImy",
        "outputId": "d3137adb-0074-4123-c2ad-0bdf5112f302"
      },
      "source": [
        "len(frekuensi_kata)"
      ],
      "execution_count": null,
      "outputs": [
        {
          "output_type": "execute_result",
          "data": {
            "text/plain": [
              "380"
            ]
          },
          "metadata": {},
          "execution_count": 16
        }
      ]
    },
    {
      "cell_type": "code",
      "metadata": {
        "colab": {
          "base_uri": "https://localhost:8080/"
        },
        "id": "Vsr3f_ednOSQ",
        "outputId": "b9c732cc-3ee2-4231-aa06-bd1e3dced7d1"
      },
      "source": [
        "### Stop Word \n",
        "\n",
        "stoplist = stopwords.words('english')\n",
        "\n",
        "print(stoplist)"
      ],
      "execution_count": null,
      "outputs": [
        {
          "output_type": "stream",
          "name": "stdout",
          "text": [
            "['i', 'me', 'my', 'myself', 'we', 'our', 'ours', 'ourselves', 'you', \"you're\", \"you've\", \"you'll\", \"you'd\", 'your', 'yours', 'yourself', 'yourselves', 'he', 'him', 'his', 'himself', 'she', \"she's\", 'her', 'hers', 'herself', 'it', \"it's\", 'its', 'itself', 'they', 'them', 'their', 'theirs', 'themselves', 'what', 'which', 'who', 'whom', 'this', 'that', \"that'll\", 'these', 'those', 'am', 'is', 'are', 'was', 'were', 'be', 'been', 'being', 'have', 'has', 'had', 'having', 'do', 'does', 'did', 'doing', 'a', 'an', 'the', 'and', 'but', 'if', 'or', 'because', 'as', 'until', 'while', 'of', 'at', 'by', 'for', 'with', 'about', 'against', 'between', 'into', 'through', 'during', 'before', 'after', 'above', 'below', 'to', 'from', 'up', 'down', 'in', 'out', 'on', 'off', 'over', 'under', 'again', 'further', 'then', 'once', 'here', 'there', 'when', 'where', 'why', 'how', 'all', 'any', 'both', 'each', 'few', 'more', 'most', 'other', 'some', 'such', 'no', 'nor', 'not', 'only', 'own', 'same', 'so', 'than', 'too', 'very', 's', 't', 'can', 'will', 'just', 'don', \"don't\", 'should', \"should've\", 'now', 'd', 'll', 'm', 'o', 're', 've', 'y', 'ain', 'aren', \"aren't\", 'couldn', \"couldn't\", 'didn', \"didn't\", 'doesn', \"doesn't\", 'hadn', \"hadn't\", 'hasn', \"hasn't\", 'haven', \"haven't\", 'isn', \"isn't\", 'ma', 'mightn', \"mightn't\", 'mustn', \"mustn't\", 'needn', \"needn't\", 'shan', \"shan't\", 'shouldn', \"shouldn't\", 'wasn', \"wasn't\", 'weren', \"weren't\", 'won', \"won't\", 'wouldn', \"wouldn't\"]\n"
          ]
        }
      ]
    },
    {
      "cell_type": "code",
      "metadata": {
        "colab": {
          "base_uri": "https://localhost:8080/"
        },
        "id": "6AwBieLKrRVh",
        "outputId": "a1c6d0c1-c1c4-488d-bd74-b0388dbb3bb6"
      },
      "source": [
        "kata_unik = list(frekuensi_kata)\n",
        "for kata in kata_unik:\n",
        "  if kata in stoplist:\n",
        "    del frekuensi_kata[kata]\n",
        "\n",
        "kata_unik"
      ],
      "execution_count": null,
      "outputs": [
        {
          "output_type": "execute_result",
          "data": {
            "text/plain": [
              "['web',\n",
              " 'scraper',\n",
              " 'cloud',\n",
              " 'pricing',\n",
              " 'learn',\n",
              " 'june',\n",
              " '01',\n",
              " '2021',\n",
              " 'analysis',\n",
              " 'data',\n",
              " 'like',\n",
              " 'vehicle',\n",
              " 'tire',\n",
              " 'leaves',\n",
              " 'imprint',\n",
              " 'mud',\n",
              " 'washed',\n",
              " 'away',\n",
              " 'great',\n",
              " 'storm',\n",
              " 'rainfall',\n",
              " 'impression',\n",
              " 'impact',\n",
              " 'product',\n",
              " 'becomes',\n",
              " 'formatting',\n",
              " 'foundation',\n",
              " 'opinion',\n",
              " 'altered',\n",
              " 'easily',\n",
              " '.',\n",
              " 'simple',\n",
              " 'reason',\n",
              " 'creating',\n",
              " 'interesting',\n",
              " 'positive',\n",
              " 'captivating',\n",
              " 'customers',\n",
              " 'go',\n",
              " 'long',\n",
              " 'way',\n",
              " 'business',\n",
              " \"'s\",\n",
              " 'success',\n",
              " 'overall',\n",
              " 'reputation',\n",
              " 'thanks',\n",
              " 'internet',\n",
              " 'customer',\n",
              " 'reviews',\n",
              " 'basically',\n",
              " 'text',\n",
              " 'format',\n",
              " 'different',\n",
              " 'impressions',\n",
              " 'opinions',\n",
              " 'almost',\n",
              " 'every',\n",
              " 'monitor',\n",
              " 'develop',\n",
              " 'various',\n",
              " 'analyses',\n",
              " 'build',\n",
              " 'trust',\n",
              " 'upon',\n",
              " 'keeping',\n",
              " 'saying',\n",
              " 'harvest',\n",
              " 'previously',\n",
              " 'mentioned',\n",
              " 'benefits',\n",
              " 'also',\n",
              " 'making',\n",
              " 'visible',\n",
              " 'heard',\n",
              " 'acknowledged',\n",
              " 'builds',\n",
              " 'loyalty',\n",
              " 'last',\n",
              " 'even',\n",
              " 'lowest',\n",
              " 'phases',\n",
              " 'work',\n",
              " 'filters',\n",
              " 'since',\n",
              " 'everyone',\n",
              " 'seeks',\n",
              " 'recommendations',\n",
              " 'testimonials',\n",
              " 'choosing',\n",
              " 'committing',\n",
              " 'therefore',\n",
              " 'either',\n",
              " 'approving',\n",
              " 'disapproving',\n",
              " 'gaining',\n",
              " 'completely',\n",
              " 'brand',\n",
              " 'new',\n",
              " 'look',\n",
              " 'specific',\n",
              " 'potential',\n",
              " 'filter',\n",
              " 'businesses',\n",
              " 'terrible',\n",
              " 'cases',\n",
              " 'fraud',\n",
              " 'certain',\n",
              " 'misleads',\n",
              " 'public',\n",
              " 'personal',\n",
              " 'gain',\n",
              " 'many',\n",
              " 'seen',\n",
              " 'regarding',\n",
              " 'sustainability',\n",
              " 'claims',\n",
              " 'established',\n",
              " 'important',\n",
              " 'extremely',\n",
              " 'however',\n",
              " 'valuable',\n",
              " 'practical',\n",
              " 'implications',\n",
              " 'processes',\n",
              " 'usage',\n",
              " 'spectrum',\n",
              " 'quite',\n",
              " 'large',\n",
              " 'time',\n",
              " 'find',\n",
              " 'ways',\n",
              " 'extra',\n",
              " 'momentum',\n",
              " 'astonishing',\n",
              " 'absorbing',\n",
              " 'aspect',\n",
              " 'popular',\n",
              " 'readthrough',\n",
              " 'textbased',\n",
              " 'sentiment',\n",
              " 'understand',\n",
              " 'attitude',\n",
              " 'primitive',\n",
              " 'must',\n",
              " 'analyzed',\n",
              " 'fact',\n",
              " 'market',\n",
              " 'research',\n",
              " 'maximized',\n",
              " 'one',\n",
              " 'aspects',\n",
              " 'includes',\n",
              " 'changing',\n",
              " 'attitudes',\n",
              " 'industry',\n",
              " 'collecting',\n",
              " '“',\n",
              " 'competitor',\n",
              " '”',\n",
              " 'overperiod',\n",
              " 'give',\n",
              " 'insight',\n",
              " 'whether',\n",
              " 'rise',\n",
              " 'fall',\n",
              " 'period',\n",
              " 'course',\n",
              " 'enormous',\n",
              " 'part',\n",
              " 'marketing',\n",
              " 'example',\n",
              " 'swot',\n",
              " 'strengths',\n",
              " 'weaknesses',\n",
              " 'opportunities',\n",
              " 'threats',\n",
              " 'alone',\n",
              " 'provide',\n",
              " 'essential',\n",
              " 'insights',\n",
              " \"'\",\n",
              " 'comes',\n",
              " 'sometimes',\n",
              " 'insightful',\n",
              " 'acknowledge',\n",
              " 'people',\n",
              " 'products',\n",
              " 'competitors',\n",
              " 'comparing',\n",
              " 'two',\n",
              " 'positions',\n",
              " 'able',\n",
              " 'pinpoint',\n",
              " 'unique',\n",
              " 'selling',\n",
              " 'points',\n",
              " 'usp',\n",
              " 'play',\n",
              " 'role',\n",
              " 'development',\n",
              " 'growth',\n",
              " 'apart',\n",
              " 'helping',\n",
              " 'recognize',\n",
              " 'useful',\n",
              " 'information',\n",
              " 'keep',\n",
              " 'monitoring',\n",
              " 'purpose',\n",
              " 'together',\n",
              " 'create',\n",
              " 'within',\n",
              " 'resonating',\n",
              " 'major',\n",
              " 'developments',\n",
              " 'mostly',\n",
              " 'done',\n",
              " 'basis',\n",
              " 'fair',\n",
              " 'say',\n",
              " 'companies',\n",
              " 'created',\n",
              " 'serve',\n",
              " 'need',\n",
              " 'something',\n",
              " 'markets',\n",
              " 'first',\n",
              " 'suggest',\n",
              " 'changes',\n",
              " 'discuss',\n",
              " 'improvements',\n",
              " 'shy',\n",
              " 'speak',\n",
              " 'inconsistencies',\n",
              " 'fulfilling',\n",
              " 'criticism',\n",
              " 'bad',\n",
              " 'negative',\n",
              " 'comments',\n",
              " 'output',\n",
              " 'fitting',\n",
              " 'sphere',\n",
              " 'building',\n",
              " 'social',\n",
              " 'profile',\n",
              " 'numerous',\n",
              " 'dedicated',\n",
              " 'section',\n",
              " 'landing',\n",
              " 'page',\n",
              " 'display',\n",
              " 'resonates',\n",
              " 'back',\n",
              " 'looking',\n",
              " 'perceived',\n",
              " 'perception',\n",
              " 'strengthened',\n",
              " 'built',\n",
              " 'proof',\n",
              " 'psychological',\n",
              " 'phenomenon',\n",
              " 'describes',\n",
              " 'process',\n",
              " 'instinct',\n",
              " 'follow',\n",
              " 'actions',\n",
              " 'others',\n",
              " 'considering',\n",
              " 'credibility',\n",
              " 'dealing',\n",
              " 'enough',\n",
              " 'briefly',\n",
              " 'judge',\n",
              " 'whole',\n",
              " 'concept',\n",
              " 'collect',\n",
              " 'possible',\n",
              " 'ensure',\n",
              " 'sample',\n",
              " 'size',\n",
              " 'small',\n",
              " 'scraping',\n",
              " 'handy',\n",
              " 'hire',\n",
              " 'entire',\n",
              " 'gathering',\n",
              " 'team',\n",
              " 'manually',\n",
              " 'takes',\n",
              " 'person',\n",
              " 'potentially',\n",
              " 'minutes',\n",
              " 'yield',\n",
              " 'accurate',\n",
              " 'conclusion',\n",
              " 'help',\n",
              " 'advantages',\n",
              " 'advancements',\n",
              " 'applying',\n",
              " 'technologies',\n",
              " 'never',\n",
              " 'worry',\n",
              " 'taking',\n",
              " 'ages',\n",
              " 'enhance',\n",
              " 'advance',\n",
              " 'efficient',\n",
              " 'happy',\n",
              " 'company',\n",
              " 'resources',\n",
              " 'contact',\n",
              " 'us',\n",
              " 'copyright',\n",
              " '©',\n",
              " 'rights',\n",
              " 'reserved',\n",
              " 'made',\n",
              " 'zoom59']"
            ]
          },
          "metadata": {},
          "execution_count": 28
        }
      ]
    },
    {
      "cell_type": "code",
      "metadata": {
        "colab": {
          "base_uri": "https://localhost:8080/"
        },
        "id": "u31RlMPhsxtB",
        "outputId": "3a3b13f7-19cd-4cb0-b5b9-c9ad22889309"
      },
      "source": [
        "len(frekuensi_kata)"
      ],
      "execution_count": null,
      "outputs": [
        {
          "output_type": "execute_result",
          "data": {
            "text/plain": [
              "319"
            ]
          },
          "metadata": {},
          "execution_count": 29
        }
      ]
    },
    {
      "cell_type": "markdown",
      "metadata": {
        "id": "sgjfSAg5tEfr"
      },
      "source": [
        "### STEMMING & LEMATIZATION"
      ]
    },
    {
      "cell_type": "code",
      "metadata": {
        "id": "WdfxOUk7tKvG"
      },
      "source": [
        "lemmatizer = WordNetLemmatizer() "
      ],
      "execution_count": null,
      "outputs": []
    },
    {
      "cell_type": "code",
      "metadata": {
        "colab": {
          "base_uri": "https://localhost:8080/"
        },
        "id": "bHg7ke1Mt3jM",
        "outputId": "8cc6ff50-9221-4f9c-a513-f02d38ce13b6"
      },
      "source": [
        "token_lemmatized = [lemmatizer.lemmatize(kata, pos='v') for kata in kata_unik]\n",
        "token_lemmatized = [lemmatizer.lemmatize(kata) for kata in token_lemmatized]\n",
        "\n",
        "frekuensi_kata_postprocessing = {}\n",
        "for kata in token_lemmatized:\n",
        "  if kata not in frekuensi_kata_postprocessing:\n",
        "    frekuensi_kata_postprocessing[kata] = 1\n",
        "  else:\n",
        "    frekuensi_kata_postprocessing[kata] += 1\n",
        "\n",
        "\n",
        "frekuensi_kata_postprocessing"
      ],
      "execution_count": null,
      "outputs": [
        {
          "output_type": "execute_result",
          "data": {
            "text/plain": [
              "{\"'\": 1,\n",
              " \"'s\": 1,\n",
              " '.': 1,\n",
              " '01': 1,\n",
              " '2021': 1,\n",
              " 'able': 1,\n",
              " 'absorb': 1,\n",
              " 'accurate': 1,\n",
              " 'acknowledge': 2,\n",
              " 'action': 1,\n",
              " 'advance': 1,\n",
              " 'advancement': 1,\n",
              " 'advantage': 1,\n",
              " 'age': 1,\n",
              " 'almost': 1,\n",
              " 'alone': 1,\n",
              " 'also': 1,\n",
              " 'alter': 1,\n",
              " 'analyse': 1,\n",
              " 'analysis': 1,\n",
              " 'analyze': 1,\n",
              " 'apart': 1,\n",
              " 'apply': 1,\n",
              " 'approve': 1,\n",
              " 'aspect': 2,\n",
              " 'astonish': 1,\n",
              " 'attitude': 2,\n",
              " 'away': 1,\n",
              " 'back': 1,\n",
              " 'bad': 1,\n",
              " 'basically': 1,\n",
              " 'basis': 1,\n",
              " 'become': 1,\n",
              " 'benefit': 1,\n",
              " 'brand': 1,\n",
              " 'briefly': 1,\n",
              " 'build': 4,\n",
              " 'business': 2,\n",
              " 'captivate': 1,\n",
              " 'case': 1,\n",
              " 'certain': 1,\n",
              " 'change': 2,\n",
              " 'choose': 1,\n",
              " 'claim': 1,\n",
              " 'cloud': 1,\n",
              " 'collect': 2,\n",
              " 'come': 1,\n",
              " 'comment': 1,\n",
              " 'commit': 1,\n",
              " 'company': 2,\n",
              " 'compare': 1,\n",
              " 'competitor': 2,\n",
              " 'completely': 1,\n",
              " 'concept': 1,\n",
              " 'conclusion': 1,\n",
              " 'consider': 1,\n",
              " 'contact': 1,\n",
              " 'copyright': 1,\n",
              " 'course': 1,\n",
              " 'create': 3,\n",
              " 'credibility': 1,\n",
              " 'criticism': 1,\n",
              " 'customer': 2,\n",
              " 'data': 1,\n",
              " 'deal': 1,\n",
              " 'dedicate': 1,\n",
              " 'describe': 1,\n",
              " 'develop': 1,\n",
              " 'development': 2,\n",
              " 'different': 1,\n",
              " 'disapprove': 1,\n",
              " 'discus': 1,\n",
              " 'display': 1,\n",
              " 'do': 1,\n",
              " 'easily': 1,\n",
              " 'efficient': 1,\n",
              " 'either': 1,\n",
              " 'enhance': 1,\n",
              " 'enormous': 1,\n",
              " 'enough': 1,\n",
              " 'ensure': 1,\n",
              " 'entire': 1,\n",
              " 'essential': 1,\n",
              " 'establish': 1,\n",
              " 'even': 1,\n",
              " 'every': 1,\n",
              " 'everyone': 1,\n",
              " 'example': 1,\n",
              " 'extra': 1,\n",
              " 'extremely': 1,\n",
              " 'fact': 1,\n",
              " 'fair': 1,\n",
              " 'fall': 1,\n",
              " 'filter': 2,\n",
              " 'find': 1,\n",
              " 'first': 1,\n",
              " 'fit': 1,\n",
              " 'follow': 1,\n",
              " 'format': 2,\n",
              " 'foundation': 1,\n",
              " 'fraud': 1,\n",
              " 'fulfil': 1,\n",
              " 'gain': 2,\n",
              " 'gather': 1,\n",
              " 'give': 1,\n",
              " 'go': 1,\n",
              " 'great': 1,\n",
              " 'growth': 1,\n",
              " 'handy': 1,\n",
              " 'happy': 1,\n",
              " 'harvest': 1,\n",
              " 'hear': 1,\n",
              " 'help': 2,\n",
              " 'hire': 1,\n",
              " 'however': 1,\n",
              " 'impact': 1,\n",
              " 'implication': 1,\n",
              " 'important': 1,\n",
              " 'impression': 2,\n",
              " 'imprint': 1,\n",
              " 'improvement': 1,\n",
              " 'include': 1,\n",
              " 'inconsistency': 1,\n",
              " 'industry': 1,\n",
              " 'information': 1,\n",
              " 'insight': 2,\n",
              " 'insightful': 1,\n",
              " 'instinct': 1,\n",
              " 'interest': 1,\n",
              " 'internet': 1,\n",
              " 'judge': 1,\n",
              " 'june': 1,\n",
              " 'keep': 2,\n",
              " 'land': 1,\n",
              " 'large': 1,\n",
              " 'last': 1,\n",
              " 'learn': 1,\n",
              " 'leave': 1,\n",
              " 'like': 1,\n",
              " 'long': 1,\n",
              " 'look': 2,\n",
              " 'lowest': 1,\n",
              " 'loyalty': 1,\n",
              " 'major': 1,\n",
              " 'make': 2,\n",
              " 'manually': 1,\n",
              " 'many': 1,\n",
              " 'market': 3,\n",
              " 'maximize': 1,\n",
              " 'mention': 1,\n",
              " 'minute': 1,\n",
              " 'mislead': 1,\n",
              " 'momentum': 1,\n",
              " 'monitor': 2,\n",
              " 'mostly': 1,\n",
              " 'mud': 1,\n",
              " 'must': 1,\n",
              " 'need': 1,\n",
              " 'negative': 1,\n",
              " 'never': 1,\n",
              " 'new': 1,\n",
              " 'numerous': 1,\n",
              " 'one': 1,\n",
              " 'opinion': 2,\n",
              " 'opportunity': 1,\n",
              " 'others': 1,\n",
              " 'output': 1,\n",
              " 'overall': 1,\n",
              " 'overperiod': 1,\n",
              " 'page': 1,\n",
              " 'part': 1,\n",
              " 'people': 1,\n",
              " 'perceive': 1,\n",
              " 'perception': 1,\n",
              " 'period': 1,\n",
              " 'person': 1,\n",
              " 'personal': 1,\n",
              " 'phase': 1,\n",
              " 'phenomenon': 1,\n",
              " 'pinpoint': 1,\n",
              " 'play': 1,\n",
              " 'point': 1,\n",
              " 'popular': 1,\n",
              " 'position': 1,\n",
              " 'positive': 1,\n",
              " 'possible': 1,\n",
              " 'potential': 1,\n",
              " 'potentially': 1,\n",
              " 'practical': 1,\n",
              " 'previously': 1,\n",
              " 'price': 1,\n",
              " 'primitive': 1,\n",
              " 'process': 2,\n",
              " 'product': 2,\n",
              " 'profile': 1,\n",
              " 'proof': 1,\n",
              " 'provide': 1,\n",
              " 'psychological': 1,\n",
              " 'public': 1,\n",
              " 'purpose': 1,\n",
              " 'quite': 1,\n",
              " 'rainfall': 1,\n",
              " 'readthrough': 1,\n",
              " 'reason': 1,\n",
              " 'recognize': 1,\n",
              " 'recommendation': 1,\n",
              " 'regard': 1,\n",
              " 'reputation': 1,\n",
              " 'research': 1,\n",
              " 'reserve': 1,\n",
              " 'resonate': 2,\n",
              " 'resource': 1,\n",
              " 'review': 1,\n",
              " 'right': 1,\n",
              " 'rise': 1,\n",
              " 'role': 1,\n",
              " 'sample': 1,\n",
              " 'say': 2,\n",
              " 'scrap': 1,\n",
              " 'scraper': 1,\n",
              " 'section': 1,\n",
              " 'see': 1,\n",
              " 'seek': 1,\n",
              " 'sell': 1,\n",
              " 'sentiment': 1,\n",
              " 'serve': 1,\n",
              " 'shy': 1,\n",
              " 'simple': 1,\n",
              " 'since': 1,\n",
              " 'size': 1,\n",
              " 'small': 1,\n",
              " 'social': 1,\n",
              " 'something': 1,\n",
              " 'sometimes': 1,\n",
              " 'speak': 1,\n",
              " 'specific': 1,\n",
              " 'spectrum': 1,\n",
              " 'sphere': 1,\n",
              " 'storm': 1,\n",
              " 'strength': 1,\n",
              " 'strengthen': 1,\n",
              " 'success': 1,\n",
              " 'suggest': 1,\n",
              " 'sustainability': 1,\n",
              " 'swot': 1,\n",
              " 'take': 2,\n",
              " 'team': 1,\n",
              " 'technology': 1,\n",
              " 'terrible': 1,\n",
              " 'testimonial': 1,\n",
              " 'text': 1,\n",
              " 'textbased': 1,\n",
              " 'thank': 1,\n",
              " 'therefore': 1,\n",
              " 'threat': 1,\n",
              " 'time': 1,\n",
              " 'tire': 1,\n",
              " 'together': 1,\n",
              " 'trust': 1,\n",
              " 'two': 1,\n",
              " 'u': 1,\n",
              " 'understand': 1,\n",
              " 'unique': 1,\n",
              " 'upon': 1,\n",
              " 'usage': 1,\n",
              " 'useful': 1,\n",
              " 'usp': 1,\n",
              " 'valuable': 1,\n",
              " 'various': 1,\n",
              " 'vehicle': 1,\n",
              " 'visible': 1,\n",
              " 'wash': 1,\n",
              " 'way': 2,\n",
              " 'weakness': 1,\n",
              " 'web': 1,\n",
              " 'whether': 1,\n",
              " 'whole': 1,\n",
              " 'within': 1,\n",
              " 'work': 1,\n",
              " 'worry': 1,\n",
              " 'yield': 1,\n",
              " 'zoom59': 1,\n",
              " '©': 1,\n",
              " '“': 1,\n",
              " '”': 1}"
            ]
          },
          "metadata": {},
          "execution_count": 36
        }
      ]
    },
    {
      "cell_type": "code",
      "metadata": {
        "colab": {
          "base_uri": "https://localhost:8080/"
        },
        "id": "VN4hb19nt71u",
        "outputId": "c670ac4e-eb28-4ad5-827d-bc5ad6aa29c8"
      },
      "source": [
        "print(len(frekuensi_kata))\n",
        "print(len(frekuensi_kata_postprocessing))"
      ],
      "execution_count": null,
      "outputs": [
        {
          "output_type": "stream",
          "name": "stdout",
          "text": [
            "319\n",
            "285\n"
          ]
        }
      ]
    }
  ]
}