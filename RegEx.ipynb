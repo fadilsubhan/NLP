{
  "nbformat": 4,
  "nbformat_minor": 0,
  "metadata": {
    "colab": {
      "name": "RegEx.ipynb",
      "provenance": [],
      "collapsed_sections": []
    },
    "kernelspec": {
      "name": "python3",
      "display_name": "Python 3"
    },
    "language_info": {
      "name": "python"
    }
  },
  "cells": [
    {
      "cell_type": "code",
      "metadata": {
        "id": "LCl9zBKcN5f6"
      },
      "source": [
        "import re"
      ],
      "execution_count": null,
      "outputs": []
    },
    {
      "cell_type": "code",
      "metadata": {
        "id": "nymJp8jmOfHI"
      },
      "source": [
        "txt = 'Halo semua, namaku Andy Joe. Kemarin smartphoneku mendapat SMS tagihan Pinjaman Online dari nomor 08004398499. Selain itu emailku juga mendapatkan pesan serupa dari debtcollector@pinjolninuninu.com. Ternyata salah satu temanku menjadikan nomor telepon dan emailku sebagai penanggungjawab pinjaman onlinenya :(. Tak lama sosok pria berbadan bongsor datang ke rumahku dengan menggunakan mogenya. Ia menanyakan keberadaan temanku yang meminjam uang di perusahaan Pinjol tersebut. Aku yang tak tahu keberadaannya pun menjawab apa adanya. Tak lama kemudian pria tersebut pergi dan segera kuambil gambar mogenya dengan plat PO 3030 AY. Setelah itu aku menghubungi temanku dan meminta penjelasan kepadanya.'"
      ],
      "execution_count": null,
      "outputs": []
    },
    {
      "cell_type": "markdown",
      "metadata": {
        "id": "rm-_SLcpO2Js"
      },
      "source": [
        "Nomor Telpon"
      ]
    },
    {
      "cell_type": "code",
      "metadata": {
        "colab": {
          "base_uri": "https://localhost:8080/"
        },
        "id": "_WVl9ulPO4Q7",
        "outputId": "513c5bb8-7c49-4d09-c48f-1026a489bdf5"
      },
      "source": [
        "telp_pattern = re.compile(r'(\\d{3}[-\\.\\s]??\\d{3}[-\\.\\s]??\\d{4,6}|\\(\\d{3}\\)\\s*\\d{3}[-\\.\\s]??\\d{4,6}|\\d{3,4}[-\\.\\s]??\\d{4,6})')\n",
        "number = re.findall(telp_pattern,txt)[0]\n",
        "print(str(number))"
      ],
      "execution_count": null,
      "outputs": [
        {
          "output_type": "stream",
          "name": "stdout",
          "text": [
            "08004398499\n"
          ]
        }
      ]
    },
    {
      "cell_type": "markdown",
      "metadata": {
        "id": "IppGJNTNO4o_"
      },
      "source": [
        "Email "
      ]
    },
    {
      "cell_type": "code",
      "metadata": {
        "colab": {
          "base_uri": "https://localhost:8080/"
        },
        "id": "Gdch4eAnO57-",
        "outputId": "9e9f26c4-6ffa-45f4-880a-b8d37a822f73"
      },
      "source": [
        "email_pattern = re.compile(r'([a-zA-Z0-9]+@[a-zA-Z]+\\.[a-zA-Z]{2,4})')\n",
        "email = re.findall(email_pattern,txt)[0]\n",
        "print(email)"
      ],
      "execution_count": null,
      "outputs": [
        {
          "output_type": "stream",
          "name": "stdout",
          "text": [
            "debtcollector@pinjolninuninu.com\n"
          ]
        }
      ]
    },
    {
      "cell_type": "markdown",
      "metadata": {
        "id": "QIJX_vLOO6Lb"
      },
      "source": [
        "Plat Nomer"
      ]
    },
    {
      "cell_type": "code",
      "metadata": {
        "colab": {
          "base_uri": "https://localhost:8080/"
        },
        "id": "tgDuh5NWO92Q",
        "outputId": "01af3ba2-d66b-44dc-ac45-ab49b8aef6ed"
      },
      "source": [
        "plat_pattern = re.compile(r'[A-Z]{1,2}\\s\\d{1,4}\\s[A-Z]{1,3}')\n",
        "plat  = re.findall(plat_pattern,txt)[0]\n",
        "print(plat)"
      ],
      "execution_count": null,
      "outputs": [
        {
          "output_type": "stream",
          "name": "stdout",
          "text": [
            "PO 3030 AY\n"
          ]
        }
      ]
    },
    {
      "cell_type": "markdown",
      "metadata": {
        "id": "aOaZFq9IdB7F"
      },
      "source": [
        "SOAL 1"
      ]
    },
    {
      "cell_type": "markdown",
      "metadata": {
        "id": "7opRYLzuccYm"
      },
      "source": [
        "txt1 = \"Halo xxxxx, Aku tadi habis didatangi debtcollector. Dia mengirimiku pesan lewat nomornya yaitu nomor_debtcollector dan email email_debtcollector. Dia bilang kamu jadiin nomorku dan emailku sebagai penanggungjawab. Bisa tolong jelasin? Terus aku tadi juga sempet foto motor yg dipake mas debtcollector. Plat nomornya plat_nomor_debtcollector.\""
      ]
    },
    {
      "cell_type": "code",
      "metadata": {
        "colab": {
          "base_uri": "https://localhost:8080/"
        },
        "id": "pWH8_oQScd9g",
        "outputId": "c61035a4-bba1-4294-fe3f-fa8a5e8c6589"
      },
      "source": [
        "print(f'Halo xxxxx, Aku tadi habis didatangi debtcollector.\\nDia mengirimiku pesan lewat nomornya yaitu {number} dan email {email}.\\nDia bilang kamu jadiin nomorku dan emailku sebagai penanggungjawab. Bisa tolong jelasin?\\nTerus aku tadi juga sempet foto motor yg dipake mas debtcollector. Plat nomornya {plat}.\"')"
      ],
      "execution_count": null,
      "outputs": [
        {
          "output_type": "stream",
          "name": "stdout",
          "text": [
            "Halo xxxxx, Aku tadi habis didatangi debtcollector.\n",
            "Dia mengirimiku pesan lewat nomornya yaitu 08004398499 dan email debtcollector@pinjolninuninu.com.\n",
            "Dia bilang kamu jadiin nomorku dan emailku sebagai penanggungjawab. Bisa tolong jelasin?\n",
            "Terus aku tadi juga sempet foto motor yg dipake mas debtcollector. Plat nomornya PO 3030 AY.\"\n"
          ]
        }
      ]
    },
    {
      "cell_type": "markdown",
      "metadata": {
        "id": "Skn7LsyvdfMd"
      },
      "source": [
        "SOAL 2\n",
        "Buatlah preprocessing sederhana dengan menghilangkan karakter titik, koma dan tanda tanya dari format pesan yang sudah dibuat (Di nomor 1)"
      ]
    },
    {
      "cell_type": "code",
      "metadata": {
        "colab": {
          "base_uri": "https://localhost:8080/"
        },
        "id": "RRvyZbu5dg3e",
        "outputId": "0bf61e41-5e3a-4d77-df92-15a9f193230e"
      },
      "source": [
        "name = 'Halo xxxxx, Aku tadi habis didatangi debtcollector.Dia mengirimiku pesan lewat nomornya yaitu 08004398499 dan email debtcollector@pinjolninuninu.com.Dia bilang kamu jadiin nomorku dan emailku sebagai penanggungjawab. Bisa tolong jelasin?Terus aku tadi juga sempet foto motor yg dipake mas debtcollector. Plat nomornya PO 3030 AY.'\n",
        "result = re.sub(r'[@,.?#]', '', name)\n",
        "print(result)"
      ],
      "execution_count": null,
      "outputs": [
        {
          "output_type": "stream",
          "name": "stdout",
          "text": [
            "Halo xxxxx Aku tadi habis didatangi debtcollectorDia mengirimiku pesan lewat nomornya yaitu 08004398499 dan email debtcollectorpinjolninuninucomDia bilang kamu jadiin nomorku dan emailku sebagai penanggungjawab Bisa tolong jelasinTerus aku tadi juga sempet foto motor yg dipake mas debtcollector Plat nomornya PO 3030 AY\n"
          ]
        }
      ]
    }
  ]
}