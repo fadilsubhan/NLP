{
  "nbformat": 4,
  "nbformat_minor": 0,
  "metadata": {
    "kernelspec": {
      "display_name": "Python 3",
      "language": "python",
      "name": "python3"
    },
    "language_info": {
      "codemirror_mode": {
        "name": "ipython",
        "version": 3
      },
      "file_extension": ".py",
      "mimetype": "text/x-python",
      "name": "python",
      "nbconvert_exporter": "python",
      "pygments_lexer": "ipython3",
      "version": "3.8.8"
    },
    "colab": {
      "name": "ChatbotAI_Sederhana.ipynb",
      "provenance": [],
      "collapsed_sections": []
    }
  },
  "cells": [
    {
      "cell_type": "markdown",
      "metadata": {
        "id": "za1gVNL5CRGY"
      },
      "source": [
        "# AI Chatbot in Python\n",
        "> Chatbot sederhana ini menggunakan konsep sederhana penerapan Cosine Similarity\n",
        "\n",
        "> Disini program Chatbot dibuat dengan sesuai kebutuhan pengguna, jadi kita bisa memilih apakah harus membuat program ini bisa bekerja pada topik tertentu, misalnya untuk Chatbot berbasis Covid-19, atau yang lainnya yang sedang relevan."
      ]
    },
    {
      "cell_type": "code",
      "metadata": {
        "id": "yE4rWjtACRGf"
      },
      "source": [
        "#sumber materi : https://towardsdatascience.com/making-a-simple-and-fast-chatbot-in-10-minutes-2d84a4ba35e\n",
        "#https://youtu.be/9KZwRBg4-P0"
      ],
      "execution_count": null,
      "outputs": []
    },
    {
      "cell_type": "markdown",
      "metadata": {
        "id": "YZW2gMYW-ZBR"
      },
      "source": [
        "# Tools scraping Artikel\n",
        "\n",
        "Pada program kali ini kita akan mengambil teks dari internet menggunakan tools newspaper3k, dimana tools ini memiliki beberapa kelebihan yaitu:\n",
        "1. Kerangka kerja dalam mengunduh artikel yang multi-thread\n",
        "2. Dapat mengidentifikasi URL baru\n",
        "3. Mampu mengekstraksi teks dari HTML\n",
        "4. Terbaik dalam hal ekstraksi gambar dari HTML\n",
        "5. Mampu mengekstraksi semua gambar dari HTML\n",
        "6. Dapat mengekstraksi kata kunci dari teks\n",
        "7. Dapat mengekstrak ringkasan teks\n",
        "8. Dapat mengekstraksi nama penulis suatu artikel\n",
        "9. Dapat mengekstraksi istilah yang sedang trend di mesin pencarian Google\n",
        "10. Dapat bekerja lebih dari 10 bahasa (termasuk Inggris, Jerman, Arab, China, dll)"
      ]
    },
    {
      "cell_type": "code",
      "metadata": {
        "id": "ye3nyhSyCRGi",
        "colab": {
          "base_uri": "https://localhost:8080/"
        },
        "outputId": "fba9d43e-e813-466e-c854-0dac53710209"
      },
      "source": [
        "!pip install newspaper3k"
      ],
      "execution_count": null,
      "outputs": [
        {
          "output_type": "stream",
          "name": "stdout",
          "text": [
            "Requirement already satisfied: newspaper3k in /usr/local/lib/python3.7/dist-packages (0.2.8)\n",
            "Requirement already satisfied: Pillow>=3.3.0 in /usr/local/lib/python3.7/dist-packages (from newspaper3k) (7.1.2)\n",
            "Requirement already satisfied: lxml>=3.6.0 in /usr/local/lib/python3.7/dist-packages (from newspaper3k) (4.2.6)\n",
            "Requirement already satisfied: beautifulsoup4>=4.4.1 in /usr/local/lib/python3.7/dist-packages (from newspaper3k) (4.6.3)\n",
            "Requirement already satisfied: tldextract>=2.0.1 in /usr/local/lib/python3.7/dist-packages (from newspaper3k) (3.1.2)\n",
            "Requirement already satisfied: jieba3k>=0.35.1 in /usr/local/lib/python3.7/dist-packages (from newspaper3k) (0.35.1)\n",
            "Requirement already satisfied: nltk>=3.2.1 in /usr/local/lib/python3.7/dist-packages (from newspaper3k) (3.2.5)\n",
            "Requirement already satisfied: tinysegmenter==0.3 in /usr/local/lib/python3.7/dist-packages (from newspaper3k) (0.3)\n",
            "Requirement already satisfied: requests>=2.10.0 in /usr/local/lib/python3.7/dist-packages (from newspaper3k) (2.23.0)\n",
            "Requirement already satisfied: feedfinder2>=0.0.4 in /usr/local/lib/python3.7/dist-packages (from newspaper3k) (0.0.4)\n",
            "Requirement already satisfied: feedparser>=5.2.1 in /usr/local/lib/python3.7/dist-packages (from newspaper3k) (6.0.8)\n",
            "Requirement already satisfied: python-dateutil>=2.5.3 in /usr/local/lib/python3.7/dist-packages (from newspaper3k) (2.8.2)\n",
            "Requirement already satisfied: cssselect>=0.9.2 in /usr/local/lib/python3.7/dist-packages (from newspaper3k) (1.1.0)\n",
            "Requirement already satisfied: PyYAML>=3.11 in /usr/local/lib/python3.7/dist-packages (from newspaper3k) (3.13)\n",
            "Requirement already satisfied: six in /usr/local/lib/python3.7/dist-packages (from feedfinder2>=0.0.4->newspaper3k) (1.15.0)\n",
            "Requirement already satisfied: sgmllib3k in /usr/local/lib/python3.7/dist-packages (from feedparser>=5.2.1->newspaper3k) (1.0.0)\n",
            "Requirement already satisfied: certifi>=2017.4.17 in /usr/local/lib/python3.7/dist-packages (from requests>=2.10.0->newspaper3k) (2021.5.30)\n",
            "Requirement already satisfied: urllib3!=1.25.0,!=1.25.1,<1.26,>=1.21.1 in /usr/local/lib/python3.7/dist-packages (from requests>=2.10.0->newspaper3k) (1.24.3)\n",
            "Requirement already satisfied: idna<3,>=2.5 in /usr/local/lib/python3.7/dist-packages (from requests>=2.10.0->newspaper3k) (2.10)\n",
            "Requirement already satisfied: chardet<4,>=3.0.2 in /usr/local/lib/python3.7/dist-packages (from requests>=2.10.0->newspaper3k) (3.0.4)\n",
            "Requirement already satisfied: filelock>=3.0.8 in /usr/local/lib/python3.7/dist-packages (from tldextract>=2.0.1->newspaper3k) (3.3.0)\n",
            "Requirement already satisfied: requests-file>=1.4 in /usr/local/lib/python3.7/dist-packages (from tldextract>=2.0.1->newspaper3k) (1.5.1)\n"
          ]
        }
      ]
    },
    {
      "cell_type": "code",
      "metadata": {
        "id": "4FGmgeEECRGi"
      },
      "source": [
        "# Import library\n",
        "from newspaper import Article\n",
        "import random\n",
        "import nltk\n",
        "import string\n",
        "from sklearn.feature_extraction.text import CountVectorizer\n",
        "from sklearn.metrics.pairwise import cosine_similarity\n",
        "import numpy as np\n",
        "import warnings\n",
        "warnings.filterwarnings('ignore')"
      ],
      "execution_count": null,
      "outputs": []
    },
    {
      "cell_type": "code",
      "metadata": {
        "id": "Sa8BD2nwCRGj",
        "colab": {
          "base_uri": "https://localhost:8080/"
        },
        "outputId": "1972ce8f-b079-4806-f963-e88d0b3812fb"
      },
      "source": [
        "nltk.download('punkt', quiet=True)"
      ],
      "execution_count": null,
      "outputs": [
        {
          "output_type": "execute_result",
          "data": {
            "text/plain": [
              "True"
            ]
          },
          "metadata": {},
          "execution_count": 4
        }
      ]
    },
    {
      "cell_type": "markdown",
      "metadata": {
        "id": "LTnOWF68CRGk"
      },
      "source": [
        "# Proses 1 (Membuat korpus dengan mendownload artikel dari sebuah link)\n",
        "\n",
        "Link dapat diganti dengan link teks berbhasa Indonesia, tetapi kali ini kita mencoba menggunakan teks berbahasa Inggris terlebih dahulu. "
      ]
    },
    {
      "cell_type": "code",
      "metadata": {
        "id": "otZH3R0eCRGk",
        "colab": {
          "base_uri": "https://localhost:8080/"
        },
        "outputId": "6464998b-748f-48ed-9c4d-16d4834cf75d"
      },
      "source": [
        "article = Article('https://www.mayoclinic.org/diseases-conditions/chronic-kidney-disease/symptoms-causes/syc-20354521')\n",
        "article.download()\n",
        "article.parse()\n",
        "article.nlp()\n",
        "corpus = article.text\n",
        "print(corpus)"
      ],
      "execution_count": null,
      "outputs": [
        {
          "output_type": "stream",
          "name": "stdout",
          "text": [
            "Overview\n",
            "\n",
            "Chronic kidney disease, also called chronic kidney failure, involves a gradual loss of kidney function. Your kidneys filter wastes and excess fluids from your blood, which are then removed in your urine. Advanced chronic kidney disease can cause dangerous levels of fluid, electrolytes and wastes to build up in your body.\n",
            "\n",
            "In the early stages of chronic kidney disease, you might have few signs or symptoms. You might not realize that you have kidney disease until the condition is advanced.\n",
            "\n",
            "Treatment for chronic kidney disease focuses on slowing the progression of kidney damage, usually by controlling the cause. But, even controlling the cause might not keep kidney damage from progressing. Chronic kidney disease can progress to end-stage kidney failure, which is fatal without artificial filtering (dialysis) or a kidney transplant.\n",
            "\n",
            "How kidneys work Show transcript for video How kidneys work One of the important jobs of the kidneys is to clean the blood. As blood moves through the body, it picks up extra fluid, chemicals and waste. The kidneys separate this material from the blood. It's carried out of the body in urine. If the kidneys are unable to do this and the condition is untreated, serious health problems result, with eventual loss of life.\n",
            "\n",
            "Symptoms\n",
            "\n",
            "Signs and symptoms of chronic kidney disease develop over time if kidney damage progresses slowly. Loss of kidney function can cause a buildup of fluid or body waste or electrolyte problems. Depending on how severe it is, loss of kidney function can cause:\n",
            "\n",
            "Nausea\n",
            "\n",
            "Vomiting\n",
            "\n",
            "Loss of appetite\n",
            "\n",
            "Fatigue and weakness\n",
            "\n",
            "Sleep problems\n",
            "\n",
            "Urinating more or less\n",
            "\n",
            "Decreased mental sharpness\n",
            "\n",
            "Muscle cramps\n",
            "\n",
            "Swelling of feet and ankles\n",
            "\n",
            "Dry, itchy skin\n",
            "\n",
            "High blood pressure (hypertension) that's difficult to control\n",
            "\n",
            "Shortness of breath, if fluid builds up in the lungs\n",
            "\n",
            "Chest pain, if fluid builds up around the lining of the heart\n",
            "\n",
            "Signs and symptoms of kidney disease are often nonspecific. This means they can also be caused by other illnesses. Because your kidneys are able to make up for lost function, you might not develop signs and symptoms until irreversible damage has occurred.\n",
            "\n",
            "When to see a doctor\n",
            "\n",
            "Make an appointment with your doctor if you have signs or symptoms of kidney disease. Early detection might help prevent kidney disease from progressing to kidney failure.\n",
            "\n",
            "If you have a medical condition that increases your risk of kidney disease, your doctor may monitor your blood pressure and kidney function with urine and blood tests during office visits. Ask your doctor whether these tests are necessary for you.\n",
            "\n",
            "Causes\n",
            "\n",
            "Healthy kidney vs. diseased kidney Open pop-up dialog box Close Healthy kidney vs. diseased kidney Healthy kidney vs. diseased kidney A typical kidney has about 1 million filtering units. Each unit, called a glomerulus, connects to a tubule, which collects urine. Conditions such as high blood pressure and diabetes take a toll on kidney function by damaging these filtering units and collecting tubules and causing scarring.\n",
            "\n",
            "Polycystic kidney Open pop-up dialog box Close Polycystic kidney Polycystic kidney A healthy kidney (left) eliminates waste from the blood and maintains the body's chemical balance. With polycystic kidney disease (right), fluid-filled sacs called cysts develop in the kidneys. The kidneys grow larger and gradually lose the ability to function as they should.\n",
            "\n",
            "Chronic kidney disease occurs when a disease or condition impairs kidney function, causing kidney damage to worsen over several months or years.\n",
            "\n",
            "Diseases and conditions that cause chronic kidney disease include:\n",
            "\n",
            "Type 1 or type 2 diabetes\n",
            "\n",
            "High blood pressure\n",
            "\n",
            "Glomerulonephritis (gloe-mer-u-low-nuh-FRY-tis), an inflammation of the kidney's filtering units (glomeruli)\n",
            "\n",
            "Interstitial nephritis (in-tur-STISH-ul nuh-FRY-tis), an inflammation of the kidney's tubules and surrounding structures\n",
            "\n",
            "Polycystic kidney disease or other inherited kidney diseases\n",
            "\n",
            "Prolonged obstruction of the urinary tract, from conditions such as enlarged prostate, kidney stones and some cancers\n",
            "\n",
            "Vesicoureteral (ves-ih-koe-yoo-REE-tur-ul) reflux, a condition that causes urine to back up into your kidneys\n",
            "\n",
            "Recurrent kidney infection, also called pyelonephritis (pie-uh-low-nuh-FRY-tis)\n",
            "\n",
            "Risk factors\n",
            "\n",
            "Factors that can increase your risk of chronic kidney disease include:\n",
            "\n",
            "Diabetes\n",
            "\n",
            "High blood pressure\n",
            "\n",
            "Heart (cardiovascular) disease\n",
            "\n",
            "Smoking\n",
            "\n",
            "Obesity\n",
            "\n",
            "Being Black, Native American or Asian American\n",
            "\n",
            "Family history of kidney disease\n",
            "\n",
            "Abnormal kidney structure\n",
            "\n",
            "Older age\n",
            "\n",
            "Frequent use of medications that can damage the kidneys\n",
            "\n",
            "Complications\n",
            "\n",
            "Chronic kidney disease can affect almost every part of your body. Potential complications include:\n",
            "\n",
            "Fluid retention, which could lead to swelling in your arms and legs, high blood pressure, or fluid in your lungs (pulmonary edema)\n",
            "\n",
            "A sudden rise in potassium levels in your blood (hyperkalemia), which could impair your heart's function and can be life-threatening\n",
            "\n",
            "Anemia\n",
            "\n",
            "Heart disease\n",
            "\n",
            "Weak bones and an increased risk of bone fractures\n",
            "\n",
            "Decreased sex drive, erectile dysfunction or reduced fertility\n",
            "\n",
            "Damage to your central nervous system, which can cause difficulty concentrating, personality changes or seizures\n",
            "\n",
            "Decreased immune response, which makes you more vulnerable to infection\n",
            "\n",
            "Pericarditis, an inflammation of the saclike membrane that envelops your heart (pericardium)\n",
            "\n",
            "Pregnancy complications that carry risks for the mother and the developing fetus\n",
            "\n",
            "Irreversible damage to your kidneys (end-stage kidney disease), eventually requiring either dialysis or a kidney transplant for survival\n",
            "\n",
            "Prevention\n",
            "\n",
            "To reduce your risk of developing kidney disease:\n"
          ]
        }
      ]
    },
    {
      "cell_type": "markdown",
      "metadata": {
        "id": "bGmRAQ9WCRGl"
      },
      "source": [
        "# Proses 2 (Memabagi corpus menjadi perkalimat)"
      ]
    },
    {
      "cell_type": "markdown",
      "metadata": {
        "id": "6uKh5YDZE5_8"
      },
      "source": [
        "Pada proses ini kita membagi article yg kita simpan di dalam corpus menjadi perkalimat-kalimat."
      ]
    },
    {
      "cell_type": "code",
      "metadata": {
        "id": "vh1UaZ3kCRGl",
        "colab": {
          "base_uri": "https://localhost:8080/"
        },
        "outputId": "e31d5609-dfa9-44e2-fe20-91be2b448136"
      },
      "source": [
        "# Tokenization\n",
        "text = corpus\n",
        "sentence_list = nltk.sent_tokenize(text) #A list of senetences\n",
        "\n",
        "# Print the list of sentences\n",
        "print(sentence_list)\n"
      ],
      "execution_count": null,
      "outputs": [
        {
          "output_type": "stream",
          "name": "stdout",
          "text": [
            "['Overview\\n\\nChronic kidney disease, also called chronic kidney failure, involves a gradual loss of kidney function.', 'Your kidneys filter wastes and excess fluids from your blood, which are then removed in your urine.', 'Advanced chronic kidney disease can cause dangerous levels of fluid, electrolytes and wastes to build up in your body.', 'In the early stages of chronic kidney disease, you might have few signs or symptoms.', 'You might not realize that you have kidney disease until the condition is advanced.', 'Treatment for chronic kidney disease focuses on slowing the progression of kidney damage, usually by controlling the cause.', 'But, even controlling the cause might not keep kidney damage from progressing.', 'Chronic kidney disease can progress to end-stage kidney failure, which is fatal without artificial filtering (dialysis) or a kidney transplant.', 'How kidneys work Show transcript for video How kidneys work One of the important jobs of the kidneys is to clean the blood.', 'As blood moves through the body, it picks up extra fluid, chemicals and waste.', 'The kidneys separate this material from the blood.', \"It's carried out of the body in urine.\", 'If the kidneys are unable to do this and the condition is untreated, serious health problems result, with eventual loss of life.', 'Symptoms\\n\\nSigns and symptoms of chronic kidney disease develop over time if kidney damage progresses slowly.', 'Loss of kidney function can cause a buildup of fluid or body waste or electrolyte problems.', \"Depending on how severe it is, loss of kidney function can cause:\\n\\nNausea\\n\\nVomiting\\n\\nLoss of appetite\\n\\nFatigue and weakness\\n\\nSleep problems\\n\\nUrinating more or less\\n\\nDecreased mental sharpness\\n\\nMuscle cramps\\n\\nSwelling of feet and ankles\\n\\nDry, itchy skin\\n\\nHigh blood pressure (hypertension) that's difficult to control\\n\\nShortness of breath, if fluid builds up in the lungs\\n\\nChest pain, if fluid builds up around the lining of the heart\\n\\nSigns and symptoms of kidney disease are often nonspecific.\", 'This means they can also be caused by other illnesses.', 'Because your kidneys are able to make up for lost function, you might not develop signs and symptoms until irreversible damage has occurred.', 'When to see a doctor\\n\\nMake an appointment with your doctor if you have signs or symptoms of kidney disease.', 'Early detection might help prevent kidney disease from progressing to kidney failure.', 'If you have a medical condition that increases your risk of kidney disease, your doctor may monitor your blood pressure and kidney function with urine and blood tests during office visits.', 'Ask your doctor whether these tests are necessary for you.', 'Causes\\n\\nHealthy kidney vs. diseased kidney Open pop-up dialog box Close Healthy kidney vs. diseased kidney Healthy kidney vs. diseased kidney A typical kidney has about 1 million filtering units.', 'Each unit, called a glomerulus, connects to a tubule, which collects urine.', 'Conditions such as high blood pressure and diabetes take a toll on kidney function by damaging these filtering units and collecting tubules and causing scarring.', \"Polycystic kidney Open pop-up dialog box Close Polycystic kidney Polycystic kidney A healthy kidney (left) eliminates waste from the blood and maintains the body's chemical balance.\", 'With polycystic kidney disease (right), fluid-filled sacs called cysts develop in the kidneys.', 'The kidneys grow larger and gradually lose the ability to function as they should.', 'Chronic kidney disease occurs when a disease or condition impairs kidney function, causing kidney damage to worsen over several months or years.', \"Diseases and conditions that cause chronic kidney disease include:\\n\\nType 1 or type 2 diabetes\\n\\nHigh blood pressure\\n\\nGlomerulonephritis (gloe-mer-u-low-nuh-FRY-tis), an inflammation of the kidney's filtering units (glomeruli)\\n\\nInterstitial nephritis (in-tur-STISH-ul nuh-FRY-tis), an inflammation of the kidney's tubules and surrounding structures\\n\\nPolycystic kidney disease or other inherited kidney diseases\\n\\nProlonged obstruction of the urinary tract, from conditions such as enlarged prostate, kidney stones and some cancers\\n\\nVesicoureteral (ves-ih-koe-yoo-REE-tur-ul) reflux, a condition that causes urine to back up into your kidneys\\n\\nRecurrent kidney infection, also called pyelonephritis (pie-uh-low-nuh-FRY-tis)\\n\\nRisk factors\\n\\nFactors that can increase your risk of chronic kidney disease include:\\n\\nDiabetes\\n\\nHigh blood pressure\\n\\nHeart (cardiovascular) disease\\n\\nSmoking\\n\\nObesity\\n\\nBeing Black, Native American or Asian American\\n\\nFamily history of kidney disease\\n\\nAbnormal kidney structure\\n\\nOlder age\\n\\nFrequent use of medications that can damage the kidneys\\n\\nComplications\\n\\nChronic kidney disease can affect almost every part of your body.\", \"Potential complications include:\\n\\nFluid retention, which could lead to swelling in your arms and legs, high blood pressure, or fluid in your lungs (pulmonary edema)\\n\\nA sudden rise in potassium levels in your blood (hyperkalemia), which could impair your heart's function and can be life-threatening\\n\\nAnemia\\n\\nHeart disease\\n\\nWeak bones and an increased risk of bone fractures\\n\\nDecreased sex drive, erectile dysfunction or reduced fertility\\n\\nDamage to your central nervous system, which can cause difficulty concentrating, personality changes or seizures\\n\\nDecreased immune response, which makes you more vulnerable to infection\\n\\nPericarditis, an inflammation of the saclike membrane that envelops your heart (pericardium)\\n\\nPregnancy complications that carry risks for the mother and the developing fetus\\n\\nIrreversible damage to your kidneys (end-stage kidney disease), eventually requiring either dialysis or a kidney transplant for survival\\n\\nPrevention\\n\\nTo reduce your risk of developing kidney disease:\"]\n"
          ]
        }
      ]
    },
    {
      "cell_type": "markdown",
      "metadata": {
        "id": "A0kZDPHxCRGm"
      },
      "source": [
        "# Proses 3 (Bot Response)\n",
        "\n",
        "Bot respon digunakan untuk membuat sebuah percakapan awal antara pengguna dengan bot, jadi disini user dapat menyapa bot, nah untuk kata-kata dapat diganti sesuai dengan kebutuhan, misalnya bahasa indonesia. \n",
        "\n",
        "Pada percakapan awal tidak menggunakan ML atau metode lainnya, program hanya menjawab dengan kata yang di cocokkan sebagai input."
      ]
    },
    {
      "cell_type": "code",
      "metadata": {
        "id": "qII0gu1dCRGm"
      },
      "source": [
        "#a function to return a random greeting response to a users greeting\n",
        "def greeting_response(text):\n",
        "    text = text.lower()\n",
        "    \n",
        "    #Bots greeting respone\n",
        "    bot_greetings = ['howdy','hi','hello','hola']\n",
        "    \n",
        "    #Users greeting\n",
        "    user_greetings = ['hi','hey','hello','greetings','wassup']\n",
        "    \n",
        "    for word in text.split():\n",
        "        if word in user_greetings:\n",
        "            return random.choice(bot_greetings)\n",
        "        \n",
        "    #Random response to greeting\n",
        "    def gratitude_response(text):\n",
        "        text=text.lower()\n",
        "   \n"
      ],
      "execution_count": null,
      "outputs": []
    },
    {
      "cell_type": "markdown",
      "metadata": {
        "id": "AZEgMQCr_HtI"
      },
      "source": [
        "1. Pada list kode bot_greetings itu bentuk kata sapaan bot terhadap sapaan yang kita berikan, dan dapat diganti dengan bahasa Indonesia atau lainnya.\n",
        "2. Sedangkan, pada list user_greetings itu kata sapaan input dari user dan dapat diganti dengan bahasa lainnya."
      ]
    },
    {
      "cell_type": "markdown",
      "metadata": {
        "id": "oTHbuHoO_SXL"
      },
      "source": [
        "# Sorting List"
      ]
    },
    {
      "cell_type": "code",
      "metadata": {
        "id": "ZQnYG5nQCRGn"
      },
      "source": [
        " def index_sort(list_var):\n",
        "    length = len(list_var)\n",
        "    list_index = list(range(0, length))\n",
        "    \n",
        "    x = list_var        \n",
        "    for i in range(length):\n",
        "        for j in range(length):\n",
        "            if x[list_index[i]] > x[list_index[j]]:\n",
        "                #swap\n",
        "                temp = list_index[i]\n",
        "                list_index[i] = list_index[j]\n",
        "                list_index[j] = temp\n",
        "                \n",
        "    return list_index"
      ],
      "execution_count": null,
      "outputs": []
    },
    {
      "cell_type": "markdown",
      "metadata": {
        "id": "lWBjiG9ZFUB5"
      },
      "source": [
        "Fungsi index_sort berfungsi untuk mengurutkan index pada list hasil similarity scores. Index akan diurutkan menurut element yg mempunyai similarity scores paling besar"
      ]
    },
    {
      "cell_type": "markdown",
      "metadata": {
        "id": "tIuiijdc_YZ2"
      },
      "source": [
        "# Chatbot Respon Menggunakan Cosine Similarity\n",
        "\n",
        "Pada respon bot menggunakan teknis Cosine Similarity untuk menghitung kata yang cocok dengan yang di input user terhadap respon dari Bot"
      ]
    },
    {
      "cell_type": "code",
      "metadata": {
        "id": "VrBJ58bvCRGn"
      },
      "source": [
        "# Creat Bots Response\n",
        "def bot_response(user_input):\n",
        "    user_input=user_input.lower() #Merubah input dari user menjadi huruf kecil\n",
        "    sentence_list.append(user_input) #Memasukkan input user kedalam corpus yg kita punya (corpus disimpan dalam variabel sentence_list)\n",
        "    bot_response= '' #Inisialisasi variabel bot response\n",
        "\n",
        "    cm=CountVectorizer().fit_transform(sentence_list) #Melakukan ekstraksi fitur pada corpus yg kita punya menggunakan CountVectorizer (Bag of Word)\n",
        "\n",
        "    similarity_scores=cosine_similarity(cm[-1],cm) #Menghitung cosine similarity antara hasil fitur ekstraksi input user (cm[-1]) dengan semua data dalam corpus\n",
        "    similarity_scores_list=similarity_scores.flatten() #Merubah hasil perhitungan cosine similarity menjadi list 1D\n",
        "    index=index_sort(similarity_scores_list) #Melakukan sorting untuk index pada similarity score berdasarkan element yg terbesar, kemudian hasilnya disimpan pada list yg bernama index\n",
        "    index=index[1:] \n",
        "\n",
        "    response_flag=0 \n",
        "    for i in range(len(index)):\n",
        "        if similarity_scores_list[index[i]]>0.0:\n",
        "            bot_response=bot_response+' '+sentence_list[index[i]]\n",
        "            response_flag=1\n",
        "\n",
        "        if response_flag==0:\n",
        "            bot_response=bot_response+\" \"+\"I apologize, I dont understand\" #Jika respon_flag = 0 (tidak ada kata yg cocok) maka akan memberikan response  apologize, I dont understand.\n",
        "\n",
        "        sentence_list.remove(user_input) #Meremove user_input yg sudah dimasukkan kedalam sentence_list (Corpus yg kita punya).\n",
        "\n",
        "        return bot_response"
      ],
      "execution_count": null,
      "outputs": []
    },
    {
      "cell_type": "markdown",
      "metadata": {
        "id": "2fvjGhBU_nyk"
      },
      "source": [
        "Pada listing kode >bot_response=bot_response+\" \"+\"I apologize, I dont understand\" pada list kode ini kata I apologize tujuannya untuk memberikan respon karena sistem tidak mengenali kata yang kita input, jadi sebagai bentuk respon bot kepada user. Kata tersebut bisa diganti dengan bahasa Indonesia, misalnya \"Maaf saya tidak mengetahui arti atau tidak mengenali kata-kata yang di input\"."
      ]
    },
    {
      "cell_type": "markdown",
      "metadata": {
        "id": "8-C33RGuCRGo"
      },
      "source": [
        "# Proses 4 (End Process, Making chat box)"
      ]
    },
    {
      "cell_type": "code",
      "metadata": {
        "id": "7GTB7h9TCRGo",
        "colab": {
          "base_uri": "https://localhost:8080/"
        },
        "outputId": "1fdfdece-75b4-45c0-e691-499baecf9b55"
      },
      "source": [
        "#Start Chat\n",
        "print(\"Doc Bot: I am DOc bot and I will answer your queries about chronic kidney disease, if you want to exit type, bye  ?\")\n",
        "\n",
        "exit_list=['exit','bye','see you later','quit']\n",
        "\n",
        "while(True):\n",
        "    user_input=input() #mengambil input pada user\n",
        "    if user_input.lower() in exit_list: #kalau input dari user ada didalam exit_list maka program akan berhenti\n",
        "        print('Doc Bot: Bye Bye See you later')\n",
        "        break\n",
        "    else:\n",
        "        if greeting_response(user_input)!= None: #Mengecek apakah input dari user masuk kedalam greeting atau bukan\n",
        "            print('Doc Bot: '+ greeting_response(user_input)) #Jika masuk kedalam greeting maka bot akan melakukan response terhadap greeting tersebut\n",
        "        else:\n",
        "            print('Doc Bot: '+ bot_response(user_input)) #Jika bukan, maka bot akan memanggil fungsi bot_response untuk menentukan respon apa yg akan ia keluarkan sesuai dengan input dari user"
      ],
      "execution_count": null,
      "outputs": [
        {
          "output_type": "stream",
          "name": "stdout",
          "text": [
            "Doc Bot: I am DOc bot and I will answer your queries about chronic kidney disease, if you want to exit type, bye  ?\n",
            "what is chronic kidney disease\n",
            "Doc Bot:  Overview\n",
            "\n",
            "Chronic kidney disease, also called chronic kidney failure, involves a gradual loss of kidney function.\n",
            "Pregnancy complications\n",
            "Doc Bot:  Potential complications include:\n",
            "\n",
            "Fluid retention, which could lead to swelling in your arms and legs, high blood pressure, or fluid in your lungs (pulmonary edema)\n",
            "\n",
            "A sudden rise in potassium levels in your blood (hyperkalemia), which could impair your heart's function and can be life-threatening\n",
            "\n",
            "Anemia\n",
            "\n",
            "Heart disease\n",
            "\n",
            "Weak bones and an increased risk of bone fractures\n",
            "\n",
            "Decreased sex drive, erectile dysfunction or reduced fertility\n",
            "\n",
            "Damage to your central nervous system, which can cause difficulty concentrating, personality changes or seizures\n",
            "\n",
            "Decreased immune response, which makes you more vulnerable to infection\n",
            "\n",
            "Pericarditis, an inflammation of the saclike membrane that envelops your heart (pericardium)\n",
            "\n",
            "Pregnancy complications that carry risks for the mother and the developing fetus\n",
            "\n",
            "Irreversible damage to your kidneys (end-stage kidney disease), eventually requiring either dialysis or a kidney transplant for survival\n",
            "\n",
            "Prevention\n",
            "\n",
            "To reduce your risk of developing kidney disease:\n",
            "pregnancy\n",
            "Doc Bot:  Potential complications include:\n",
            "\n",
            "Fluid retention, which could lead to swelling in your arms and legs, high blood pressure, or fluid in your lungs (pulmonary edema)\n",
            "\n",
            "A sudden rise in potassium levels in your blood (hyperkalemia), which could impair your heart's function and can be life-threatening\n",
            "\n",
            "Anemia\n",
            "\n",
            "Heart disease\n",
            "\n",
            "Weak bones and an increased risk of bone fractures\n",
            "\n",
            "Decreased sex drive, erectile dysfunction or reduced fertility\n",
            "\n",
            "Damage to your central nervous system, which can cause difficulty concentrating, personality changes or seizures\n",
            "\n",
            "Decreased immune response, which makes you more vulnerable to infection\n",
            "\n",
            "Pericarditis, an inflammation of the saclike membrane that envelops your heart (pericardium)\n",
            "\n",
            "Pregnancy complications that carry risks for the mother and the developing fetus\n",
            "\n",
            "Irreversible damage to your kidneys (end-stage kidney disease), eventually requiring either dialysis or a kidney transplant for survival\n",
            "\n",
            "Prevention\n",
            "\n",
            "To reduce your risk of developing kidney disease:\n",
            "bye\n",
            "Doc Bot: Bye Bye See you later\n"
          ]
        }
      ]
    },
    {
      "cell_type": "markdown",
      "metadata": {
        "id": "WavLomgtHxRI"
      },
      "source": [
        "Doc Bot ganti dengan ini atau sesuai dengan topik yang lagi di bahas, print(\"Doc Bot: Mau nanya apa kamu tentang kabel laut?\")"
      ]
    },
    {
      "cell_type": "code",
      "metadata": {
        "id": "WWdOizj-CRGp"
      },
      "source": [
        "#buat pertanyaan pada kolom diatas seperti : what is chronic kidney disease?, dll."
      ],
      "execution_count": null,
      "outputs": []
    },
    {
      "cell_type": "markdown",
      "metadata": {
        "id": "zJ5gxzVCgftf"
      },
      "source": [
        "---\n",
        "# AI Chatbot Versi Bahasa **Indonesia**\n",
        "# Proses 1 (Making Corpus with Download an Article)"
      ]
    },
    {
      "cell_type": "code",
      "metadata": {
        "id": "FYT3-ERtgjjS",
        "colab": {
          "base_uri": "https://localhost:8080/"
        },
        "outputId": "6cca1003-494e-4dee-cadb-1b4b5ccf380c"
      },
      "source": [
        "article = Article('https://warstek.com/kabel-laut/')\n",
        "article.download()\n",
        "article.parse()\n",
        "article.nlp()\n",
        "corpus = article.text\n",
        "print(corpus)"
      ],
      "execution_count": null,
      "outputs": [
        {
          "output_type": "stream",
          "name": "stdout",
          "text": [
            "Telkomsel, Indihome, dan Kabel Laut JaSuKa\n",
            "\n",
            "Pada hari Minggu lalu (19 September 2021), terjadi gangguan jaringan internet pada Telkomsel dan Indihome. Gangguan tersebut menyebabkan penurunan kualitas layanan TelkomGroup baik fixed maupun mobile broadband di beberapa wilayah Indonesia. Di masa pandemi yang menuntut orang untuk berada di rumah seperti ini, gangguan internet tentu menjadi masalah besar. Berbagai kegiatan penting seperti Seleksi Kompetensi Dasar (SKD) CPNS mengalami penundaan. Netizen pun banyak berkomentar negatif terkait hal ini. Saat artikel ini dirilis, gangguan tersebut mungkin belum benar-benar terselesaikan.\n",
            "\n",
            "Gangguan tersebut disebabkan oleh masalah pada sistem komunikasi kabel laut JaSuKa (Jawa, Sumatera dan Kalimantan) ruas Batam-Pontianak. Telkom memperkirakan proses perbaikan kabel laut yang terganggu akan berlangsung sekitar sebulan. Meski begitu, Telkom mencoba berbagai alternatif agar jaringan internet tetap dapat berjalan sebaik mungkin, meski tentu tidak sebaik ketika kondisi normal.\n",
            "\n",
            "Bagaimana pun juga, gangguan ini membuat banyak orang bertanya-tanya, “Apa hubungannya kabel di laut dengan internet?”, “Kenapa jaringan internet itu malah lewat kabel laut?”, “Kenapa nggak pakai satelit aja?”, “Kenapa jaringannya tidak segera membaik?”, dan lainnya. Artikel singkat ini akan mencoba membahas sedikit terkait hal itu.\n",
            "\n",
            "Ya, Internet itu ada di Bawah Laut\n",
            "\n",
            "Internet sering diasosiasikan dengan kata cloud atau wireless sehingga kita merasa bahwa internet itu dibawa oleh udara di sekitar kita. Ketika kita mendengar kata “jaringan internet”, yang terbayang mungkin gelombang antara menara pemancar di Bumi dengan satelit di angkasa. Itu tidak sepenuhnya salah. Internet memang ada di sekitar kita dan satelit memegang peran penting untuk itu. Namun, persepsi itu membuat kita melupakan bagian lain dari internet. Bagian terpenting yang sangat vital namun tidak akan pernah kita lihat, yaitu kabel laut. Sebelumnya, perlu kita ketahui bersama bahwa:\n",
            "\n",
            "99% Komunikasi Data Internasional itu Melalui Kabel Laut\n",
            "\n",
            "Itu adalah kalimat yang sudah banyak disampaikan di berbagai media massa, namun sepertinya masih belum banyak diketahui masyarakat umum. Lebih detailnya lagi, hanya sekitar 300 kabel bawah laut yang bertanggung jawab terhadap 99% lalu lintas komunikasi data internasional.\n",
            "\n",
            "Jaringan Kabel Laut di Dunia – www.submarinecablemap.com\n",
            "\n",
            "Gambar di atas merupakan jaringan kabel laut di dunia yang dapat diakses di www.submarinecablemap.com. Di sana, kita tidak hanya bisa melihat jaringan kabel secara keseluruhan, namun juga melihat lebih detail terkait salah satu kabel yang ada. Dari gambar di atas, jaringannya memang terlihat sangat banyak dan sangat rumit. Namun, kita perlu ingat bahwa komunikasi yang senantiasa terjadi di internet itu juga sangat banyak dan sangat rumit, jauh lebih banyak dan lebih rumit dari yang bisa kita bayangkan.\n",
            "\n",
            "Ketika kita mengirim satu chat ke teman di samping kita misalnya. Bisa jadi chat kita akan menempuh perjalanan yang amat sangat jauh. Mulai dari puluhan kilometer jalur darat secara wireless, kemudian melalui ribuan kilometer kabel laut, menuju ke data center di China atau Amerika, lalu kembali lagi ke Indonesia melalui kabel laut, dan sampai ke teman di samping kita secara wireless. Itu salah satu skenario yang mungkin terjadi, bisa saja jauh lebih pendek atau jauh lebih panjang. Sebagai mahasiswa Teknik Elektro yang pernah sedikit mendalami internet, yang bisa penulis katakan terkait internet adalah “It’s never been simple”\n",
            "\n",
            "Mengenal Kabel Laut\n",
            "\n",
            "Ketika mendengar bahwa 99% internet itu melewati kabel laut, apa bayangan kita terkait bentuk fisik dari kabel laut itu? Ukurannya mungkin memang sangat bervariasi, namun gambar berikut bisa memberikan gambaran bahwa ukuran kabelnya bisa jadi hanya sekecil ini\n",
            "\n",
            "Isi dari Kabel Laut – 99percentinvisible.org\n",
            "\n",
            "Hampir seluruh luasannya digunakan sebagai pelindung. Bagian yang mengalirkan informasi adalah fiber optik yang ukurannya tidak berbeda jauh dari sehelai rambut kita. Meski sangat kecil, dia mampu membawa informasi dengan sangat cepat, mendekati kecepatan cahaya. Itu karena informasi dibawa bukan sebagai sinyal listrik seperti kabel di rumah, namun sebagai sinyal cahaya. Kapasitasnya juga sangat besar, satu helai saja bisa memiliki kapasitas 100 gigabit per sekon. [Baca: Dasar Komunikasi Fiber Optik dan FTTH (Fiber To The Home)]\n",
            "\n",
            "Dengan itu semua, kabel laut jauh lebih cepat daripada satelit. Itu karena satelit yang biasanya digunakan untuk internet berada puluhan ribu kilometer di atas kita. Sementara itu, jalur melalui laut tidak akan lebih dari belasan ribu kilometer saja. Kapasitas transfer data dari satelit juga jauh lebih sulit untuk ditingkatkan dibanding kabel laut. Maka, meski keduanya memanfaatkan kecepatan cahaya, secara umum kabel laut tetap jauh lebih cepat daripada satelit. (Baca: SpaceX Luncurkan 60 Satelit Penyedia Internet Starlink)\n",
            "\n",
            "Namun, kabel laut juga memiliki banyak masalah. Banyak pihak yang menyebutkan bahwa kabel laut yang menjadi tulang punggung internet kita ini sebenarnya sangatlah rentan. Kabel laut dapat mengalami masalah akibat faktor alam, namun ini hanya mencakup 14 persen saja. Association of Sea Cable Communication Systems menyebutkan bahwa sebanyak 47% gangguan kabel laut disebabkan oleh jangkar kapal. Sementara itu, 28% disebabkan oleh sektor perikanan yang menggunakan FAD (fish aggregating devices). Di Indonesia pun, jangkar juga menjadi penyebab gangguan kabel terbesar. Hal itu mengingat lautan Indonesia juga sering dilewati banyak kapal.\n",
            "\n",
            "Jaringan Kabel Laut di Indonesia\n",
            "\n",
            "Kabel laut yang ada di negeri kita juga cukup banyak. Hal itu dapat dilihat pada Gambar berikut yang juga didapatkan dari www.submarinecablemap.com. Pada Gambar ini, jaringan kabel JaSuKa yang dimiliki Telkom Indonesia terlihat berwarna biru tua dan menghubungkan berbagai titik di Jawa, Sumatera, dan Kalimantan. JaSuKa memiliki total panjang hampir 11 ribu kilometer dan disebut menjadi salah satu yang terpanjang di dunia.\n",
            "\n",
            "Jaringan Kabel Laut di Indonesia – www.submarinecablemap.com\n",
            "\n",
            "Kabel laut memang jauh lebih murah daripada satelit, namun tetap saja tidak mudah dan tidak sederhana. Baik perencanaan maupun pengelolaannya memerlukan banyak pengorbanan. Ini wajar saja mengingat dunia bawah laut sangatlah kompleks dan penuh dengan berbagai hal yang tak terduga. Perlu diketahui pula bahwa setiap beberapa puluh kilometer, perlu terdapat repeater untuk menguatkan kembali sinyal cahaya yang telah melemah. Melihat kompleksitas itu, wajar saja jika perbaikan gangguan tidak bisa selesai dalam satu malam.\n",
            "\n",
            "Meski demikian, sistem yang besar umumnya memiliki berbagai alternatif jika sistem utamanya gagal. Hal ini juga kita dengar dari pihak Telkom, bahwa jalur backup dan alternatif telah diaktifkan untuk destinasi utama tertentu. Berbagai hal teknis yang tidak akan dipahami masyarakat umum pasti juga telah dilakukan.\n",
            "\n",
            "Bagaimana pun juga, gangguan ini menunjukan pada kita semua bahwa sistem internet di Indonesia sebenarnya masih belum kuat dan sangat rentan, apalagi jika kita meninjau Indonesia Timur. Di satu sisi, masyarakat umum perlu menyadari bahwa sistem internet secara fisiknya memang sangat kompleks dan sangat rentan terhadap berbagai gangguan serta tidak bisa diperbaiki dengan mudah. Di sisi lain, berbagai pihak yang berpartisipasi langsung di dalamnya perlu terus melakukan evaluasi dan pengembangan agar sistem internet di negeri kita dapat menjadi lebih handal. (Baca: Analisis terhadap Kualitas Jaringan Internet Indonesia yang Memburuk)\n",
            "\n",
            "Referensi\n",
            "\n",
            "Nur Fitriatus Shalihah, Sari Hardiyanto. Kronologi Gangguan Indihome dan Telkomsel Selama Beberapa Hari. Diakses dari Kompas: https://www.kompas.com/tren/read/2021/09/22/100958665/kronologi-gangguan-indihome-dan-telkomsel-selama-beberapa-hari?page=all\n",
            "\n",
            "Conney Stephanie, Oik Yusuf. Telkom Sebut Perbaikan Kabel Laut Jasuka Butuh Waktu Sebulan. Diakses dari Kompas: https://tekno.kompas.com/read/2021/09/22/19534287/telkom-sebut-perbaikan-kabel-laut-jasuka-butuh-waktu-sebulan\n",
            "\n",
            "Submarine Cable Map. https://www.submarinecablemap.com\n",
            "\n",
            "Kurt Kohlstedt. Underwater Cloud: Inside the Cables Carrying 99% of Transoceanic Data Traffic. Diakses dari 99% Invisible: https://99percentinvisible.org/article/underwater-cloud-inside-cables-carrying-99-international-data-traffic\n",
            "\n",
            "Dedi Dinarto. The Security Challenges Facing Indonesia’s Submarine Cable Communication System. Diakses dari The Diplomat: https://thediplomat.com/2021/06/the-security-challenges-facing-indonesias-submarine-cable-communication-system\n",
            "\n",
            "Setelah selesai membaca, yuk berikan artikel ini penilaian! Klik berdasarkan jumlah bintang untuk menilai!\n",
            "\n",
            "\n",
            "\n",
            "\n",
            "\n",
            "\n",
            "\n",
            "Berikan penilaian Rata-rata nilai 5 / 5. Banyaknya vote: 3 Belum ada yang menilai! Yuk jadi yang pertama kali menilai! Baca juga:\n",
            "\n",
            "\n",
            "\n",
            "Bagikan ini: Cetak\n",
            "\n",
            "WhatsApp\n",
            "\n",
            "Facebook\n",
            "\n",
            "Twitter\n",
            "\n",
            "Telegram\n",
            "\n",
            "\n"
          ]
        }
      ]
    },
    {
      "cell_type": "markdown",
      "metadata": {
        "id": "6KQ3Or6fiKxv"
      },
      "source": [
        "# Proses 2 (Tokenization)"
      ]
    },
    {
      "cell_type": "code",
      "metadata": {
        "colab": {
          "base_uri": "https://localhost:8080/"
        },
        "id": "qsID-u6Gg012",
        "outputId": "4a5cab81-38da-4c6d-b594-6bcb7a05433a"
      },
      "source": [
        "# Tokenization\n",
        "text = corpus\n",
        "sentence_list = nltk.sent_tokenize(text) #A list of senetences\n",
        "\n",
        "# Print the list of sentences\n",
        "print(sentence_list)"
      ],
      "execution_count": null,
      "outputs": [
        {
          "output_type": "stream",
          "name": "stdout",
          "text": [
            "['Telkomsel, Indihome, dan Kabel Laut JaSuKa\\n\\nPada hari Minggu lalu (19 September 2021), terjadi gangguan jaringan internet pada Telkomsel dan Indihome.', 'Gangguan tersebut menyebabkan penurunan kualitas layanan TelkomGroup baik fixed maupun mobile broadband di beberapa wilayah Indonesia.', 'Di masa pandemi yang menuntut orang untuk berada di rumah seperti ini, gangguan internet tentu menjadi masalah besar.', 'Berbagai kegiatan penting seperti Seleksi Kompetensi Dasar (SKD) CPNS mengalami penundaan.', 'Netizen pun banyak berkomentar negatif terkait hal ini.', 'Saat artikel ini dirilis, gangguan tersebut mungkin belum benar-benar terselesaikan.', 'Gangguan tersebut disebabkan oleh masalah pada sistem komunikasi kabel laut JaSuKa (Jawa, Sumatera dan Kalimantan) ruas Batam-Pontianak.', 'Telkom memperkirakan proses perbaikan kabel laut yang terganggu akan berlangsung sekitar sebulan.', 'Meski begitu, Telkom mencoba berbagai alternatif agar jaringan internet tetap dapat berjalan sebaik mungkin, meski tentu tidak sebaik ketika kondisi normal.', 'Bagaimana pun juga, gangguan ini membuat banyak orang bertanya-tanya, “Apa hubungannya kabel di laut dengan internet?”, “Kenapa jaringan internet itu malah lewat kabel laut?”, “Kenapa nggak pakai satelit aja?”, “Kenapa jaringannya tidak segera membaik?”, dan lainnya.', 'Artikel singkat ini akan mencoba membahas sedikit terkait hal itu.', 'Ya, Internet itu ada di Bawah Laut\\n\\nInternet sering diasosiasikan dengan kata cloud atau wireless sehingga kita merasa bahwa internet itu dibawa oleh udara di sekitar kita.', 'Ketika kita mendengar kata “jaringan internet”, yang terbayang mungkin gelombang antara menara pemancar di Bumi dengan satelit di angkasa.', 'Itu tidak sepenuhnya salah.', 'Internet memang ada di sekitar kita dan satelit memegang peran penting untuk itu.', 'Namun, persepsi itu membuat kita melupakan bagian lain dari internet.', 'Bagian terpenting yang sangat vital namun tidak akan pernah kita lihat, yaitu kabel laut.', 'Sebelumnya, perlu kita ketahui bersama bahwa:\\n\\n99% Komunikasi Data Internasional itu Melalui Kabel Laut\\n\\nItu adalah kalimat yang sudah banyak disampaikan di berbagai media massa, namun sepertinya masih belum banyak diketahui masyarakat umum.', 'Lebih detailnya lagi, hanya sekitar 300 kabel bawah laut yang bertanggung jawab terhadap 99% lalu lintas komunikasi data internasional.', 'Jaringan Kabel Laut di Dunia – www.submarinecablemap.com\\n\\nGambar di atas merupakan jaringan kabel laut di dunia yang dapat diakses di www.submarinecablemap.com.', 'Di sana, kita tidak hanya bisa melihat jaringan kabel secara keseluruhan, namun juga melihat lebih detail terkait salah satu kabel yang ada.', 'Dari gambar di atas, jaringannya memang terlihat sangat banyak dan sangat rumit.', 'Namun, kita perlu ingat bahwa komunikasi yang senantiasa terjadi di internet itu juga sangat banyak dan sangat rumit, jauh lebih banyak dan lebih rumit dari yang bisa kita bayangkan.', 'Ketika kita mengirim satu chat ke teman di samping kita misalnya.', 'Bisa jadi chat kita akan menempuh perjalanan yang amat sangat jauh.', 'Mulai dari puluhan kilometer jalur darat secara wireless, kemudian melalui ribuan kilometer kabel laut, menuju ke data center di China atau Amerika, lalu kembali lagi ke Indonesia melalui kabel laut, dan sampai ke teman di samping kita secara wireless.', 'Itu salah satu skenario yang mungkin terjadi, bisa saja jauh lebih pendek atau jauh lebih panjang.', 'Sebagai mahasiswa Teknik Elektro yang pernah sedikit mendalami internet, yang bisa penulis katakan terkait internet adalah “It’s never been simple”\\n\\nMengenal Kabel Laut\\n\\nKetika mendengar bahwa 99% internet itu melewati kabel laut, apa bayangan kita terkait bentuk fisik dari kabel laut itu?', 'Ukurannya mungkin memang sangat bervariasi, namun gambar berikut bisa memberikan gambaran bahwa ukuran kabelnya bisa jadi hanya sekecil ini\\n\\nIsi dari Kabel Laut – 99percentinvisible.org\\n\\nHampir seluruh luasannya digunakan sebagai pelindung.', 'Bagian yang mengalirkan informasi adalah fiber optik yang ukurannya tidak berbeda jauh dari sehelai rambut kita.', 'Meski sangat kecil, dia mampu membawa informasi dengan sangat cepat, mendekati kecepatan cahaya.', 'Itu karena informasi dibawa bukan sebagai sinyal listrik seperti kabel di rumah, namun sebagai sinyal cahaya.', 'Kapasitasnya juga sangat besar, satu helai saja bisa memiliki kapasitas 100 gigabit per sekon.', '[Baca: Dasar Komunikasi Fiber Optik dan FTTH (Fiber To The Home)]\\n\\nDengan itu semua, kabel laut jauh lebih cepat daripada satelit.', 'Itu karena satelit yang biasanya digunakan untuk internet berada puluhan ribu kilometer di atas kita.', 'Sementara itu, jalur melalui laut tidak akan lebih dari belasan ribu kilometer saja.', 'Kapasitas transfer data dari satelit juga jauh lebih sulit untuk ditingkatkan dibanding kabel laut.', 'Maka, meski keduanya memanfaatkan kecepatan cahaya, secara umum kabel laut tetap jauh lebih cepat daripada satelit.', '(Baca: SpaceX Luncurkan 60 Satelit Penyedia Internet Starlink)\\n\\nNamun, kabel laut juga memiliki banyak masalah.', 'Banyak pihak yang menyebutkan bahwa kabel laut yang menjadi tulang punggung internet kita ini sebenarnya sangatlah rentan.', 'Kabel laut dapat mengalami masalah akibat faktor alam, namun ini hanya mencakup 14 persen saja.', 'Association of Sea Cable Communication Systems menyebutkan bahwa sebanyak 47% gangguan kabel laut disebabkan oleh jangkar kapal.', 'Sementara itu, 28% disebabkan oleh sektor perikanan yang menggunakan FAD (fish aggregating devices).', 'Di Indonesia pun, jangkar juga menjadi penyebab gangguan kabel terbesar.', 'Hal itu mengingat lautan Indonesia juga sering dilewati banyak kapal.', 'Jaringan Kabel Laut di Indonesia\\n\\nKabel laut yang ada di negeri kita juga cukup banyak.', 'Hal itu dapat dilihat pada Gambar berikut yang juga didapatkan dari www.submarinecablemap.com.', 'Pada Gambar ini, jaringan kabel JaSuKa yang dimiliki Telkom Indonesia terlihat berwarna biru tua dan menghubungkan berbagai titik di Jawa, Sumatera, dan Kalimantan.', 'JaSuKa memiliki total panjang hampir 11 ribu kilometer dan disebut menjadi salah satu yang terpanjang di dunia.', 'Jaringan Kabel Laut di Indonesia – www.submarinecablemap.com\\n\\nKabel laut memang jauh lebih murah daripada satelit, namun tetap saja tidak mudah dan tidak sederhana.', 'Baik perencanaan maupun pengelolaannya memerlukan banyak pengorbanan.', 'Ini wajar saja mengingat dunia bawah laut sangatlah kompleks dan penuh dengan berbagai hal yang tak terduga.', 'Perlu diketahui pula bahwa setiap beberapa puluh kilometer, perlu terdapat repeater untuk menguatkan kembali sinyal cahaya yang telah melemah.', 'Melihat kompleksitas itu, wajar saja jika perbaikan gangguan tidak bisa selesai dalam satu malam.', 'Meski demikian, sistem yang besar umumnya memiliki berbagai alternatif jika sistem utamanya gagal.', 'Hal ini juga kita dengar dari pihak Telkom, bahwa jalur backup dan alternatif telah diaktifkan untuk destinasi utama tertentu.', 'Berbagai hal teknis yang tidak akan dipahami masyarakat umum pasti juga telah dilakukan.', 'Bagaimana pun juga, gangguan ini menunjukan pada kita semua bahwa sistem internet di Indonesia sebenarnya masih belum kuat dan sangat rentan, apalagi jika kita meninjau Indonesia Timur.', 'Di satu sisi, masyarakat umum perlu menyadari bahwa sistem internet secara fisiknya memang sangat kompleks dan sangat rentan terhadap berbagai gangguan serta tidak bisa diperbaiki dengan mudah.', 'Di sisi lain, berbagai pihak yang berpartisipasi langsung di dalamnya perlu terus melakukan evaluasi dan pengembangan agar sistem internet di negeri kita dapat menjadi lebih handal.', '(Baca: Analisis terhadap Kualitas Jaringan Internet Indonesia yang Memburuk)\\n\\nReferensi\\n\\nNur Fitriatus Shalihah, Sari Hardiyanto.', 'Kronologi Gangguan Indihome dan Telkomsel Selama Beberapa Hari.', 'Diakses dari Kompas: https://www.kompas.com/tren/read/2021/09/22/100958665/kronologi-gangguan-indihome-dan-telkomsel-selama-beberapa-hari?page=all\\n\\nConney Stephanie, Oik Yusuf.', 'Telkom Sebut Perbaikan Kabel Laut Jasuka Butuh Waktu Sebulan.', 'Diakses dari Kompas: https://tekno.kompas.com/read/2021/09/22/19534287/telkom-sebut-perbaikan-kabel-laut-jasuka-butuh-waktu-sebulan\\n\\nSubmarine Cable Map.', 'https://www.submarinecablemap.com\\n\\nKurt Kohlstedt.', 'Underwater Cloud: Inside the Cables Carrying 99% of Transoceanic Data Traffic.', 'Diakses dari 99% Invisible: https://99percentinvisible.org/article/underwater-cloud-inside-cables-carrying-99-international-data-traffic\\n\\nDedi Dinarto.', 'The Security Challenges Facing Indonesia’s Submarine Cable Communication System.', 'Diakses dari The Diplomat: https://thediplomat.com/2021/06/the-security-challenges-facing-indonesias-submarine-cable-communication-system\\n\\nSetelah selesai membaca, yuk berikan artikel ini penilaian!', 'Klik berdasarkan jumlah bintang untuk menilai!', 'Berikan penilaian Rata-rata nilai 5 / 5.', 'Banyaknya vote: 3 Belum ada yang menilai!', 'Yuk jadi yang pertama kali menilai!', 'Baca juga:\\n\\n\\n\\nBagikan ini: Cetak\\n\\nWhatsApp\\n\\nFacebook\\n\\nTwitter\\n\\nTelegram']\n"
          ]
        }
      ]
    },
    {
      "cell_type": "code",
      "metadata": {
        "id": "iq-tYfnBiS06"
      },
      "source": [
        ""
      ],
      "execution_count": null,
      "outputs": []
    },
    {
      "cell_type": "code",
      "metadata": {
        "id": "lYvkaKOHiia2"
      },
      "source": [
        "#a function to return a random greeting response to a users greeting\n",
        "def greeting_response(text):\n",
        "    text = text.lower()\n",
        "    \n",
        "    #Bots greeting respone\n",
        "    bot_greetings = ['halo','hai','yuhuu','*eyebrows up*']\n",
        "    \n",
        "    #Users greeting\n",
        "    user_greetings = ['Haloo','Eh iyaa Haii','Hai','greetings','wassup']\n",
        "    \n",
        "    for word in text.split():\n",
        "        if word in user_greetings:\n",
        "            return random.choice(bot_greetings)\n",
        "        \n",
        "    #Random response to greeting\n",
        "    def gratitude_response(text):\n",
        "        text=text.lower()\n",
        "   \n"
      ],
      "execution_count": null,
      "outputs": []
    },
    {
      "cell_type": "code",
      "metadata": {
        "id": "TZU6BZB3iia7"
      },
      "source": [
        " def index_sort(list_var):\n",
        "    length = len(list_var)\n",
        "    list_index = list(range(0, length))\n",
        "    \n",
        "    x = list_var        \n",
        "    for i in range(length):\n",
        "        for j in range(length):\n",
        "            if x[list_index[i]] > x[list_index[j]]:\n",
        "                #swap\n",
        "                temp = list_index[i]\n",
        "                list_index[i] = list_index[j]\n",
        "                list_index[j] = temp\n",
        "                \n",
        "    return list_index"
      ],
      "execution_count": null,
      "outputs": []
    },
    {
      "cell_type": "code",
      "metadata": {
        "id": "jgD-wmTwiia7"
      },
      "source": [
        "# Creat Bots Response\n",
        "def bot_response(user_input):\n",
        "    user_input=user_input.lower() #Merubah input dari user menjadi huruf kecil\n",
        "    sentence_list.append(user_input) #Memasukkan input user kedalam corpus yg kita punya (corpus disimpan dalam variabel sentence_list)\n",
        "    bot_response= '' #Inisialisasi variabel bot response\n",
        "\n",
        "    cm=CountVectorizer().fit_transform(sentence_list) #Melakukan ekstraksi fitur pada corpus yg kita punya menggunakan CountVectorizer (Bag of Word)\n",
        "\n",
        "    similarity_scores=cosine_similarity(cm[-1],cm) #Menghitung cosine similarity antara hasil fitur ekstraksi input user (cm[-1]) dengan semua data dalam corpus\n",
        "    similarity_scores_list=similarity_scores.flatten() #Merubah hasil perhitungan cosine similarity menjadi list 1D\n",
        "    index=index_sort(similarity_scores_list) #Melakukan sorting untuk index pada similarity score berdasarkan element yg terbesar, kemudian hasilnya disimpan pada list yg bernama index\n",
        "    index=index[1:] \n",
        "\n",
        "    response_flag=0 \n",
        "    for i in range(len(index)):\n",
        "        if similarity_scores_list[index[i]]>0.0:\n",
        "            bot_response=bot_response+' '+sentence_list[index[i]]\n",
        "            response_flag=1\n",
        "            \n",
        "        if response_flag==0:\n",
        "            bot_response=bot_response+\" \"+\"Maaf aku tidak mengerti\" #Jika respon_flag = 0 (tidak ada kata yg cocok) maka akan memberikan response  apologize, I dont understand.\n",
        "\n",
        "        sentence_list.remove(user_input) #Meremove user_input yg sudah dimasukkan kedalam sentence_list (Corpus yg kita punya).\n",
        "\n",
        "        return bot_response"
      ],
      "execution_count": null,
      "outputs": []
    },
    {
      "cell_type": "markdown",
      "metadata": {
        "id": "PVF_g7Xyiia8"
      },
      "source": [
        "# Proses 4 (End Process, Making chat box)"
      ]
    },
    {
      "cell_type": "code",
      "metadata": {
        "colab": {
          "base_uri": "https://localhost:8080/"
        },
        "id": "knRbg2R0iia8",
        "outputId": "352d6920-b3ef-4bdc-fd3e-865aa057192d"
      },
      "source": [
        "#Start Chat\n",
        "print(\"Doc Bot: Mau nanya apa kamu tentang kabel laut\")\n",
        "\n",
        "exit_list=['exit','bye','keluar','quit', 'sampai jumpa']\n",
        "\n",
        "while(True):\n",
        "    user_input=input() #mengambil input pada user\n",
        "    if user_input.lower() in exit_list: #kalau input dari user ada didalam exit_list maka program akan berhenti\n",
        "        print('Doc Bot: Bye Bye Sampai Jumpa Lagi')\n",
        "        break\n",
        "    else:\n",
        "        if greeting_response(user_input)!= None: #Mengecek apakah input dari user masuk kedalam greeting atau bukan\n",
        "            print('Doc Bot: '+ greeting_response(user_input)) #Jika masuk kedalam greeting maka bot akan melakukan response terhadap greeting tersebut\n",
        "        else:\n",
        "            print('Doc Bot: '+ bot_response(user_input)) #Jika bukan, maka bot akan memanggil fungsi bot_response untuk menentukan respon apa yg akan ia keluarkan sesuai dengan input dari user"
      ],
      "execution_count": null,
      "outputs": [
        {
          "output_type": "stream",
          "name": "stdout",
          "text": [
            "Doc Bot: Mau nanya apa kamu tentang kabel laut\n",
            "apa itu kabel laut\n",
            "Doc Bot:  Sebagai mahasiswa Teknik Elektro yang pernah sedikit mendalami internet, yang bisa penulis katakan terkait internet adalah “It’s never been simple”\n",
            "\n",
            "Mengenal Kabel Laut\n",
            "\n",
            "Ketika mendengar bahwa 99% internet itu melewati kabel laut, apa bayangan kita terkait bentuk fisik dari kabel laut itu?\n",
            "kabel laut murah\n",
            "Doc Bot:  Jaringan Kabel Laut di Indonesia – www.submarinecablemap.com\n",
            "\n",
            "Kabel laut memang jauh lebih murah daripada satelit, namun tetap saja tidak mudah dan tidak sederhana.\n",
            "keluar\n",
            "Doc Bot: Bye Bye Sampai Jumpa Lagi\n"
          ]
        }
      ]
    },
    {
      "cell_type": "code",
      "metadata": {
        "id": "H8psLH5Ji4ng"
      },
      "source": [
        "# kabel laut adalah\n",
        "# kabel laut untuk komunikasi internasional adalah"
      ],
      "execution_count": null,
      "outputs": []
    },
    {
      "cell_type": "markdown",
      "metadata": {
        "id": "__m7uZi5s51x"
      },
      "source": [
        "## Activity (3-5 kelompok dalam 30-60 menit)\n",
        "- Buatlah bot sederhana dengan topik tertentu. Data (knowledge base) boleh berasal dari mana saja, disesuaikan dengna topik yang ingin diambil. \n",
        "- Wajib menggunakan versi Bahasa Inggris dan Bahasa Indonesia.\n",
        "- Gunakan beberapa artikel agar bot memiliki pengetahuan yang lebih luas.\n",
        "- Buat simulasi pertanyaan dan tampilkan hasilnya (contoh output).\n",
        "- Jawaban tidak ada yang benar atau yang salah, yang terpenting bot mampu memberi respon yang baik sesuai dengan topik yang dibahas."
      ]
    },
    {
      "cell_type": "code",
      "metadata": {
        "id": "YRi66G4_jfbz",
        "colab": {
          "base_uri": "https://localhost:8080/"
        },
        "outputId": "d829950c-2988-4b75-887f-dfa243c42e46"
      },
      "source": [
        "!pip install newspaper3k"
      ],
      "execution_count": null,
      "outputs": [
        {
          "output_type": "stream",
          "name": "stdout",
          "text": [
            "Requirement already satisfied: newspaper3k in /usr/local/lib/python3.7/dist-packages (0.2.8)\n",
            "Requirement already satisfied: feedparser>=5.2.1 in /usr/local/lib/python3.7/dist-packages (from newspaper3k) (6.0.8)\n",
            "Requirement already satisfied: feedfinder2>=0.0.4 in /usr/local/lib/python3.7/dist-packages (from newspaper3k) (0.0.4)\n",
            "Requirement already satisfied: tinysegmenter==0.3 in /usr/local/lib/python3.7/dist-packages (from newspaper3k) (0.3)\n",
            "Requirement already satisfied: beautifulsoup4>=4.4.1 in /usr/local/lib/python3.7/dist-packages (from newspaper3k) (4.6.3)\n",
            "Requirement already satisfied: jieba3k>=0.35.1 in /usr/local/lib/python3.7/dist-packages (from newspaper3k) (0.35.1)\n",
            "Requirement already satisfied: lxml>=3.6.0 in /usr/local/lib/python3.7/dist-packages (from newspaper3k) (4.2.6)\n",
            "Requirement already satisfied: Pillow>=3.3.0 in /usr/local/lib/python3.7/dist-packages (from newspaper3k) (7.1.2)\n",
            "Requirement already satisfied: nltk>=3.2.1 in /usr/local/lib/python3.7/dist-packages (from newspaper3k) (3.2.5)\n",
            "Requirement already satisfied: cssselect>=0.9.2 in /usr/local/lib/python3.7/dist-packages (from newspaper3k) (1.1.0)\n",
            "Requirement already satisfied: python-dateutil>=2.5.3 in /usr/local/lib/python3.7/dist-packages (from newspaper3k) (2.8.2)\n",
            "Requirement already satisfied: PyYAML>=3.11 in /usr/local/lib/python3.7/dist-packages (from newspaper3k) (3.13)\n",
            "Requirement already satisfied: tldextract>=2.0.1 in /usr/local/lib/python3.7/dist-packages (from newspaper3k) (3.1.2)\n",
            "Requirement already satisfied: requests>=2.10.0 in /usr/local/lib/python3.7/dist-packages (from newspaper3k) (2.23.0)\n",
            "Requirement already satisfied: six in /usr/local/lib/python3.7/dist-packages (from feedfinder2>=0.0.4->newspaper3k) (1.15.0)\n",
            "Requirement already satisfied: sgmllib3k in /usr/local/lib/python3.7/dist-packages (from feedparser>=5.2.1->newspaper3k) (1.0.0)\n",
            "Requirement already satisfied: chardet<4,>=3.0.2 in /usr/local/lib/python3.7/dist-packages (from requests>=2.10.0->newspaper3k) (3.0.4)\n",
            "Requirement already satisfied: idna<3,>=2.5 in /usr/local/lib/python3.7/dist-packages (from requests>=2.10.0->newspaper3k) (2.10)\n",
            "Requirement already satisfied: urllib3!=1.25.0,!=1.25.1,<1.26,>=1.21.1 in /usr/local/lib/python3.7/dist-packages (from requests>=2.10.0->newspaper3k) (1.24.3)\n",
            "Requirement already satisfied: certifi>=2017.4.17 in /usr/local/lib/python3.7/dist-packages (from requests>=2.10.0->newspaper3k) (2021.5.30)\n",
            "Requirement already satisfied: requests-file>=1.4 in /usr/local/lib/python3.7/dist-packages (from tldextract>=2.0.1->newspaper3k) (1.5.1)\n",
            "Requirement already satisfied: filelock>=3.0.8 in /usr/local/lib/python3.7/dist-packages (from tldextract>=2.0.1->newspaper3k) (3.3.0)\n"
          ]
        }
      ]
    },
    {
      "cell_type": "code",
      "metadata": {
        "id": "gwWQmvse9a7A"
      },
      "source": [
        "# Import library\n",
        "from newspaper import Article\n",
        "import random\n",
        "import nltk\n",
        "import string\n",
        "from sklearn.feature_extraction.text import CountVectorizer\n",
        "from sklearn.metrics.pairwise import cosine_similarity\n",
        "import numpy as np\n",
        "import warnings\n",
        "warnings.filterwarnings('ignore')"
      ],
      "execution_count": null,
      "outputs": []
    },
    {
      "cell_type": "code",
      "metadata": {
        "colab": {
          "base_uri": "https://localhost:8080/"
        },
        "id": "Qi1cPTO69flM",
        "outputId": "410eb20f-16ab-4e18-e96e-c4aa230cba53"
      },
      "source": [
        "nltk.download('punkt', quiet=True)"
      ],
      "execution_count": null,
      "outputs": [
        {
          "output_type": "execute_result",
          "data": {
            "text/plain": [
              "True"
            ]
          },
          "metadata": {},
          "execution_count": 3
        }
      ]
    },
    {
      "cell_type": "markdown",
      "metadata": {
        "id": "etpN2fdG9rkl"
      },
      "source": [
        "## Make corpus"
      ]
    },
    {
      "cell_type": "code",
      "metadata": {
        "colab": {
          "base_uri": "https://localhost:8080/"
        },
        "id": "C2xmZoC69nRe",
        "outputId": "e8a08f02-c5b7-41d7-d915-ae89545aa552"
      },
      "source": [
        "article = Article('https://www.hsph.harvard.edu/nutritionsource/healthy-eating-plate/')\n",
        "article.download()\n",
        "article.parse()\n",
        "article.nlp()\n",
        "corpus = article.text\n",
        "print(corpus)"
      ],
      "execution_count": null,
      "outputs": [
        {
          "output_type": "stream",
          "name": "stdout",
          "text": [
            "Use the Healthy Eating Plate as a guide for creating healthy, balanced meals—whether served at the table or packed in a lunch box. Click on each section of the interactive image below to learn more.\n",
            "\n",
            "\n",
            "\n",
            "Looking for a printable copy? Download one here, and hang it on your refrigerator to serve as a daily reminder when planning and preparing your meals! Translations of the Healthy Eating Plate are also available in over 25 languages.\n",
            "\n",
            "Building a Healthy and Balanced Diet\n",
            "\n",
            "Make most of your meal vegetables and fruits – ½ of your plate.\n",
            "\n",
            "Aim for color and variety, and remember that potatoes don’t count as vegetables on the Healthy Eating Plate because of their negative impact on blood sugar.\n",
            "\n",
            "Go for whole grains – ¼ of your plate.\n",
            "\n",
            "Whole and intact grains—whole wheat, barley, wheat berries, quinoa, oats, brown rice, and foods made with them, such as whole wheat pasta—have a milder effect on blood sugar and insulin than white bread, white rice, and other refined grains.\n",
            "\n",
            "Protein power – ¼ of your plate.\n",
            "\n",
            "Fish, poultry, beans, and nuts are all healthy, versatile protein sources—they can be mixed into salads, and pair well with vegetables on a plate. Limit red meat, and avoid processed meats such as bacon and sausage.\n",
            "\n",
            "Healthy plant oils – in moderation.\n",
            "\n",
            "Choose healthy vegetable oils like olive, canola, soy, corn, sunflower, peanut, and others, and avoid partially hydrogenated oils, which contain unhealthy trans fats. Remember that low-fat does not mean “healthy.”\n",
            "\n",
            "Drink water, coffee, or tea.\n",
            "\n",
            "Skip sugary drinks, limit milk and dairy products to one to two servings per day, and limit juice to a small glass per day.\n",
            "\n",
            "Stay active.\n",
            "\n",
            "The red figure running across the Healthy Eating Plate’s placemat is a reminder that staying active is also important in weight control.\n",
            "\n",
            "The main message of the Healthy Eating Plate is to focus on diet quality:\n",
            "\n",
            "The type of carbohydrate in the diet is more important than the amount of carbohydrate in the diet, because some sources of carbohydrate—like vegetables (other than potatoes), fruits, whole grains, and beans—are healthier than others.\n",
            "\n",
            "The Healthy Eating Plate also advises consumers to avoid sugary beverages, a major source of calories—usually with little nutritional value—in the American diet.\n",
            "\n",
            "The Healthy Eating Plate encourages consumers to use healthy oils, and it does not set a maximum on the percentage of calories people should get each day from healthy sources of fat. In this way, the Healthy Eating Plate recommends the opposite of the low-fat message promoted for decades by the USDA.\n",
            "\n",
            "Your Plate and the Planet Just as different foods can have differing impacts on human health, they also have differing impacts on the environment. Food production is a major contributor to greenhouse gas emissions, and it places an enormous demand upon our earth’s natural resources. Learn about the impacts of the foods on your plate\n",
            "\n",
            "Your Questions Answered\n",
            "\n",
            "Are the relative sizes of the Healthy Eating Plate sections based on calories or volume?\n",
            "\n",
            "The Healthy Eating Plate does not define a certain number of calories or servings per day from each food group. The relative section sizes suggest approximate relative proportions of each of the food groups to include on a healthy plate. They are not based on specific calorie amounts, and they are not meant to prescribe a certain number of calories or servings per day, since individuals’ calorie and nutrient needs vary based on age, gender, body size, and level of activity.\n",
            "\n",
            "How can I apply this guide if I don’t eat my meals from a single plate? As the name suggests, the Healthy Eating Plate is visualized as a single plate, however it can be used as a guide for creating healthy, balanced meals—no matter which type of dishware is used! For example, while you wouldn’t consume soup on a plate—you can consider the relative sizes of each section when choosing what to add to the pot before serving in a bowl: make about half of your ingredients a variety of colorful vegetables (carrots, celery, spinach, tomatoes, sautéed in olive oil), and the other half a mix of whole grains (such as farro) and a healthy protein (such as beans).\n",
            "\n",
            "Or maybe you’re eating your meal in courses, or as multiple dishes in smaller sizes: a plate of grilled fish over brown rice; a green side salad filled with veggies; and some fruit for a sweet end to the meal.\n",
            "\n",
            "Portioning a meal into separate components is also common when packing a lunchbox—especially for kids. There are many cultures around the world in which people may not eat their meals from a plate. Although our translations of this guide maintain the single-plate graphic, we encourage its use for creating healthy, balanced meals in context of cultural and individual customs and preferences.\n",
            "\n",
            "What about alcohol? Isn’t alcohol supposed to be good for you in small amounts?\n",
            "\n",
            "For some people, moderate alcohol consumption can offer health benefits, whereas for others alcohol may pose risks. Learn more about the risks and benefits of alcohol.\n",
            "\n",
            "Who created the Healthy Eating Plate? The Healthy Eating Plate, created by nutrition experts at the Harvard T.H. Chan School of Public Health and editors at Harvard Health Publications, was designed to address deficiencies in the U.S. Department of Agriculture (USDA)’s MyPlate. The Healthy Eating Plate provides detailed guidance, in a simple format, to help people make the best eating choices. The Healthy Eating Plate is based exclusively on the best available science and was not subjected to political or commercial pressures from food industry lobbyists. Learn more about how the Healthy Eating Plate compares to the USDA’s MyPlate.\n",
            "\n",
            "What about the Healthy Eating Pyramid? Will it be going away?\n",
            "\n",
            "Generations of Americans are accustomed to the food pyramid design, and it’s not going away. In fact, the Healthy Eating Pyramid and the Healthy Eating Plate complement each other. See how you can use the Healthy Eating Pyramid as a guide for your grocery shopping list.\n",
            "\n",
            "Will following the Healthy Eating Pyramid and Healthy Eating Plate guidelines really make me healthier?\n",
            "\n",
            "According to research done at Harvard Chan School of Public Health and elsewhere [1-3], following the guidelines presented through the Healthy Eating Pyramid and Healthy Eating Plate can lead to a lower risk of heart disease and premature death: In the 1990s, the USDA’s Center for Nutrition Policy and Promotion created the Healthy Eating Index “to measure how well American diets conform to recommended healthy eating patterns.” [4] A score of 100 meant following the federal recommendations to the letter while a score of 0 meant totally ignoring them.\n",
            "\n",
            "To see how well the principles embodied in the Healthy Eating Pyramid stacked up against the government’s advice, researchers at the Harvard Chan School of Public Health created an Alternate Healthy Eating Index with a scoring system similar to the USDA’s index. They then compared the two indexes, using information about daily diets collected from more than 100,000 female nurses and male health professionals taking part in two long-term studies. The eleven components assessed by the Alternate Healthy Eating Index were dairy products; vegetables; fruit; nuts & seeds; bread/grains; meat, poultry & fish; cholesterol; fat; sodium; alcohol; and multivitamins. Men who scored highest on the USDA’s original Healthy Eating Index (meaning their diets most closely followed federal recommendations) reduced their overall risk of developing heart disease, cancer, or other chronic disease by 11% over 8 to 12 years of follow-up compared to those who scored lowest. Women who most closely followed the government’s recommendations were only 3% less likely to have developed a chronic disease. [5] In comparison, scores on the Alternate Healthy Eating Index did appear to correlate more closely with better health in both sexes. Men with high scores (those whose diets most closely followed the Healthy Eating Pyramid guidelines) were 20% less likely to have developed a major chronic disease than those with low scores. Women with high scores lowered their overall risk by 11%. Men whose diets most closely followed the Healthy Eating Pyramid lowered their risk of cardiovascular disease by almost 40%; women with high scores lowered their risk by almost 30%. In a 2014 study looking at trends in diet quality among adults in the U.S., researchers using the Alternate Healthy Eating Index found that there was steady improvement from 1999 to 2010, but that overall dietary quality remains poor. [6]\n",
            "\n",
            "Two studies offer further evidence of the disease prevention benefits that accrue from following a diet similar to one based on the Healthy Eating Pyramid: A study that tracked 7,319 British civil servants for 18 years found that men and women with the highest scores on the Alternate Healthy Eating Index had a 25% lower risk of dying from any cause, and a 42% lower risk of dying from heart disease, than people with the lowest scores. [3]\n",
            "\n",
            "Another observational study in 93,676 post-menopausal women found that following a Healthy Eating Pyramid-style diet (as measured by adherence to the Alternative Healthy Eating Index) was superior to following a low-fat diet at lowering cardiovascular disease and heart failure risk. [1]\n",
            "\n",
            "Permissions for Use\n",
            "\n",
            "The Healthy Eating Plate image is owned by Harvard University. The downloadable version may be used, without permission, for educational and other non-commercial uses with proper attribution, including the following copyright notification and credit line:\n",
            "\n",
            "Copyright © 2011, Harvard University. For more information about The Healthy Eating Plate, please see The Nutrition Source, Department of Nutrition, Harvard T.H. Chan School of Public Health, www.thenutritionsource.org, and Harvard Health Publications, www.health.harvard.edu.\n",
            "\n",
            "Terms of Use\n",
            "\n",
            "The contents of this website are for educational purposes and are not intended to offer personal medical advice. You should seek the advice of your physician or other qualified health provider with any questions you may have regarding a medical condition. Never disregard professional medical advice or delay in seeking it because of something you have read on this website. The Nutrition Source does not recommend or endorse any products.\n"
          ]
        }
      ]
    },
    {
      "cell_type": "markdown",
      "metadata": {
        "id": "yptlJoZV-gyN"
      },
      "source": [
        "## Tokenizing"
      ]
    },
    {
      "cell_type": "code",
      "metadata": {
        "colab": {
          "base_uri": "https://localhost:8080/"
        },
        "id": "HPFx3uy--cdv",
        "outputId": "e9ff391d-7021-4ae5-81cf-18538f40a480"
      },
      "source": [
        "# Tokenization\n",
        "text = corpus\n",
        "sentence_list = nltk.sent_tokenize(text) #A list of senetences\n",
        "\n",
        "# Print the list of sentences\n",
        "print(sentence_list)"
      ],
      "execution_count": null,
      "outputs": [
        {
          "output_type": "stream",
          "name": "stdout",
          "text": [
            "['Use the Healthy Eating Plate as a guide for creating healthy, balanced meals—whether served at the table or packed in a lunch box.', 'Click on each section of the interactive image below to learn more.', 'Looking for a printable copy?', 'Download one here, and hang it on your refrigerator to serve as a daily reminder when planning and preparing your meals!', 'Translations of the Healthy Eating Plate are also available in over 25 languages.', 'Building a Healthy and Balanced Diet\\n\\nMake most of your meal vegetables and fruits – ½ of your plate.', 'Aim for color and variety, and remember that potatoes don’t count as vegetables on the Healthy Eating Plate because of their negative impact on blood sugar.', 'Go for whole grains – ¼ of your plate.', 'Whole and intact grains—whole wheat, barley, wheat berries, quinoa, oats, brown rice, and foods made with them, such as whole wheat pasta—have a milder effect on blood sugar and insulin than white bread, white rice, and other refined grains.', 'Protein power – ¼ of your plate.', 'Fish, poultry, beans, and nuts are all healthy, versatile protein sources—they can be mixed into salads, and pair well with vegetables on a plate.', 'Limit red meat, and avoid processed meats such as bacon and sausage.', 'Healthy plant oils – in moderation.', 'Choose healthy vegetable oils like olive, canola, soy, corn, sunflower, peanut, and others, and avoid partially hydrogenated oils, which contain unhealthy trans fats.', 'Remember that low-fat does not mean “healthy.”\\n\\nDrink water, coffee, or tea.', 'Skip sugary drinks, limit milk and dairy products to one to two servings per day, and limit juice to a small glass per day.', 'Stay active.', 'The red figure running across the Healthy Eating Plate’s placemat is a reminder that staying active is also important in weight control.', 'The main message of the Healthy Eating Plate is to focus on diet quality:\\n\\nThe type of carbohydrate in the diet is more important than the amount of carbohydrate in the diet, because some sources of carbohydrate—like vegetables (other than potatoes), fruits, whole grains, and beans—are healthier than others.', 'The Healthy Eating Plate also advises consumers to avoid sugary beverages, a major source of calories—usually with little nutritional value—in the American diet.', 'The Healthy Eating Plate encourages consumers to use healthy oils, and it does not set a maximum on the percentage of calories people should get each day from healthy sources of fat.', 'In this way, the Healthy Eating Plate recommends the opposite of the low-fat message promoted for decades by the USDA.', 'Your Plate and the Planet Just as different foods can have differing impacts on human health, they also have differing impacts on the environment.', 'Food production is a major contributor to greenhouse gas emissions, and it places an enormous demand upon our earth’s natural resources.', 'Learn about the impacts of the foods on your plate\\n\\nYour Questions Answered\\n\\nAre the relative sizes of the Healthy Eating Plate sections based on calories or volume?', 'The Healthy Eating Plate does not define a certain number of calories or servings per day from each food group.', 'The relative section sizes suggest approximate relative proportions of each of the food groups to include on a healthy plate.', 'They are not based on specific calorie amounts, and they are not meant to prescribe a certain number of calories or servings per day, since individuals’ calorie and nutrient needs vary based on age, gender, body size, and level of activity.', 'How can I apply this guide if I don’t eat my meals from a single plate?', 'As the name suggests, the Healthy Eating Plate is visualized as a single plate, however it can be used as a guide for creating healthy, balanced meals—no matter which type of dishware is used!', 'For example, while you wouldn’t consume soup on a plate—you can consider the relative sizes of each section when choosing what to add to the pot before serving in a bowl: make about half of your ingredients a variety of colorful vegetables (carrots, celery, spinach, tomatoes, sautéed in olive oil), and the other half a mix of whole grains (such as farro) and a healthy protein (such as beans).', 'Or maybe you’re eating your meal in courses, or as multiple dishes in smaller sizes: a plate of grilled fish over brown rice; a green side salad filled with veggies; and some fruit for a sweet end to the meal.', 'Portioning a meal into separate components is also common when packing a lunchbox—especially for kids.', 'There are many cultures around the world in which people may not eat their meals from a plate.', 'Although our translations of this guide maintain the single-plate graphic, we encourage its use for creating healthy, balanced meals in context of cultural and individual customs and preferences.', 'What about alcohol?', 'Isn’t alcohol supposed to be good for you in small amounts?', 'For some people, moderate alcohol consumption can offer health benefits, whereas for others alcohol may pose risks.', 'Learn more about the risks and benefits of alcohol.', 'Who created the Healthy Eating Plate?', 'The Healthy Eating Plate, created by nutrition experts at the Harvard T.H.', 'Chan School of Public Health and editors at Harvard Health Publications, was designed to address deficiencies in the U.S. Department of Agriculture (USDA)’s MyPlate.', 'The Healthy Eating Plate provides detailed guidance, in a simple format, to help people make the best eating choices.', 'The Healthy Eating Plate is based exclusively on the best available science and was not subjected to political or commercial pressures from food industry lobbyists.', 'Learn more about how the Healthy Eating Plate compares to the USDA’s MyPlate.', 'What about the Healthy Eating Pyramid?', 'Will it be going away?', 'Generations of Americans are accustomed to the food pyramid design, and it’s not going away.', 'In fact, the Healthy Eating Pyramid and the Healthy Eating Plate complement each other.', 'See how you can use the Healthy Eating Pyramid as a guide for your grocery shopping list.', 'Will following the Healthy Eating Pyramid and Healthy Eating Plate guidelines really make me healthier?', 'According to research done at Harvard Chan School of Public Health and elsewhere [1-3], following the guidelines presented through the Healthy Eating Pyramid and Healthy Eating Plate can lead to a lower risk of heart disease and premature death: In the 1990s, the USDA’s Center for Nutrition Policy and Promotion created the Healthy Eating Index “to measure how well American diets conform to recommended healthy eating patterns.” [4] A score of 100 meant following the federal recommendations to the letter while a score of 0 meant totally ignoring them.', 'To see how well the principles embodied in the Healthy Eating Pyramid stacked up against the government’s advice, researchers at the Harvard Chan School of Public Health created an Alternate Healthy Eating Index with a scoring system similar to the USDA’s index.', 'They then compared the two indexes, using information about daily diets collected from more than 100,000 female nurses and male health professionals taking part in two long-term studies.', 'The eleven components assessed by the Alternate Healthy Eating Index were dairy products; vegetables; fruit; nuts & seeds; bread/grains; meat, poultry & fish; cholesterol; fat; sodium; alcohol; and multivitamins.', 'Men who scored highest on the USDA’s original Healthy Eating Index (meaning their diets most closely followed federal recommendations) reduced their overall risk of developing heart disease, cancer, or other chronic disease by 11% over 8 to 12 years of follow-up compared to those who scored lowest.', 'Women who most closely followed the government’s recommendations were only 3% less likely to have developed a chronic disease.', '[5] In comparison, scores on the Alternate Healthy Eating Index did appear to correlate more closely with better health in both sexes.', 'Men with high scores (those whose diets most closely followed the Healthy Eating Pyramid guidelines) were 20% less likely to have developed a major chronic disease than those with low scores.', 'Women with high scores lowered their overall risk by 11%.', 'Men whose diets most closely followed the Healthy Eating Pyramid lowered their risk of cardiovascular disease by almost 40%; women with high scores lowered their risk by almost 30%.', 'In a 2014 study looking at trends in diet quality among adults in the U.S., researchers using the Alternate Healthy Eating Index found that there was steady improvement from 1999 to 2010, but that overall dietary quality remains poor.', '[6]\\n\\nTwo studies offer further evidence of the disease prevention benefits that accrue from following a diet similar to one based on the Healthy Eating Pyramid: A study that tracked 7,319 British civil servants for 18 years found that men and women with the highest scores on the Alternate Healthy Eating Index had a 25% lower risk of dying from any cause, and a 42% lower risk of dying from heart disease, than people with the lowest scores.', '[3]\\n\\nAnother observational study in 93,676 post-menopausal women found that following a Healthy Eating Pyramid-style diet (as measured by adherence to the Alternative Healthy Eating Index) was superior to following a low-fat diet at lowering cardiovascular disease and heart failure risk.', '[1]\\n\\nPermissions for Use\\n\\nThe Healthy Eating Plate image is owned by Harvard University.', 'The downloadable version may be used, without permission, for educational and other non-commercial uses with proper attribution, including the following copyright notification and credit line:\\n\\nCopyright © 2011, Harvard University.', 'For more information about The Healthy Eating Plate, please see The Nutrition Source, Department of Nutrition, Harvard T.H.', 'Chan School of Public Health, www.thenutritionsource.org, and Harvard Health Publications, www.health.harvard.edu.', 'Terms of Use\\n\\nThe contents of this website are for educational purposes and are not intended to offer personal medical advice.', 'You should seek the advice of your physician or other qualified health provider with any questions you may have regarding a medical condition.', 'Never disregard professional medical advice or delay in seeking it because of something you have read on this website.', 'The Nutrition Source does not recommend or endorse any products.']\n"
          ]
        }
      ]
    },
    {
      "cell_type": "markdown",
      "metadata": {
        "id": "BwZJxAlU-uQ0"
      },
      "source": [
        "## Bot respons"
      ]
    },
    {
      "cell_type": "code",
      "metadata": {
        "id": "e3vA1v5G-sju"
      },
      "source": [
        "#a function to return a random greeting response to a users greeting\n",
        "def greeting_response(text):\n",
        "    text = text.lower()\n",
        "    \n",
        "    #Bots greeting respone\n",
        "    bot_greetings = ['hey','hi','hello','hola',\"welcome\"]\n",
        "    \n",
        "    #Users greeting\n",
        "    user_greetings = ['hi','hey','hello','greetings','wassup']\n",
        "    \n",
        "    for word in text.split():\n",
        "        if word in user_greetings:\n",
        "            return random.choice(bot_greetings)\n",
        "        \n",
        "    #Random response to greeting\n",
        "    def gratitude_response(text):\n",
        "        text=text.lower()\n",
        "   "
      ],
      "execution_count": null,
      "outputs": []
    },
    {
      "cell_type": "markdown",
      "metadata": {
        "id": "G-pT84st_nx1"
      },
      "source": [
        "## sorting"
      ]
    },
    {
      "cell_type": "code",
      "metadata": {
        "id": "jHJR1yAk_cVH"
      },
      "source": [
        " def index_sort(list_var):\n",
        "    length = len(list_var)\n",
        "    list_index = list(range(0, length))\n",
        "    \n",
        "    x = list_var        \n",
        "    for i in range(length):\n",
        "        for j in range(length):\n",
        "            if x[list_index[i]] > x[list_index[j]]:\n",
        "                #swap\n",
        "                temp = list_index[i]\n",
        "                list_index[i] = list_index[j]\n",
        "                list_index[j] = temp\n",
        "                \n",
        "    return list_index"
      ],
      "execution_count": null,
      "outputs": []
    },
    {
      "cell_type": "code",
      "metadata": {
        "id": "yqJj4tcUAB2e"
      },
      "source": [
        "# Creat Bots Response\n",
        "def bot_response(user_input):\n",
        "    user_input=user_input.lower() #Merubah input dari user menjadi huruf kecil\n",
        "    sentence_list.append(user_input) #Memasukkan input user kedalam corpus yg kita punya (corpus disimpan dalam variabel sentence_list)\n",
        "    bot_response= '' #Inisialisasi variabel bot response\n",
        "\n",
        "    cm=CountVectorizer().fit_transform(sentence_list) #Melakukan ekstraksi fitur pada corpus yg kita punya menggunakan CountVectorizer (Bag of Word)\n",
        "\n",
        "    similarity_scores=cosine_similarity(cm[-1],cm) #Menghitung cosine similarity antara hasil fitur ekstraksi input user (cm[-1]) dengan semua data dalam corpus\n",
        "    similarity_scores_list=similarity_scores.flatten() #Merubah hasil perhitungan cosine similarity menjadi list 1D\n",
        "    index=index_sort(similarity_scores_list) #Melakukan sorting untuk index pada similarity score berdasarkan element yg terbesar, kemudian hasilnya disimpan pada list yg bernama index\n",
        "    index=index[1:] \n",
        "\n",
        "    response_flag=0 \n",
        "    for i in range(len(index)):\n",
        "        if similarity_scores_list[index[i]]>0.0:\n",
        "            bot_response=bot_response+' '+sentence_list[index[i]]\n",
        "            response_flag=1\n",
        "\n",
        "        if response_flag==0:\n",
        "            bot_response=bot_response+\" \"+\" Sorry , I dont understand\" #Jika respon_flag = 0 (tidak ada kata yg cocok) maka akan memberikan response  apologize, I dont understand.\n",
        "\n",
        "        sentence_list.remove(user_input) #Meremove user_input yg sudah dimasukkan kedalam sentence_list (Corpus yg kita punya).\n",
        "\n",
        "        return bot_response"
      ],
      "execution_count": null,
      "outputs": []
    },
    {
      "cell_type": "code",
      "metadata": {
        "colab": {
          "base_uri": "https://localhost:8080/",
          "height": 598
        },
        "id": "IGUs0ja_A8BG",
        "outputId": "fa4551b8-0fd8-4d39-a8eb-28593fd52063"
      },
      "source": [
        "#Start Chat\n",
        "print(\"hello plate: holla I am Hello plate and I will answer your queries about Healthy Eating, if you want to exit type, bye  ?\")\n",
        "\n",
        "exit_list=['exit','bye','by','see you later','quit','ok']\n",
        "\n",
        "while(True):\n",
        "    user_input=input() #mengambil input pada user\n",
        "    if user_input.lower() in exit_list: #kalau input dari user ada didalam exit_list maka program akan berhenti\n",
        "        print('hello plate : Bye Bye See you later, thanks')\n",
        "        break\n",
        "    else:\n",
        "        if greeting_response(user_input)!= None: #Mengecek apakah input dari user masuk kedalam greeting atau bukan\n",
        "            print('hello plate : '+ greeting_response(user_input)) #Jika masuk kedalam greeting maka bot akan melakukan response terhadap greeting tersebut\n",
        "        else:\n",
        "            print('hello plate : '+ bot_response(user_input)) #Jika bukan, maka bot akan memanggil fungsi bot_response untuk menentukan respon apa yg akan ia keluarkan sesuai dengan input dari user"
      ],
      "execution_count": null,
      "outputs": [
        {
          "output_type": "stream",
          "name": "stdout",
          "text": [
            "hello plate: holla I am Hello plate and I will answer your queries about Healthy Eating, if you want to exit type, bye  ?\n"
          ]
        },
        {
          "output_type": "error",
          "ename": "KeyboardInterrupt",
          "evalue": "ignored",
          "traceback": [
            "\u001b[0;31m---------------------------------------------------------------------------\u001b[0m",
            "\u001b[0;31mKeyboardInterrupt\u001b[0m                         Traceback (most recent call last)",
            "\u001b[0;32m/usr/local/lib/python3.7/dist-packages/ipykernel/kernelbase.py\u001b[0m in \u001b[0;36m_input_request\u001b[0;34m(self, prompt, ident, parent, password)\u001b[0m\n\u001b[1;32m    728\u001b[0m             \u001b[0;32mtry\u001b[0m\u001b[0;34m:\u001b[0m\u001b[0;34m\u001b[0m\u001b[0;34m\u001b[0m\u001b[0m\n\u001b[0;32m--> 729\u001b[0;31m                 \u001b[0mident\u001b[0m\u001b[0;34m,\u001b[0m \u001b[0mreply\u001b[0m \u001b[0;34m=\u001b[0m \u001b[0mself\u001b[0m\u001b[0;34m.\u001b[0m\u001b[0msession\u001b[0m\u001b[0;34m.\u001b[0m\u001b[0mrecv\u001b[0m\u001b[0;34m(\u001b[0m\u001b[0mself\u001b[0m\u001b[0;34m.\u001b[0m\u001b[0mstdin_socket\u001b[0m\u001b[0;34m,\u001b[0m \u001b[0;36m0\u001b[0m\u001b[0;34m)\u001b[0m\u001b[0;34m\u001b[0m\u001b[0;34m\u001b[0m\u001b[0m\n\u001b[0m\u001b[1;32m    730\u001b[0m             \u001b[0;32mexcept\u001b[0m \u001b[0mException\u001b[0m\u001b[0;34m:\u001b[0m\u001b[0;34m\u001b[0m\u001b[0;34m\u001b[0m\u001b[0m\n",
            "\u001b[0;32m/usr/local/lib/python3.7/dist-packages/jupyter_client/session.py\u001b[0m in \u001b[0;36mrecv\u001b[0;34m(self, socket, mode, content, copy)\u001b[0m\n\u001b[1;32m    802\u001b[0m         \u001b[0;32mtry\u001b[0m\u001b[0;34m:\u001b[0m\u001b[0;34m\u001b[0m\u001b[0;34m\u001b[0m\u001b[0m\n\u001b[0;32m--> 803\u001b[0;31m             \u001b[0mmsg_list\u001b[0m \u001b[0;34m=\u001b[0m \u001b[0msocket\u001b[0m\u001b[0;34m.\u001b[0m\u001b[0mrecv_multipart\u001b[0m\u001b[0;34m(\u001b[0m\u001b[0mmode\u001b[0m\u001b[0;34m,\u001b[0m \u001b[0mcopy\u001b[0m\u001b[0;34m=\u001b[0m\u001b[0mcopy\u001b[0m\u001b[0;34m)\u001b[0m\u001b[0;34m\u001b[0m\u001b[0;34m\u001b[0m\u001b[0m\n\u001b[0m\u001b[1;32m    804\u001b[0m         \u001b[0;32mexcept\u001b[0m \u001b[0mzmq\u001b[0m\u001b[0;34m.\u001b[0m\u001b[0mZMQError\u001b[0m \u001b[0;32mas\u001b[0m \u001b[0me\u001b[0m\u001b[0;34m:\u001b[0m\u001b[0;34m\u001b[0m\u001b[0;34m\u001b[0m\u001b[0m\n",
            "\u001b[0;32m/usr/local/lib/python3.7/dist-packages/zmq/sugar/socket.py\u001b[0m in \u001b[0;36mrecv_multipart\u001b[0;34m(self, flags, copy, track)\u001b[0m\n\u001b[1;32m    624\u001b[0m         \"\"\"\n\u001b[0;32m--> 625\u001b[0;31m         \u001b[0mparts\u001b[0m \u001b[0;34m=\u001b[0m \u001b[0;34m[\u001b[0m\u001b[0mself\u001b[0m\u001b[0;34m.\u001b[0m\u001b[0mrecv\u001b[0m\u001b[0;34m(\u001b[0m\u001b[0mflags\u001b[0m\u001b[0;34m,\u001b[0m \u001b[0mcopy\u001b[0m\u001b[0;34m=\u001b[0m\u001b[0mcopy\u001b[0m\u001b[0;34m,\u001b[0m \u001b[0mtrack\u001b[0m\u001b[0;34m=\u001b[0m\u001b[0mtrack\u001b[0m\u001b[0;34m)\u001b[0m\u001b[0;34m]\u001b[0m\u001b[0;34m\u001b[0m\u001b[0;34m\u001b[0m\u001b[0m\n\u001b[0m\u001b[1;32m    626\u001b[0m         \u001b[0;31m# have first part already, only loop while more to receive\u001b[0m\u001b[0;34m\u001b[0m\u001b[0;34m\u001b[0m\u001b[0;34m\u001b[0m\u001b[0m\n",
            "\u001b[0;32mzmq/backend/cython/socket.pyx\u001b[0m in \u001b[0;36mzmq.backend.cython.socket.Socket.recv\u001b[0;34m()\u001b[0m\n",
            "\u001b[0;32mzmq/backend/cython/socket.pyx\u001b[0m in \u001b[0;36mzmq.backend.cython.socket.Socket.recv\u001b[0;34m()\u001b[0m\n",
            "\u001b[0;32mzmq/backend/cython/socket.pyx\u001b[0m in \u001b[0;36mzmq.backend.cython.socket._recv_copy\u001b[0;34m()\u001b[0m\n",
            "\u001b[0;32m/usr/local/lib/python3.7/dist-packages/zmq/backend/cython/checkrc.pxd\u001b[0m in \u001b[0;36mzmq.backend.cython.checkrc._check_rc\u001b[0;34m()\u001b[0m\n",
            "\u001b[0;31mKeyboardInterrupt\u001b[0m: ",
            "\nDuring handling of the above exception, another exception occurred:\n",
            "\u001b[0;31mKeyboardInterrupt\u001b[0m                         Traceback (most recent call last)",
            "\u001b[0;32m<ipython-input-12-6ba8dec3a1b7>\u001b[0m in \u001b[0;36m<module>\u001b[0;34m()\u001b[0m\n\u001b[1;32m      5\u001b[0m \u001b[0;34m\u001b[0m\u001b[0m\n\u001b[1;32m      6\u001b[0m \u001b[0;32mwhile\u001b[0m\u001b[0;34m(\u001b[0m\u001b[0;32mTrue\u001b[0m\u001b[0;34m)\u001b[0m\u001b[0;34m:\u001b[0m\u001b[0;34m\u001b[0m\u001b[0;34m\u001b[0m\u001b[0m\n\u001b[0;32m----> 7\u001b[0;31m     \u001b[0muser_input\u001b[0m\u001b[0;34m=\u001b[0m\u001b[0minput\u001b[0m\u001b[0;34m(\u001b[0m\u001b[0;34m)\u001b[0m \u001b[0;31m#mengambil input pada user\u001b[0m\u001b[0;34m\u001b[0m\u001b[0;34m\u001b[0m\u001b[0m\n\u001b[0m\u001b[1;32m      8\u001b[0m     \u001b[0;32mif\u001b[0m \u001b[0muser_input\u001b[0m\u001b[0;34m.\u001b[0m\u001b[0mlower\u001b[0m\u001b[0;34m(\u001b[0m\u001b[0;34m)\u001b[0m \u001b[0;32min\u001b[0m \u001b[0mexit_list\u001b[0m\u001b[0;34m:\u001b[0m \u001b[0;31m#kalau input dari user ada didalam exit_list maka program akan berhenti\u001b[0m\u001b[0;34m\u001b[0m\u001b[0;34m\u001b[0m\u001b[0m\n\u001b[1;32m      9\u001b[0m         \u001b[0mprint\u001b[0m\u001b[0;34m(\u001b[0m\u001b[0;34m'hello plate : Bye Bye See you later, thanks'\u001b[0m\u001b[0;34m)\u001b[0m\u001b[0;34m\u001b[0m\u001b[0;34m\u001b[0m\u001b[0m\n",
            "\u001b[0;32m/usr/local/lib/python3.7/dist-packages/ipykernel/kernelbase.py\u001b[0m in \u001b[0;36mraw_input\u001b[0;34m(self, prompt)\u001b[0m\n\u001b[1;32m    702\u001b[0m             \u001b[0mself\u001b[0m\u001b[0;34m.\u001b[0m\u001b[0m_parent_ident\u001b[0m\u001b[0;34m,\u001b[0m\u001b[0;34m\u001b[0m\u001b[0;34m\u001b[0m\u001b[0m\n\u001b[1;32m    703\u001b[0m             \u001b[0mself\u001b[0m\u001b[0;34m.\u001b[0m\u001b[0m_parent_header\u001b[0m\u001b[0;34m,\u001b[0m\u001b[0;34m\u001b[0m\u001b[0;34m\u001b[0m\u001b[0m\n\u001b[0;32m--> 704\u001b[0;31m             \u001b[0mpassword\u001b[0m\u001b[0;34m=\u001b[0m\u001b[0;32mFalse\u001b[0m\u001b[0;34m,\u001b[0m\u001b[0;34m\u001b[0m\u001b[0;34m\u001b[0m\u001b[0m\n\u001b[0m\u001b[1;32m    705\u001b[0m         )\n\u001b[1;32m    706\u001b[0m \u001b[0;34m\u001b[0m\u001b[0m\n",
            "\u001b[0;32m/usr/local/lib/python3.7/dist-packages/ipykernel/kernelbase.py\u001b[0m in \u001b[0;36m_input_request\u001b[0;34m(self, prompt, ident, parent, password)\u001b[0m\n\u001b[1;32m    732\u001b[0m             \u001b[0;32mexcept\u001b[0m \u001b[0mKeyboardInterrupt\u001b[0m\u001b[0;34m:\u001b[0m\u001b[0;34m\u001b[0m\u001b[0;34m\u001b[0m\u001b[0m\n\u001b[1;32m    733\u001b[0m                 \u001b[0;31m# re-raise KeyboardInterrupt, to truncate traceback\u001b[0m\u001b[0;34m\u001b[0m\u001b[0;34m\u001b[0m\u001b[0;34m\u001b[0m\u001b[0m\n\u001b[0;32m--> 734\u001b[0;31m                 \u001b[0;32mraise\u001b[0m \u001b[0mKeyboardInterrupt\u001b[0m\u001b[0;34m\u001b[0m\u001b[0;34m\u001b[0m\u001b[0m\n\u001b[0m\u001b[1;32m    735\u001b[0m             \u001b[0;32melse\u001b[0m\u001b[0;34m:\u001b[0m\u001b[0;34m\u001b[0m\u001b[0;34m\u001b[0m\u001b[0m\n\u001b[1;32m    736\u001b[0m                 \u001b[0;32mbreak\u001b[0m\u001b[0;34m\u001b[0m\u001b[0;34m\u001b[0m\u001b[0m\n",
            "\u001b[0;31mKeyboardInterrupt\u001b[0m: "
          ]
        }
      ]
    },
    {
      "cell_type": "markdown",
      "metadata": {
        "id": "VYOmi_6fEA19"
      },
      "source": [
        "### B indo\n"
      ]
    },
    {
      "cell_type": "code",
      "metadata": {
        "id": "mRk_DpcJKHM_"
      },
      "source": [
        "'https://www.kompas.com/stori/read/2021/05/20/110016179/kerajaan-pajajaran-berdirinya-raja-raja-keruntuhan-dan-peninggalan?page=all'and'https://sejarahlengkap.com/indonesia/kerajaan/sejarah-kerajaan-pajajaran')"
      ],
      "execution_count": null,
      "outputs": []
    },
    {
      "cell_type": "code",
      "metadata": {
        "colab": {
          "base_uri": "https://localhost:8080/"
        },
        "id": "81B56gfsEAOm",
        "outputId": "16a98195-af48-4edf-a3bf-d3c43c32e22a"
      },
      "source": [
        "article = Article('https://www.cnnindonesia.com/nasional/20210607163129-31-651351/kerajaan-pajajaran-masa-kejayaan-dan-jejak-peninggalan')\n",
        "article.download()\n",
        "article.parse()\n",
        "article.nlp()\n",
        "corpus = article.text\n",
        "print(corpus)"
      ],
      "execution_count": null,
      "outputs": [
        {
          "output_type": "stream",
          "name": "stdout",
          "text": [
            "Jakarta, CNN Indonesia --\n",
            "\n",
            "Kerajaan Pajajaran adalah kerajaan di Nusantara yang terletak di Jawa Barat. Kerajaan Pajajaran memiliki sejarah panjang saat berdiri dan pada masa kejayaanya hingga meninggalkan jejak peninggalan yang bisa dilihat hingga saat ini.\n",
            "\n",
            "Kerajaan Pajajaran dikenal juga dengan naman lain Kerajaan Sunda atau Negeri Sunda atau disebut Pasundan. Letak kerajaan ini di masa lampau bukanlah terletak di Bandung yang kini menjadi Ibu Kota Jawa Barat, melainkan di Pakuan atau saat ini Bogor.\n",
            "\n",
            "Awal Mula Kerajaan Pajajaran\n",
            "\n",
            "Kerajaan Pajajaran berdiri pada tahun 923 M dan berakhir pada 1597 M. Menurut naskah kuno Carita Parahiyangan yang ditulis pada abad ke-16 M, Kerajaan Pajajaran merupakan gabungan dua kerajaan yakni Kerajaan Sunda dan Kerajaan Galuh.\n",
            "\n",
            "Kerajaan Pajajaran adalah kerajaan Hindu yang terbentuk dari bersatunya Kerajaan Sunda dan Kerajaan Galuh. (Foto: Gunawan Kartapranata via Wikimedia Commons (CC-BY-SA-3.0) Kerajaan Pajajaran adalah kerajaan Hindu yang terbentuk dari bersatunya Kerajaan Sunda dan Kerajaan Galuh. (Foto: Gunawan Kartapranata via Wikimedia Commons (CC-BY-SA-3.0)\n",
            "\n",
            "Sebelum bergabung, kedua kerajaan itu masuk dalam wilayah kekuasaan Kerajaan Tarumanegara. Pasca Tarumanegara kalah dari Sriwijaya, kedua kerajaan memberontak dan melepaskan diri.\n",
            "\n",
            "Setelah melepaskan diri, Kerajaan Sunda dan Kerajaan Galuh mendeklarasikan diri sebagai kerajaan yang berdaulat.\n",
            "\n",
            "Konon, kedua kerajaan ini hampir berperang, setelah Raden Baribin dari Kerajaan Majapahit mengungsi ke Kerajaan Galuh. Raden Baribin diterima dengan baik oleh Raja Kerajaan Galuh, Dewa Niskala.\n",
            "\n",
            "Raden Baribin lalu menikahi salah satu anak dari Raja Dewa Niskala yakni Ratna Ayu Kirana. Pernikahan ini menyulut amarah Raja Susuktunggal dari Kerajaan Sunda.\n",
            "\n",
            "Dewa Niskala dianggap melanggar aturan adat yang telah ditetapkan setelah Peristiwa Bubat. Pertikaian kedua Raja pun berhasil diredam oleh Jayadewata, anak dari Raja Dewa Niskala yang juga menantu dari Raja Susuktunggal.\n",
            "\n",
            "Jayadewata mendamaikan dengan memberi syarat kedua Raja harus turun tahta dengan menunjuk seseorang untuk meneruskan tahtanya. Raja Dewa Niskala dan Raja Susuktunggal sepakat menyerahkan tampuk kekuasaan kepada Jayadewata.\n",
            "\n",
            "Terpilihnya Jayadewata sebagai Raja menandakan bersatunya kedua kerajaan tersebut. Jayadewata kemudian diberi gelar Sri Baduga Maharaja atau lebih dikenal sebagai Prabu Siliwangi yang memerintah Kerajaan Pajajaran pada 1482 hingga 1521 M.\n",
            "\n",
            "Masa Kejayaan Kerajaan Pajajaran\n",
            "\n",
            "Kerajaan Pajajaran meraih masa keemasan atau kejayaan pada era pemerintahan Sri Baduga Maharaja atau Prabu Siliwangi.\n",
            "\n",
            "Untuk menyejahterakan kerajaan dan rakyatnya, Prabu Siliwangi memberikan perhatian lebih pada pemuka agama. Selain itu, Prabu Siliwangi juga membuat ulang sistem pemungutan upeti.\n",
            "\n",
            "Prabu Siliwangi juga memperkuat kekuatan armada perang. Dia juga membangun dan memperkuat sistem pertahanan Ibu Kota dengan membuat parit pertahanan sehingga tidak mudah diserang Kerajaan lain.\n",
            "\n",
            "Kehancuran Kerajaan Pajajaran\n",
            "\n",
            "Kerajaan Pajajaran hancur setelah mendapat serangan dari sejumlah kerajaan Islam yakni Kerajaan Banten dengan bantuan Kerajaan Cirebon dan Kerajaan Demak.\n",
            "\n",
            "Awal mula kehancuran Kerajaan Pajajaran terjadi saat pengaruh ajaran Islam mulai menyebar di bumi Pasundan dan membuat resah Prabu Siliwangi.\n",
            "\n",
            "Upaya pembatasan pedagang muslim yang masuk dan singgah di Pelabuhan Kerajaan Sunda pun dilakukan. Namun, upaya ini tak berhasil.\n",
            "\n",
            "Tahun 1527, Kesultanan Banten dan Cirebon meningkatkan tekanan pada Kerajaan Pajajaran dengan merebut Pelabuhan Sunda Kelapa yang melemahkan Pajajaran dan Portugis.\n",
            "\n",
            "Lalu, pada tahun 1570 Raja Banten, Maulana Yusuf berhasil menaklukkan Kerajaan Pajajaran.\n",
            "\n",
            "Kerajaan Pajajaran merupakan kerajaan bercorak Hindu terakhir yang eksis di Pulau Jawa.\n",
            "\n",
            "Raja-Raja Kerajaan Pajajaran\n",
            "\n",
            "Semasa berdiri, Kerajaan Pajajaran hanya diperintah oleh enam raja sebelum akhirnya hancur. Keenam raja tersebut adalah sebagai berikut:\n",
            "\n",
            "Sri Baduga Maharaja atau Prabu Siliwangi(1482 - 1521 M) Surawisesa (1521 - 1535 M) Ratu Dewata (1535 - 1543 M) Ratu Sakti (1531 - 1551 M) Ratu Nilakendra (1551 - 1567 M) Raga Mulya (1567 - 1579 M)\n",
            "\n",
            "Peninggalan Kerajaan Pajajaran\n",
            "\n",
            "Sebagai salah satu kerajaan besar yang pernah ada di Indonesia, Kerajaan Pajajaran meninggalkan sejumlah jejak peninggalan. Peninggalan itu terdiri atas berbagai bentuk seperti kitab, prasasti, dan tugu.\n",
            "\n",
            "Berikut peninggalan Kerajaan Pajajaran yang masih bisa dilihat hingga saat ini.\n",
            "\n",
            "Prasasti Cikapundung\n",
            "\n",
            "Prasasti Pasir Datar\n",
            "\n",
            "Prasati Sunda Portugis\n",
            "\n",
            "Situs Karangmulyan\n",
            "\n",
            "Itulah sejarah Kerajaan Pajajaran beserta dengan masa kejayaan dan raja-raja yang berkuasa. Anda juga bisa melihat jejak peninggalan Kerajaan Pajajaran.\n"
          ]
        }
      ]
    },
    {
      "cell_type": "code",
      "metadata": {
        "colab": {
          "base_uri": "https://localhost:8080/"
        },
        "id": "jv9mSQQuQmlq",
        "outputId": "6efd2693-f5cd-4916-c3dd-a92f573a8b33"
      },
      "source": [
        "article = Article('https://www.cnnindonesia.com/nasional/20210607163129-31-651351/kerajaan-pajajaran-masa-kejayaan-dan-jejak-peninggalan')\n",
        "article2 = Article('https://phinemo.com/sejarah-kerajaan-pajajaran-dan-asal-usul-urang-sunda-di-jawa-barat/')\n",
        "article.download()\n",
        "article.parse()\n",
        "article.nlp()\n",
        "corpus = article.text\n",
        "print(corpus)"
      ],
      "execution_count": null,
      "outputs": [
        {
          "output_type": "stream",
          "name": "stdout",
          "text": [
            "Jakarta, CNN Indonesia --\n",
            "\n",
            "Kerajaan Pajajaran adalah kerajaan di Nusantara yang terletak di Jawa Barat. Kerajaan Pajajaran memiliki sejarah panjang saat berdiri dan pada masa kejayaanya hingga meninggalkan jejak peninggalan yang bisa dilihat hingga saat ini.\n",
            "\n",
            "Kerajaan Pajajaran dikenal juga dengan naman lain Kerajaan Sunda atau Negeri Sunda atau disebut Pasundan. Letak kerajaan ini di masa lampau bukanlah terletak di Bandung yang kini menjadi Ibu Kota Jawa Barat, melainkan di Pakuan atau saat ini Bogor.\n",
            "\n",
            "Awal Mula Kerajaan Pajajaran\n",
            "\n",
            "Kerajaan Pajajaran berdiri pada tahun 923 M dan berakhir pada 1597 M. Menurut naskah kuno Carita Parahiyangan yang ditulis pada abad ke-16 M, Kerajaan Pajajaran merupakan gabungan dua kerajaan yakni Kerajaan Sunda dan Kerajaan Galuh.\n",
            "\n",
            "Kerajaan Pajajaran adalah kerajaan Hindu yang terbentuk dari bersatunya Kerajaan Sunda dan Kerajaan Galuh. (Foto: Gunawan Kartapranata via Wikimedia Commons (CC-BY-SA-3.0) Kerajaan Pajajaran adalah kerajaan Hindu yang terbentuk dari bersatunya Kerajaan Sunda dan Kerajaan Galuh. (Foto: Gunawan Kartapranata via Wikimedia Commons (CC-BY-SA-3.0)\n",
            "\n",
            "Sebelum bergabung, kedua kerajaan itu masuk dalam wilayah kekuasaan Kerajaan Tarumanegara. Pasca Tarumanegara kalah dari Sriwijaya, kedua kerajaan memberontak dan melepaskan diri.\n",
            "\n",
            "Setelah melepaskan diri, Kerajaan Sunda dan Kerajaan Galuh mendeklarasikan diri sebagai kerajaan yang berdaulat.\n",
            "\n",
            "Konon, kedua kerajaan ini hampir berperang, setelah Raden Baribin dari Kerajaan Majapahit mengungsi ke Kerajaan Galuh. Raden Baribin diterima dengan baik oleh Raja Kerajaan Galuh, Dewa Niskala.\n",
            "\n",
            "Raden Baribin lalu menikahi salah satu anak dari Raja Dewa Niskala yakni Ratna Ayu Kirana. Pernikahan ini menyulut amarah Raja Susuktunggal dari Kerajaan Sunda.\n",
            "\n",
            "Dewa Niskala dianggap melanggar aturan adat yang telah ditetapkan setelah Peristiwa Bubat. Pertikaian kedua Raja pun berhasil diredam oleh Jayadewata, anak dari Raja Dewa Niskala yang juga menantu dari Raja Susuktunggal.\n",
            "\n",
            "Jayadewata mendamaikan dengan memberi syarat kedua Raja harus turun tahta dengan menunjuk seseorang untuk meneruskan tahtanya. Raja Dewa Niskala dan Raja Susuktunggal sepakat menyerahkan tampuk kekuasaan kepada Jayadewata.\n",
            "\n",
            "Terpilihnya Jayadewata sebagai Raja menandakan bersatunya kedua kerajaan tersebut. Jayadewata kemudian diberi gelar Sri Baduga Maharaja atau lebih dikenal sebagai Prabu Siliwangi yang memerintah Kerajaan Pajajaran pada 1482 hingga 1521 M.\n",
            "\n",
            "Masa Kejayaan Kerajaan Pajajaran\n",
            "\n",
            "Kerajaan Pajajaran meraih masa keemasan atau kejayaan pada era pemerintahan Sri Baduga Maharaja atau Prabu Siliwangi.\n",
            "\n",
            "Untuk menyejahterakan kerajaan dan rakyatnya, Prabu Siliwangi memberikan perhatian lebih pada pemuka agama. Selain itu, Prabu Siliwangi juga membuat ulang sistem pemungutan upeti.\n",
            "\n",
            "Prabu Siliwangi juga memperkuat kekuatan armada perang. Dia juga membangun dan memperkuat sistem pertahanan Ibu Kota dengan membuat parit pertahanan sehingga tidak mudah diserang Kerajaan lain.\n",
            "\n",
            "Kehancuran Kerajaan Pajajaran\n",
            "\n",
            "Kerajaan Pajajaran hancur setelah mendapat serangan dari sejumlah kerajaan Islam yakni Kerajaan Banten dengan bantuan Kerajaan Cirebon dan Kerajaan Demak.\n",
            "\n",
            "Awal mula kehancuran Kerajaan Pajajaran terjadi saat pengaruh ajaran Islam mulai menyebar di bumi Pasundan dan membuat resah Prabu Siliwangi.\n",
            "\n",
            "Upaya pembatasan pedagang muslim yang masuk dan singgah di Pelabuhan Kerajaan Sunda pun dilakukan. Namun, upaya ini tak berhasil.\n",
            "\n",
            "Tahun 1527, Kesultanan Banten dan Cirebon meningkatkan tekanan pada Kerajaan Pajajaran dengan merebut Pelabuhan Sunda Kelapa yang melemahkan Pajajaran dan Portugis.\n",
            "\n",
            "Lalu, pada tahun 1570 Raja Banten, Maulana Yusuf berhasil menaklukkan Kerajaan Pajajaran.\n",
            "\n",
            "Kerajaan Pajajaran merupakan kerajaan bercorak Hindu terakhir yang eksis di Pulau Jawa.\n",
            "\n",
            "Raja-Raja Kerajaan Pajajaran\n",
            "\n",
            "Semasa berdiri, Kerajaan Pajajaran hanya diperintah oleh enam raja sebelum akhirnya hancur. Keenam raja tersebut adalah sebagai berikut:\n",
            "\n",
            "Sri Baduga Maharaja atau Prabu Siliwangi(1482 - 1521 M) Surawisesa (1521 - 1535 M) Ratu Dewata (1535 - 1543 M) Ratu Sakti (1531 - 1551 M) Ratu Nilakendra (1551 - 1567 M) Raga Mulya (1567 - 1579 M)\n",
            "\n",
            "Peninggalan Kerajaan Pajajaran\n",
            "\n",
            "Sebagai salah satu kerajaan besar yang pernah ada di Indonesia, Kerajaan Pajajaran meninggalkan sejumlah jejak peninggalan. Peninggalan itu terdiri atas berbagai bentuk seperti kitab, prasasti, dan tugu.\n",
            "\n",
            "Berikut peninggalan Kerajaan Pajajaran yang masih bisa dilihat hingga saat ini.\n",
            "\n",
            "Prasasti Cikapundung\n",
            "\n",
            "Prasasti Pasir Datar\n",
            "\n",
            "Prasati Sunda Portugis\n",
            "\n",
            "Situs Karangmulyan\n",
            "\n",
            "Itulah sejarah Kerajaan Pajajaran beserta dengan masa kejayaan dan raja-raja yang berkuasa. Anda juga bisa melihat jejak peninggalan Kerajaan Pajajaran.\n"
          ]
        }
      ]
    },
    {
      "cell_type": "code",
      "metadata": {
        "colab": {
          "base_uri": "https://localhost:8080/"
        },
        "id": "AvTy5v4rTZqA",
        "outputId": "0e9660e6-b2c0-4a33-a0e3-64258534a466"
      },
      "source": [
        "article2.download()\n",
        "article2.parse()\n",
        "article2.nlp()\n",
        "corpus2 = article2.text\n",
        "print(corpus2)"
      ],
      "execution_count": null,
      "outputs": [
        {
          "output_type": "stream",
          "name": "stdout",
          "text": [
            "Sejarah Kerajaan Pajajaran atau Kerajaan Sunda dimulai pada tahun 1130 M dan berakhir di tahun 1579 M. Pajajaran adalah kerajaan Hindu terkahir di Jawa.\n",
            "\n",
            "SHARE :\n",
            "\n",
            "Ditulis Oleh: Taufiqur Rohman\n",
            "\n",
            "Sejarah Kerajaan Pajajaran atau juga dikenal sebagai Kerajaan Sunda dimulai pada tahun 1130 M dan berakhir di tahun 1579 M. Pajajaran adalah kerajaan Hindu di Tatar Pasundan yang didirikan oleh orang-orang dari etnis Sunda. Kerajaan ini bukanlah kerajaan kecil dan lemah, dalam riwayatnya diceritakan bahwa Kerajaan Singasari dan Majapahit yang menguasai hampir seluruh wilayah Asia Tenggara bahkan tidak mampu untuk menaklukannya.\n",
            "\n",
            "Luas Kerajaan Pajajaran hanya sepertiga atau seperdelapan Pulau Jawa, berbagai wilayah kekuasaan dengan Kerajaan Majapahit kala itu. Pajajaran menguasai wilayah seluas 300 league atau sekitar 1176 km, mencakup Pelabuhan Sunda Kelapa, Pelabuhan Cimanuk, dan Sungai Cimanuk. Dari catatan sejarah, diketahui pusat pemerintahan atau ibukota terakhir Pajajaran sebelum hancur oleh pasukan Islam dari Demak dan Banten berada di sebuah kota bernama Dayo.\n",
            "\n",
            "Para ahli meyakini, Dayo yang dimaksud adalah kawasan yang meliputi Kabupaten Bogor dan Kota Bogor di Jawa Barat. Hal ini diketahui dari sejumlah naskah-naskah kuno dan catatan perjalanan penjelajah Eropa. Tome Pires dalam catatan perjalanannya Suma Oriental menyebut bahwa Dayo menjadi kota yang paling sering ditinggali oleh Raja Pajajaran. Raja memiliki istana yang sangat megah, dibangun dengan 330 pilar kayu setinggi lima depa, dengan ukiran indah di atasnya.\n",
            "\n",
            "Banyak perdebatan terkait keberadaan Dayo, penjelajah Eropa setelah Pires mengaku tidak menjumpainya. Barulah pada 1856, Crawfud berhasil memecahkannya. Selama menjabat di Jawa ia melakukan penelitian yang dicatat dalam A Descriptive Dictionary of the Indian Islands and Adjent Countries. Crawfud menjelaskan di Buitenzorg (Bogor) adalah ibukota Kerajaan Pajajaran karena ditemukan bekas fondasi istana, banyak sekali puing-puing bebatuan serta prasasti.\n",
            "\n",
            "Tidak jauh berbeda dari kesaksian orang-orang Eropa, informasi dari naskah kuno atau prasasti juga menyebut pusat Kerajaan Pajajaran berada di Bogor, yang dalam Prasasti Batu Tulis disebut Pakuan. Ibukota Pajajaran sempat berpindah-pindah, secara kronologis di Galuh, Pakuan, Saunggalah, Pakuan, Kawali, dan Pakuan. Wilayah ibukota ini dibagi ke dalam dua bagian yakni Kota Dalam dan Kota Luar yang dibatasi oleh benteng alam berupa bukit memanjang di sebelah timur.\n",
            "\n",
            "Struktur ibukota juga diperkuat oleh sungai alam, parit kecil yang melewati bagian barat keraton, dan benteng buatan di selatan. Benteng yang berlapis-lapis ini dibuat untuk menangkis serangan pasukan Islam dari luar (Demak, Banten, Cirebon). Pada tahun 1579 M, kekhawatiran tersebut benar-benar terwujud. Kerajaan Pajajaran benar-benar hancur oleh pasukan Islam setelah melalui pertempuran sengit. Kerajaan Pajajaran pun berakhir di Pakuan, yang sekarang menjadi Bogor.\n",
            "\n",
            "Asal-Usul Urang Sunda\n",
            "\n",
            "Kerajaan Pajajaran dapat dikatakan sebagai awal mula eksistensi orang-orang sunda di Indonesia. Keteguhan mereka dalam mempertahankan adat dan budayanya dari pengaruh Jawa oleh Kerajaan Majapahit, membuatnya sedikit berbeda dengan orang-orang yang tinggal di Pulau Jawa pada umumnya. Sikap Pajajaran yang enggan tunduk kepada Majapahit membuat tidak adanya percampuran budaya antara Sunda maupun Jawa. Sehingga adat budaya dan bahasa Sunda masih terus lestari hingga kini.\n",
            "\n",
            "Jika saja dahulu Pajajaran bekerjasama dengan Majapahit mungkin saja akan terjadi akulturasi budaya dan tercipta rumpun suku baru dengan adat budaya serta bahasa baru. Bukan tanpa dasar, dahulu hal ini juga pernah terjadi antara Kerajaan Blambangan dan Kerajaan Bali yang menghasilkan Suku Osing di Banyuwangi. Adat budaya dan bahasa mereka tidak sama dengan Jawa maupun Bali, namun memiliki kemiripan dengan keduanya.\n"
          ]
        }
      ]
    },
    {
      "cell_type": "code",
      "metadata": {
        "colab": {
          "base_uri": "https://localhost:8080/",
          "height": 129
        },
        "id": "c8c4vdo9EsEK",
        "outputId": "0f180d57-a53b-435d-9853-2943bdab6e0c"
      },
      "source": [
        "# Tokenization\n",
        "text = corpus\n",
        "sentence_list = nltk.sent_tokenize(text) #A list of senetences\n",
        "\n",
        "for i nltk.sent_tokenize(corpus2):\n",
        "  sentence_list.append(i)\n",
        "\n",
        "# Print the list of sentences\n",
        "print(sentence_list)"
      ],
      "execution_count": null,
      "outputs": [
        {
          "output_type": "error",
          "ename": "SyntaxError",
          "evalue": "ignored",
          "traceback": [
            "\u001b[0;36m  File \u001b[0;32m\"<ipython-input-10-02779184ae35>\"\u001b[0;36m, line \u001b[0;32m5\u001b[0m\n\u001b[0;31m    for i nltk.sent_tokenize(corpus2):\u001b[0m\n\u001b[0m             ^\u001b[0m\n\u001b[0;31mSyntaxError\u001b[0m\u001b[0;31m:\u001b[0m invalid syntax\n"
          ]
        }
      ]
    },
    {
      "cell_type": "code",
      "metadata": {
        "id": "jyoz4diSExUl"
      },
      "source": [
        "#a function to return a random greeting response to a users greeting\n",
        "def greeting_response(text):\n",
        "    text = text.lower()\n",
        "    \n",
        "    #Bots greeting respone\n",
        "    bot_greetings = ['halo','hai','yuhuu','*eyebrows up*','sampurasun']\n",
        "    \n",
        "    #Users greeting\n",
        "    user_greetings = ['Haloo','Eh iyaa Haii','Hai','greetings','wassup','rampes']\n",
        "    \n",
        "    for word in text.split():\n",
        "        if word in user_greetings:\n",
        "            return random.choice(bot_greetings)\n",
        "        \n",
        "    #Random response to greeting\n",
        "    def gratitude_response(text):\n",
        "        text=text.lower()"
      ],
      "execution_count": null,
      "outputs": []
    },
    {
      "cell_type": "code",
      "metadata": {
        "id": "tsT_x215FJ5n"
      },
      "source": [
        " def index_sort(list_var):\n",
        "    length = len(list_var)\n",
        "    list_index = list(range(0, length))\n",
        "    \n",
        "    x = list_var        \n",
        "    for i in range(length):\n",
        "        for j in range(length):\n",
        "            if x[list_index[i]] > x[list_index[j]]:\n",
        "                #swap\n",
        "                temp = list_index[i]\n",
        "                list_index[i] = list_index[j]\n",
        "                list_index[j] = temp\n",
        "                \n",
        "    return list_index"
      ],
      "execution_count": null,
      "outputs": []
    },
    {
      "cell_type": "code",
      "metadata": {
        "id": "wdAKZjhEFLQs"
      },
      "source": [
        "# Creat Bots Response\n",
        "def bot_response(user_input):\n",
        "    user_input=user_input.lower() #Merubah input dari user menjadi huruf kecil\n",
        "    sentence_list.append(user_input) #Memasukkan input user kedalam corpus yg kita punya (corpus disimpan dalam variabel sentence_list)\n",
        "    bot_response= '' #Inisialisasi variabel bot response\n",
        "\n",
        "    cm=CountVectorizer().fit_transform(sentence_list) #Melakukan ekstraksi fitur pada corpus yg kita punya menggunakan CountVectorizer (Bag of Word)\n",
        "\n",
        "    similarity_scores=cosine_similarity(cm[-1],cm) #Menghitung cosine similarity antara hasil fitur ekstraksi input user (cm[-1]) dengan semua data dalam corpus\n",
        "    similarity_scores_list=similarity_scores.flatten() #Merubah hasil perhitungan cosine similarity menjadi list 1D\n",
        "    index=index_sort(similarity_scores_list) #Melakukan sorting untuk index pada similarity score berdasarkan element yg terbesar, kemudian hasilnya disimpan pada list yg bernama index\n",
        "    index=index[1:] \n",
        "\n",
        "    response_flag=0 \n",
        "    for i in range(len(index)):\n",
        "        if similarity_scores_list[index[i]]>0.0:\n",
        "            bot_response=bot_response+' '+sentence_list[index[i]]\n",
        "            response_flag=1\n",
        "            \n",
        "        if response_flag==0:\n",
        "            bot_response=bot_response+\" \"+\"Punten saya gak ngerti\" #Jika respon_flag = 0 (tidak ada kata yg cocok) maka akan memberikan response  apologize, I dont understand.\n",
        "\n",
        "        sentence_list.remove(user_input) #Meremove user_input yg sudah dimasukkan kedalam sentence_list (Corpus yg kita punya).\n",
        "\n",
        "        return bot_response"
      ],
      "execution_count": null,
      "outputs": []
    },
    {
      "cell_type": "code",
      "metadata": {
        "colab": {
          "base_uri": "https://localhost:8080/"
        },
        "id": "xOu7RqFjFZso",
        "outputId": "2b30e14a-1b34-4a79-bca3-aa77a9807ba4"
      },
      "source": [
        "#Start Chat\n",
        "print(\"Sejarahku: Mau nanya apa kamu tentang Sejarah kerajaan pasundan?, kalo mau berhenti bisa ketik exit \")\n",
        "\n",
        "exit_list=['exit','bye','keluar','quit', 'sampai jumpa','cukup','makasih','nuhun']\n",
        "\n",
        "while(True):\n",
        "    user_input=input() #mengambil input pada user\n",
        "    if user_input.lower() in exit_list: #kalau input dari user ada didalam exit_list maka program akan berhenti\n",
        "        print('Sejarahku: Bye Bye Sampai Jumpa Lagi, hatur nuhun')\n",
        "        break\n",
        "    else:\n",
        "        if greeting_response(user_input)!= None: #Mengecek apakah input dari user masuk kedalam greeting atau bukan\n",
        "            print('Sejarahku: '+ greeting_response(user_input)) #Jika masuk kedalam greeting maka bot akan melakukan response terhadap greeting tersebut\n",
        "        else:\n",
        "            print('Sejarahku: '+ bot_response(user_input)) #Jika bukan, maka bot akan memanggil fungsi bot_response untuk menentukan respon apa yg akan ia keluarkan sesuai dengan input dari user"
      ],
      "execution_count": null,
      "outputs": [
        {
          "output_type": "stream",
          "name": "stdout",
          "text": [
            "Sejarahku: Mau nanya apa kamu tentang Sejarah kerajaan pasundan?, kalo mau berhenti bisa ketik exit \n",
            "raja\n",
            "Sejarahku:  Raja-Raja Kerajaan Pajajaran\n",
            "\n",
            "Semasa berdiri, Kerajaan Pajajaran hanya diperintah oleh enam raja sebelum akhirnya hancur.\n",
            "surawisesa\n",
            "Sejarahku:  Keenam raja tersebut adalah sebagai berikut:\n",
            "\n",
            "Sri Baduga Maharaja atau Prabu Siliwangi(1482 - 1521 M) Surawisesa (1521 - 1535 M) Ratu Dewata (1535 - 1543 M) Ratu Sakti (1531 - 1551 M) Ratu Nilakendra (1551 - 1567 M) Raga Mulya (1567 - 1579 M)\n",
            "\n",
            "Peninggalan Kerajaan Pajajaran\n",
            "\n",
            "Sebagai salah satu kerajaan besar yang pernah ada di Indonesia, Kerajaan Pajajaran meninggalkan sejumlah jejak peninggalan.\n"
          ]
        }
      ]
    }
  ]
}